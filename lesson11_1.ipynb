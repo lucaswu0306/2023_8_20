{
  "cells": [
    {
      "cell_type": "markdown",
      "metadata": {
        "colab_type": "text",
        "id": "view-in-github"
      },
      "source": [
        "<a href=\"https://colab.research.google.com/github/lucaswu0306/2023_8_20/blob/main/lesson11_1.ipynb\" target=\"_parent\"><img src=\"https://colab.research.google.com/assets/colab-badge.svg\" alt=\"Open In Colab\"/></a>"
      ]
    },
    {
      "cell_type": "code",
      "execution_count": 20,
      "metadata": {
        "colab": {
          "base_uri": "https://localhost:8080/"
        },
        "id": "5Y0PBmKuoCKx",
        "outputId": "80daf3a2-2e2b-4b28-cbe2-4ad11c7df8b2"
      },
      "outputs": [
        {
          "name": "stdout",
          "output_type": "stream",
          "text": [
            "[89, 56, 63, 45, 66]\n",
            "[88, 74, 55, 89, 72]\n",
            "[63, 54, 99, 95, 77]\n"
          ]
        }
      ],
      "source": [
        "score1 = [89, 56, 63, 45, 66]\n",
        "score2 = [88, 74, 55, 89, 72]\n",
        "score3 = [63, 54, 99, 95, 77]\n",
        "\n",
        "students = [score1, score2, score3]#建立\n",
        "\n",
        "for student in students: #取出第2維的資料\n",
        "  print(student)"
      ]
    },
    {
      "cell_type": "code",
      "execution_count": 21,
      "metadata": {
        "colab": {
          "base_uri": "https://localhost:8080/"
        },
        "id": "OHprpzyXstAC",
        "outputId": "eb5aa16b-85c6-4b9b-f36a-6c7444cd56be"
      },
      "outputs": [
        {
          "data": {
            "text/plain": [
              "[72, 67, 71, 51, 58]"
            ]
          },
          "execution_count": 21,
          "metadata": {},
          "output_type": "execute_result"
        }
      ],
      "source": [
        "import random\n",
        "score = []\n",
        "for i in range(5):\n",
        "  score.append(random.randint(50, 100))\n",
        "score\n"
      ]
    },
    {
      "cell_type": "code",
      "execution_count": 22,
      "metadata": {
        "colab": {
          "base_uri": "https://localhost:8080/"
        },
        "id": "8Cv_kQxHvvqH",
        "outputId": "99f9d3be-42ac-4c80-c9f8-597a60304041"
      },
      "outputs": [
        {
          "data": {
            "text/plain": [
              "[90, 94, 64, 60, 51]"
            ]
          },
          "execution_count": 22,
          "metadata": {},
          "output_type": "execute_result"
        }
      ],
      "source": [
        "import random\n",
        "#list comprehension\n",
        "score = [random.randint(50, 100) for _ in range(5)]\n",
        "score"
      ]
    },
    {
      "cell_type": "code",
      "execution_count": 23,
      "metadata": {
        "colab": {
          "base_uri": "https://localhost:8080/"
        },
        "id": "NifmoTwm0qnW",
        "outputId": "9aab325b-5a18-484f-d3c5-8215c74f009f"
      },
      "outputs": [
        {
          "name": "stdout",
          "output_type": "stream",
          "text": [
            "['張莉雯', '柯韋成', '杜明延', '盧文啟', '昌嘉洋', '林希啟', '謝南慧', '童建霖', '錢欣潔', '艾巧夫']\n"
          ]
        }
      ],
      "source": [
        "#with...as...代表自動關檔，不用寫file.close()\n",
        "import random\n",
        "def get_all_names()->list[str]:\n",
        "  with open(\"names.txt\",mode='r',encoding='utf-8') as file:\n",
        "    names:list[str] = []\n",
        "    for line in file:\n",
        "      line = line.rstrip('\\n')\n",
        "      names.append(line)\n",
        "    return names\n",
        "\n",
        "def get_random_names(nums:int)->list[str]:\n",
        "  names = get_all_names()\n",
        "  random_list = random.choices(names,k=nums)\n",
        "  return random_list\n",
        "\n",
        "names = get_random_names(nums=10)\n",
        "print(names)"
      ]
    },
    {
      "cell_type": "code",
      "execution_count": 24,
      "metadata": {
        "colab": {
          "base_uri": "https://localhost:8080/"
        },
        "id": "VGj_BDCuxdXs",
        "outputId": "fd2e457b-f64b-4a9d-8cfc-b0ad28c7167a"
      },
      "outputs": [
        {
          "data": {
            "text/plain": [
              "[['林世城', 67, 87, 63, 87, 68],\n",
              " ['吳俐芷', 53, 64, 97, 52, 56],\n",
              " ['王泓泰', 51, 98, 89, 94, 97],\n",
              " ['楊少亮', 77, 92, 52, 93, 86],\n",
              " ['邱亭君', 68, 69, 72, 84, 51],\n",
              " ['謝哲維', 99, 76, 89, 71, 64],\n",
              " ['方筠紹', 82, 96, 61, 65, 79],\n",
              " ['王雅琴', 59, 58, 52, 82, 67],\n",
              " ['陳凱翔', 71, 67, 93, 72, 98],\n",
              " ['黃佩芬', 68, 100, 52, 85, 53],\n",
              " ['陳建香', 59, 67, 83, 82, 73],\n",
              " ['羅幸娥', 87, 100, 50, 97, 68],\n",
              " ['王惠皓', 52, 89, 74, 96, 54],\n",
              " ['胡淑貞', 96, 65, 76, 72, 66],\n",
              " ['張慧君', 65, 95, 57, 88, 100],\n",
              " ['李進慧', 94, 81, 62, 75, 65],\n",
              " ['魏秋萍', 92, 64, 96, 99, 92],\n",
              " ['彭茹靖', 64, 80, 68, 90, 74],\n",
              " ['馮芳如', 75, 53, 71, 77, 80],\n",
              " ['林希啟', 72, 90, 99, 89, 69],\n",
              " ['林麗萍', 90, 59, 86, 79, 67],\n",
              " ['孫宜珊', 93, 85, 69, 90, 82],\n",
              " ['余宗儒', 55, 100, 58, 98, 77]]"
            ]
          },
          "execution_count": 24,
          "metadata": {},
          "output_type": "execute_result"
        }
      ],
      "source": [
        "import random\n",
        "def get_student(student_num:int):\n",
        "  students:list[str] = []#建立第一維list\n",
        "  names = get_random_names(nums=student_num)\n",
        "  for i in range(student_num):\n",
        "    one_student = [random.randint(50, 100) for _ in range(5)]#建立第2維list\n",
        "    name = names[i]\n",
        "    one_student = [name] + one_student\n",
        "    students.append(one_student)\n",
        "  return students\n",
        "nums = int(input(\"請輸入學生數量:(不超過50位)\"))\n",
        "get_student(student_num=nums)\n"
      ]
    },
    {
      "cell_type": "code",
      "execution_count": 25,
      "metadata": {
        "colab": {
          "base_uri": "https://localhost:8080/"
        },
        "id": "NecKtzGg1-8k",
        "outputId": "fe8eeff1-765b-4f7f-b953-85b9b482d5da"
      },
      "outputs": [
        {
          "data": {
            "text/plain": [
              "['陳怡伶',\n",
              " '馮芳如',\n",
              " '蒙淑惠',\n",
              " '張軒宸',\n",
              " '陳向愛',\n",
              " '賴心怡',\n",
              " '王怡珊',\n",
              " '林詠斌',\n",
              " '陳淑娟',\n",
              " '崔孝憲',\n",
              " '林希啟',\n",
              " '楊韋廷',\n",
              " '陳文賢',\n",
              " '王士銘',\n",
              " '賴昌韻',\n",
              " '黃名明',\n",
              " '吳麗卿',\n",
              " '游治旺',\n",
              " '蔡嘉音',\n",
              " '黃靜怡',\n",
              " '黃淑芬',\n",
              " '龔姵君',\n",
              " '景歡燦',\n",
              " '李政成',\n",
              " '楊綺芬',\n",
              " '昌嘉洋',\n",
              " '李慈啟',\n",
              " '游倫城',\n",
              " '林淑安',\n",
              " '蔡士賢',\n",
              " '林世城',\n",
              " '林佳蓉',\n",
              " '柯宜臻',\n",
              " '傅佳琳',\n",
              " '林瑞喬',\n",
              " '林佳慧',\n",
              " '鍾俞禎',\n",
              " '劉慧君',\n",
              " '劉林中',\n",
              " '林怡偉',\n",
              " '余丞苓',\n",
              " '黃佩玲',\n",
              " '林建宏',\n",
              " '方雅慧',\n",
              " '林柏洋',\n",
              " '郭舜昇',\n",
              " '艾巧夫',\n",
              " '童建霖',\n",
              " '蔡至剛',\n",
              " '黃心航',\n",
              " '張凡成',\n",
              " '郭淑枝',\n",
              " '黃必琪',\n",
              " '楊健麟',\n",
              " '林建勳',\n",
              " '鄭琇亞',\n",
              " '王雅琴',\n",
              " '李美洋',\n",
              " '楊少亮',\n",
              " '王泓泰',\n",
              " '黃江旭',\n",
              " '王梅劭',\n",
              " '林佳光',\n",
              " '盧必妍',\n",
              " '林思賢',\n",
              " '鄧哲榮',\n",
              " '陳家年',\n",
              " '張俊傑',\n",
              " '洪阿惠',\n",
              " '陳彥治',\n",
              " '盧冠發',\n",
              " '程玫靖',\n",
              " '潘俊賢',\n",
              " '呂傑宣',\n",
              " '鄭孟芳',\n",
              " '彭茹靖',\n",
              " '王孝純',\n",
              " '吳昕婷',\n",
              " '朱惠儀',\n",
              " '盧文啟',\n",
              " '謝佳穎',\n",
              " '鄭憲定',\n",
              " '馮淑芬',\n",
              " '聶心怡',\n",
              " '黃志福',\n",
              " '馬彥文',\n",
              " '郭淑真',\n",
              " '吳欣書',\n",
              " '鄭佳玲',\n",
              " '黃健發',\n",
              " '胡姿婷',\n",
              " '林義皓',\n",
              " '胡芳瑜',\n",
              " '楊易政',\n",
              " '王德城',\n",
              " '劉依婷',\n",
              " '吳俐芷',\n",
              " '黃詩妃',\n",
              " '柯韋成',\n",
              " '鄧亭聿',\n",
              " '王雅慧',\n",
              " '陳凱翔',\n",
              " '藍哲嘉',\n",
              " '趙偉銘',\n",
              " '張韋成',\n",
              " '林向鈺',\n",
              " '周琬婷',\n",
              " '尚偉倫',\n",
              " '賴佳雯',\n",
              " '陳姵彬',\n",
              " '林群清',\n",
              " '趙家豪',\n",
              " '李政白',\n",
              " '林俊翔',\n",
              " '李進慧',\n",
              " '楊韻如',\n",
              " '藍姿婷',\n",
              " '劉嘉泰',\n",
              " '王柏聖',\n",
              " '孫宜珊',\n",
              " '戴萱能',\n",
              " '高士凱',\n",
              " '楊又源',\n",
              " '劉昀天',\n",
              " '王怡君',\n",
              " '余月修',\n",
              " '劉萬季',\n",
              " '陳信宏',\n",
              " '陳孝邦',\n",
              " '朱彥志',\n",
              " '陳奇瑄',\n",
              " '鄧淑娟',\n",
              " '陳逸凡',\n",
              " '張牧聿',\n",
              " '唐雪豪',\n",
              " '林康亮',\n",
              " '黃旻林',\n",
              " '蕭淑華',\n",
              " '劉雯芬',\n",
              " '陳美惠',\n",
              " '孫火清',\n",
              " '溫法堯',\n",
              " '錢欣潔',\n",
              " '陳倩潔',\n",
              " '李雅怡',\n",
              " '白美珍',\n",
              " '葉志峰',\n",
              " '黃佩芬',\n",
              " '黃麗美',\n",
              " '黃奎紹',\n",
              " '邱亭君',\n",
              " '詹忠光',\n",
              " '戚亨',\n",
              " '賴又琦',\n",
              " '林佳人',\n",
              " '黃善迪',\n",
              " '賴苑禾',\n",
              " '溫重意',\n",
              " '周怡啟',\n",
              " '王明昇',\n",
              " '羅佩樺',\n",
              " '陳家維',\n",
              " '張莉雯',\n",
              " '高俊男',\n",
              " '林冠蕙',\n",
              " '王品星',\n",
              " '吳孟穎',\n",
              " '黃雅慧',\n",
              " '馮耀中',\n",
              " '元延辛',\n",
              " '王坤安',\n",
              " '陳慧君',\n",
              " '張伊映',\n",
              " '林士凱',\n",
              " '蘇婷婷',\n",
              " '陳淑萍',\n",
              " '林玉佩',\n",
              " '謝貞妃',\n",
              " '杜儀鳳',\n",
              " '陳倩妮',\n",
              " '胡淑貞',\n",
              " '楊偉翔',\n",
              " '姜琬婷',\n",
              " '張雅芬',\n",
              " '葉祖雄',\n",
              " '沈心利',\n",
              " '彭虹屏',\n",
              " '余宗儒',\n",
              " '李立偉',\n",
              " '臧怡君',\n",
              " '吳振瑋',\n",
              " '陳建豪',\n",
              " '蕭怡伶',\n",
              " '周芷蓁',\n",
              " '黃偉剛',\n",
              " '黃婷婷',\n",
              " '郎慧萍',\n",
              " '林昱芳',\n",
              " '趙宛真',\n",
              " '白世宏',\n",
              " '杜明延',\n",
              " '許淑婷',\n",
              " '林珍旺',\n",
              " '蔡孟泉',\n",
              " '吳晴洋',\n",
              " '游一鈺',\n",
              " '朱士弘',\n",
              " '黃政甫',\n",
              " '游淑惠',\n",
              " '張婕妤',\n",
              " '陳逸華',\n",
              " '張天亨',\n",
              " '張嘉韋',\n",
              " '王志謙',\n",
              " '黎惠雯',\n",
              " '高信宏',\n",
              " '梁柏宇',\n",
              " '林志喜',\n",
              " '金宜芳',\n",
              " '簡國瑋',\n",
              " '林清英',\n",
              " '黃彥孝',\n",
              " '鄭奇翰',\n",
              " '李慶亮',\n",
              " '李蓉瑞',\n",
              " '張明惟',\n",
              " '游詩亞',\n",
              " '黃嘉琪',\n",
              " '張家秀',\n",
              " '吳柏誠',\n",
              " '陳得映',\n",
              " '郭致恬',\n",
              " '林麗萍',\n",
              " '陳樂紫',\n",
              " '翁鈺婷',\n",
              " '蔡世馨',\n",
              " '楊建安',\n",
              " '李湘婷',\n",
              " '鞠冠宇',\n",
              " '林志成',\n",
              " '陳信念',\n",
              " '林益妏',\n",
              " '蔡偉成',\n",
              " '王惠皓',\n",
              " '王筱婷',\n",
              " '楊火帆',\n",
              " '陳怡珊',\n",
              " '張慧君',\n",
              " '翁羽威',\n",
              " '羅幸娥',\n",
              " '陳俊憲',\n",
              " '洪奎夫',\n",
              " '翁均安',\n",
              " '吳明妮',\n",
              " '高智超',\n",
              " '王人仰',\n",
              " '劉旭士',\n",
              " '蘇凡菁',\n",
              " '謝哲維',\n",
              " '彭偉妃',\n",
              " '劉耿琦',\n",
              " '黃柏宇',\n",
              " '李佳彥',\n",
              " '唐翊修',\n",
              " '陳建香',\n",
              " '葉軍仰',\n",
              " '吳志宣',\n",
              " '林珈發',\n",
              " '黃翔杰',\n",
              " '郭坤花',\n",
              " '吳淑惠',\n",
              " '簡美君',\n",
              " '許芳如',\n",
              " '謝水儒',\n",
              " '陳怡容',\n",
              " '蔡欣汝',\n",
              " '王良斌',\n",
              " '周家銘',\n",
              " '張凱妮',\n",
              " '鄭淑珍',\n",
              " '陳嘉淑',\n",
              " '魏秋萍',\n",
              " '簡佳樺',\n",
              " '劉佳佩',\n",
              " '李彥伸',\n",
              " '陳筱涵',\n",
              " '蔡明平',\n",
              " '王展人',\n",
              " '方筠紹',\n",
              " '陳志偉',\n",
              " '錢佩豪',\n",
              " '陳冠霞',\n",
              " '潘英迪',\n",
              " '陳冠竹',\n",
              " '李淑芳',\n",
              " '謝南慧',\n",
              " '趙家豪',\n",
              " '龐皓芳',\n",
              " '張彥博']"
            ]
          },
          "execution_count": 25,
          "metadata": {},
          "output_type": "execute_result"
        }
      ],
      "source": [
        "get_all_names()"
      ]
    },
    {
      "cell_type": "code",
      "execution_count": 10,
      "metadata": {
        "id": "hfcAMgYZKV_y"
      },
      "outputs": [
        {
          "data": {
            "text/plain": [
              "[['張家秀', 57, 53, 89, 55, 74],\n",
              " ['郭淑枝', 67, 90, 93, 88, 95],\n",
              " ['陳彥治', 95, 61, 88, 100, 78],\n",
              " ['張牧聿', 99, 76, 78, 63, 69],\n",
              " ['王雅琴', 86, 76, 99, 83, 55],\n",
              " ['翁均安', 95, 53, 74, 92, 70],\n",
              " ['楊韻如', 84, 82, 65, 65, 73],\n",
              " ['陳文賢', 73, 66, 78, 90, 86],\n",
              " ['林志成', 74, 84, 87, 51, 69],\n",
              " ['羅佩樺', 69, 87, 81, 89, 63],\n",
              " ['李慶亮', 70, 97, 82, 80, 82],\n",
              " ['彭虹屏', 86, 75, 73, 76, 59],\n",
              " ['黃淑芬', 96, 58, 83, 51, 70],\n",
              " ['周芷蓁', 92, 83, 66, 58, 78],\n",
              " ['王展人', 88, 51, 90, 90, 92],\n",
              " ['王泓泰', 83, 72, 53, 80, 73],\n",
              " ['賴苑禾', 84, 53, 70, 83, 85],\n",
              " ['李佳彥', 84, 58, 77, 92, 66],\n",
              " ['黃婷婷', 98, 58, 70, 86, 65],\n",
              " ['藍姿婷', 62, 86, 63, 84, 99],\n",
              " ['黃必琪', 92, 65, 83, 55, 77],\n",
              " ['余宗儒', 63, 51, 89, 70, 57],\n",
              " ['林建宏', 70, 77, 60, 69, 96],\n",
              " ['尚偉倫', 77, 75, 64, 85, 93],\n",
              " ['林清英', 62, 95, 98, 67, 74],\n",
              " ['馮芳如', 92, 63, 86, 84, 86],\n",
              " ['杜明延', 100, 51, 72, 82, 80],\n",
              " ['馮芳如', 88, 50, 61, 90, 56],\n",
              " ['郭舜昇', 62, 58, 90, 56, 90],\n",
              " ['陳慧君', 85, 64, 55, 73, 85]]"
            ]
          },
          "execution_count": 10,
          "metadata": {},
          "output_type": "execute_result"
        }
      ],
      "source": [
        "import os#是一個資料夾\n",
        "import student\n",
        "#os有一個實體屬性path是一個module\n",
        "file_name = input(\"請輸入要存檔的檔案名稱:\")\n",
        "root = os.path.abspath(path=\"./\")#./ 目前路徑\n",
        "filePath = os.path.join(root,'csv_data',f'{file_name}.csv')#檔案的絕對位置\n",
        "students = student.get_student(student_num=30)\n",
        "students\n",
        "#c: 代表是儲存在c硬碟裡"
      ]
    },
    {
      "cell_type": "code",
      "execution_count": 27,
      "metadata": {
        "id": "C2S5vT67qDsA"
      },
      "outputs": [
        {
          "data": {
            "text/plain": [
              "<module 're' from 'C:\\\\Program Files\\\\WindowsApps\\\\PythonSoftwareFoundation.Python.3.11_3.11.1264.0_x64__qbz5n2kfra8p0\\\\Lib\\\\re\\\\__init__.py'>"
            ]
          },
          "execution_count": 27,
          "metadata": {},
          "output_type": "execute_result"
        }
      ],
      "source": [
        "import csv\n",
        "csv_write = csv.writer\n",
        "csv.re"
      ]
    }
  ],
  "metadata": {
    "colab": {
      "authorship_tag": "ABX9TyN4sVoAN8jM/m+uOHd1qxsT",
      "include_colab_link": true,
      "provenance": []
    },
    "kernelspec": {
      "display_name": "Python 3",
      "name": "python3"
    },
    "language_info": {
      "codemirror_mode": {
        "name": "ipython",
        "version": 3
      },
      "file_extension": ".py",
      "mimetype": "text/x-python",
      "name": "python",
      "nbconvert_exporter": "python",
      "pygments_lexer": "ipython3",
      "version": "3.11.5"
    }
  },
  "nbformat": 4,
  "nbformat_minor": 0
}
