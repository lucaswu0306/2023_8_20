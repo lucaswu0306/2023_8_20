{
  "nbformat": 4,
  "nbformat_minor": 0,
  "metadata": {
    "colab": {
      "provenance": [],
      "authorship_tag": "ABX9TyOq5byPac9LFn4p9Vq6TWS/",
      "include_colab_link": true
    },
    "kernelspec": {
      "name": "python3",
      "display_name": "Python 3"
    },
    "language_info": {
      "name": "python"
    }
  },
  "cells": [
    {
      "cell_type": "markdown",
      "metadata": {
        "id": "view-in-github",
        "colab_type": "text"
      },
      "source": [
        "<a href=\"https://colab.research.google.com/github/lucaswu0306/2023_8_20/blob/main/lesson11_1.ipynb\" target=\"_parent\"><img src=\"https://colab.research.google.com/assets/colab-badge.svg\" alt=\"Open In Colab\"/></a>"
      ]
    },
    {
      "cell_type": "code",
      "execution_count": 1,
      "metadata": {
        "colab": {
          "base_uri": "https://localhost:8080/"
        },
        "id": "5Y0PBmKuoCKx",
        "outputId": "80daf3a2-2e2b-4b28-cbe2-4ad11c7df8b2"
      },
      "outputs": [
        {
          "output_type": "stream",
          "name": "stdout",
          "text": [
            "[89, 56, 63, 45, 66]\n",
            "[88, 74, 55, 89, 72]\n",
            "[63, 54, 99, 95, 77]\n"
          ]
        }
      ],
      "source": [
        "score1 = [89, 56, 63, 45, 66]\n",
        "score2 = [88, 74, 55, 89, 72]\n",
        "score3 = [63, 54, 99, 95, 77]\n",
        "\n",
        "students = [score1, score2, score3]#建立\n",
        "\n",
        "for student in students: #取出第2維的資料\n",
        "  print(student)"
      ]
    },
    {
      "cell_type": "code",
      "source": [
        "import random\n",
        "score = []\n",
        "for i in range(5):\n",
        "  score.append(random.randint(50, 100))\n",
        "score\n"
      ],
      "metadata": {
        "colab": {
          "base_uri": "https://localhost:8080/"
        },
        "id": "OHprpzyXstAC",
        "outputId": "eb5aa16b-85c6-4b9b-f36a-6c7444cd56be"
      },
      "execution_count": 9,
      "outputs": [
        {
          "output_type": "execute_result",
          "data": {
            "text/plain": [
              "[86, 87, 94, 88, 68]"
            ]
          },
          "metadata": {},
          "execution_count": 9
        }
      ]
    },
    {
      "cell_type": "code",
      "source": [
        "import random\n",
        "#list comprehension\n",
        "score = [random.randint(50, 100) for _ in range(5)]\n",
        "score"
      ],
      "metadata": {
        "colab": {
          "base_uri": "https://localhost:8080/"
        },
        "id": "8Cv_kQxHvvqH",
        "outputId": "99f9d3be-42ac-4c80-c9f8-597a60304041"
      },
      "execution_count": 10,
      "outputs": [
        {
          "output_type": "execute_result",
          "data": {
            "text/plain": [
              "[69, 80, 68, 71, 68]"
            ]
          },
          "metadata": {},
          "execution_count": 10
        }
      ]
    },
    {
      "cell_type": "code",
      "source": [
        "#with...as...代表自動關檔，不用寫file.close()\n",
        "import random\n",
        "def get_all_names()->list[str]:\n",
        "  with open(\"names.txt\",mode='r',encoding='utf-8') as file:\n",
        "    names:list[str] = []\n",
        "    for line in file:\n",
        "      line = line.rstrip('\\n')\n",
        "      names.append(line)\n",
        "    return names\n",
        "\n",
        "def get_random_names(nums:int)->list[str]:\n",
        "  names = get_all_names()\n",
        "  random_list = random.choices(names,k=nums)\n",
        "  return random_list\n",
        "\n",
        "names = get_random_names(nums=10)\n",
        "print(names)"
      ],
      "metadata": {
        "colab": {
          "base_uri": "https://localhost:8080/"
        },
        "id": "NifmoTwm0qnW",
        "outputId": "9aab325b-5a18-484f-d3c5-8215c74f009f"
      },
      "execution_count": 21,
      "outputs": [
        {
          "output_type": "stream",
          "name": "stdout",
          "text": [
            "['周怡啟', '林希啟', '鄭琇亞', '張韋成', '賴昌韻', '沈心利', '唐雪豪', '黃彥孝', '郭坤花', '劉依婷']\n"
          ]
        }
      ]
    },
    {
      "cell_type": "code",
      "source": [
        "import random\n",
        "student_num = 50\n",
        "def get_student(student_num:int):\n",
        "  students:list[str] = []#建立第一維list\n",
        "  names = get_random_names(nums=student_num)\n",
        "  for i in range(student_num):\n",
        "    one_student = [random.randint(50, 100) for _ in range(5)]#建立第2維list\n",
        "    name = names[i]\n",
        "    one_student = [name] + one_student\n",
        "    students.append(one_student)\n",
        "  return students\n",
        "get_student(student_num=5)\n"
      ],
      "metadata": {
        "colab": {
          "base_uri": "https://localhost:8080/"
        },
        "id": "VGj_BDCuxdXs",
        "outputId": "39419255-cae3-4786-aade-4c01f9512aed"
      },
      "execution_count": 35,
      "outputs": [
        {
          "output_type": "execute_result",
          "data": {
            "text/plain": [
              "[['錢佩豪', 89, 93, 64, 81, 79],\n",
              " ['馬彥文', 92, 100, 79, 84, 59],\n",
              " ['羅佩樺', 63, 89, 65, 70, 85],\n",
              " ['張伊映', 77, 81, 63, 80, 57],\n",
              " ['王柏聖', 91, 76, 56, 100, 80]]"
            ]
          },
          "metadata": {},
          "execution_count": 35
        }
      ]
    },
    {
      "cell_type": "code",
      "source": [
        "get_all_names()"
      ],
      "metadata": {
        "colab": {
          "base_uri": "https://localhost:8080/"
        },
        "id": "NecKtzGg1-8k",
        "outputId": "fe8eeff1-765b-4f7f-b953-85b9b482d5da"
      },
      "execution_count": 15,
      "outputs": [
        {
          "output_type": "execute_result",
          "data": {
            "text/plain": [
              "['陳怡伶',\n",
              " '馮芳如',\n",
              " '蒙淑惠',\n",
              " '張軒宸',\n",
              " '陳向愛',\n",
              " '賴心怡',\n",
              " '王怡珊',\n",
              " '林詠斌',\n",
              " '陳淑娟',\n",
              " '崔孝憲',\n",
              " '林希啟',\n",
              " '楊韋廷',\n",
              " '陳文賢',\n",
              " '王士銘',\n",
              " '賴昌韻',\n",
              " '黃名明',\n",
              " '吳麗卿',\n",
              " '游治旺',\n",
              " '蔡嘉音',\n",
              " '黃靜怡',\n",
              " '黃淑芬',\n",
              " '龔姵君',\n",
              " '景歡燦',\n",
              " '李政成',\n",
              " '楊綺芬',\n",
              " '昌嘉洋',\n",
              " '李慈啟',\n",
              " '游倫城',\n",
              " '林淑安',\n",
              " '蔡士賢',\n",
              " '林世城',\n",
              " '林佳蓉',\n",
              " '柯宜臻',\n",
              " '傅佳琳',\n",
              " '林瑞喬',\n",
              " '林佳慧',\n",
              " '鍾俞禎',\n",
              " '劉慧君',\n",
              " '劉林中',\n",
              " '林怡偉',\n",
              " '余丞苓',\n",
              " '黃佩玲',\n",
              " '林建宏',\n",
              " '方雅慧',\n",
              " '林柏洋',\n",
              " '郭舜昇',\n",
              " '艾巧夫',\n",
              " '童建霖',\n",
              " '蔡至剛',\n",
              " '黃心航',\n",
              " '張凡成',\n",
              " '郭淑枝',\n",
              " '黃必琪',\n",
              " '楊健麟',\n",
              " '林建勳',\n",
              " '鄭琇亞',\n",
              " '王雅琴',\n",
              " '李美洋',\n",
              " '楊少亮',\n",
              " '王泓泰',\n",
              " '黃江旭',\n",
              " '王梅劭',\n",
              " '林佳光',\n",
              " '盧必妍',\n",
              " '林思賢',\n",
              " '鄧哲榮',\n",
              " '陳家年',\n",
              " '張俊傑',\n",
              " '洪阿惠',\n",
              " '陳彥治',\n",
              " '盧冠發',\n",
              " '程玫靖',\n",
              " '潘俊賢',\n",
              " '呂傑宣',\n",
              " '鄭孟芳',\n",
              " '彭茹靖',\n",
              " '王孝純',\n",
              " '吳昕婷',\n",
              " '朱惠儀',\n",
              " '盧文啟',\n",
              " '謝佳穎',\n",
              " '鄭憲定',\n",
              " '馮淑芬',\n",
              " '聶心怡',\n",
              " '黃志福',\n",
              " '馬彥文',\n",
              " '郭淑真',\n",
              " '吳欣書',\n",
              " '鄭佳玲',\n",
              " '黃健發',\n",
              " '胡姿婷',\n",
              " '林義皓',\n",
              " '胡芳瑜',\n",
              " '楊易政',\n",
              " '王德城',\n",
              " '劉依婷',\n",
              " '吳俐芷',\n",
              " '黃詩妃',\n",
              " '柯韋成',\n",
              " '鄧亭聿',\n",
              " '王雅慧',\n",
              " '陳凱翔',\n",
              " '藍哲嘉',\n",
              " '趙偉銘',\n",
              " '張韋成',\n",
              " '林向鈺',\n",
              " '周琬婷',\n",
              " '尚偉倫',\n",
              " '賴佳雯',\n",
              " '陳姵彬',\n",
              " '林群清',\n",
              " '趙家豪',\n",
              " '李政白',\n",
              " '林俊翔',\n",
              " '李進慧',\n",
              " '楊韻如',\n",
              " '藍姿婷',\n",
              " '劉嘉泰',\n",
              " '王柏聖',\n",
              " '孫宜珊',\n",
              " '戴萱能',\n",
              " '高士凱',\n",
              " '楊又源',\n",
              " '劉昀天',\n",
              " '王怡君',\n",
              " '余月修',\n",
              " '劉萬季',\n",
              " '陳信宏',\n",
              " '陳孝邦',\n",
              " '朱彥志',\n",
              " '陳奇瑄',\n",
              " '鄧淑娟',\n",
              " '陳逸凡',\n",
              " '張牧聿',\n",
              " '唐雪豪',\n",
              " '林康亮',\n",
              " '黃旻林',\n",
              " '蕭淑華',\n",
              " '劉雯芬',\n",
              " '陳美惠',\n",
              " '孫火清',\n",
              " '溫法堯',\n",
              " '錢欣潔',\n",
              " '陳倩潔',\n",
              " '李雅怡',\n",
              " '白美珍',\n",
              " '葉志峰',\n",
              " '黃佩芬',\n",
              " '黃麗美',\n",
              " '黃奎紹',\n",
              " '邱亭君',\n",
              " '詹忠光',\n",
              " '戚亨',\n",
              " '賴又琦',\n",
              " '林佳人',\n",
              " '黃善迪',\n",
              " '賴苑禾',\n",
              " '溫重意',\n",
              " '周怡啟',\n",
              " '王明昇',\n",
              " '羅佩樺',\n",
              " '陳家維',\n",
              " '張莉雯',\n",
              " '高俊男',\n",
              " '林冠蕙',\n",
              " '王品星',\n",
              " '吳孟穎',\n",
              " '黃雅慧',\n",
              " '馮耀中',\n",
              " '元延辛',\n",
              " '王坤安',\n",
              " '陳慧君',\n",
              " '張伊映',\n",
              " '林士凱',\n",
              " '蘇婷婷',\n",
              " '陳淑萍',\n",
              " '林玉佩',\n",
              " '謝貞妃',\n",
              " '杜儀鳳',\n",
              " '陳倩妮',\n",
              " '胡淑貞',\n",
              " '楊偉翔',\n",
              " '姜琬婷',\n",
              " '張雅芬',\n",
              " '葉祖雄',\n",
              " '沈心利',\n",
              " '彭虹屏',\n",
              " '余宗儒',\n",
              " '李立偉',\n",
              " '臧怡君',\n",
              " '吳振瑋',\n",
              " '陳建豪',\n",
              " '蕭怡伶',\n",
              " '周芷蓁',\n",
              " '黃偉剛',\n",
              " '黃婷婷',\n",
              " '郎慧萍',\n",
              " '林昱芳',\n",
              " '趙宛真',\n",
              " '白世宏',\n",
              " '杜明延',\n",
              " '許淑婷',\n",
              " '林珍旺',\n",
              " '蔡孟泉',\n",
              " '吳晴洋',\n",
              " '游一鈺',\n",
              " '朱士弘',\n",
              " '黃政甫',\n",
              " '游淑惠',\n",
              " '張婕妤',\n",
              " '陳逸華',\n",
              " '張天亨',\n",
              " '張嘉韋',\n",
              " '王志謙',\n",
              " '黎惠雯',\n",
              " '高信宏',\n",
              " '梁柏宇',\n",
              " '林志喜',\n",
              " '金宜芳',\n",
              " '簡國瑋',\n",
              " '林清英',\n",
              " '黃彥孝',\n",
              " '鄭奇翰',\n",
              " '李慶亮',\n",
              " '李蓉瑞',\n",
              " '張明惟',\n",
              " '游詩亞',\n",
              " '黃嘉琪',\n",
              " '張家秀',\n",
              " '吳柏誠',\n",
              " '陳得映',\n",
              " '郭致恬',\n",
              " '林麗萍',\n",
              " '陳樂紫',\n",
              " '翁鈺婷',\n",
              " '蔡世馨',\n",
              " '楊建安',\n",
              " '李湘婷',\n",
              " '鞠冠宇',\n",
              " '林志成',\n",
              " '陳信念',\n",
              " '林益妏',\n",
              " '蔡偉成',\n",
              " '王惠皓',\n",
              " '王筱婷',\n",
              " '楊火帆',\n",
              " '陳怡珊',\n",
              " '張慧君',\n",
              " '翁羽威',\n",
              " '羅幸娥',\n",
              " '陳俊憲',\n",
              " '洪奎夫',\n",
              " '翁均安',\n",
              " '吳明妮',\n",
              " '高智超',\n",
              " '王人仰',\n",
              " '劉旭士',\n",
              " '蘇凡菁',\n",
              " '謝哲維',\n",
              " '彭偉妃',\n",
              " '劉耿琦',\n",
              " '黃柏宇',\n",
              " '李佳彥',\n",
              " '唐翊修',\n",
              " '陳建香',\n",
              " '葉軍仰',\n",
              " '吳志宣',\n",
              " '林珈發',\n",
              " '黃翔杰',\n",
              " '郭坤花',\n",
              " '吳淑惠',\n",
              " '簡美君',\n",
              " '許芳如',\n",
              " '謝水儒',\n",
              " '陳怡容',\n",
              " '蔡欣汝',\n",
              " '王良斌',\n",
              " '周家銘',\n",
              " '張凱妮',\n",
              " '鄭淑珍',\n",
              " '陳嘉淑',\n",
              " '魏秋萍',\n",
              " '簡佳樺',\n",
              " '劉佳佩',\n",
              " '李彥伸',\n",
              " '陳筱涵',\n",
              " '蔡明平',\n",
              " '王展人',\n",
              " '方筠紹',\n",
              " '陳志偉',\n",
              " '錢佩豪',\n",
              " '陳冠霞',\n",
              " '潘英迪',\n",
              " '陳冠竹',\n",
              " '李淑芳',\n",
              " '謝南慧',\n",
              " '趙家豪',\n",
              " '龐皓芳',\n",
              " '張彥博']"
            ]
          },
          "metadata": {},
          "execution_count": 15
        }
      ]
    }
  ]
}