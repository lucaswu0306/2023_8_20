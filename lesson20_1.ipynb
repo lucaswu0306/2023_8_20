{
 "cells": [
  {
   "cell_type": "code",
   "execution_count": 1,
   "metadata": {},
   "outputs": [
    {
     "data": {
      "text/html": [
       "<div>\n",
       "<style scoped>\n",
       "    .dataframe tbody tr th:only-of-type {\n",
       "        vertical-align: middle;\n",
       "    }\n",
       "\n",
       "    .dataframe tbody tr th {\n",
       "        vertical-align: top;\n",
       "    }\n",
       "\n",
       "    .dataframe thead th {\n",
       "        text-align: right;\n",
       "    }\n",
       "</style>\n",
       "<table border=\"1\" class=\"dataframe\">\n",
       "  <thead>\n",
       "    <tr style=\"text-align: right;\">\n",
       "      <th></th>\n",
       "      <th>b</th>\n",
       "      <th>d</th>\n",
       "      <th>e</th>\n",
       "    </tr>\n",
       "  </thead>\n",
       "  <tbody>\n",
       "    <tr>\n",
       "      <th>台北</th>\n",
       "      <td>-1.793027</td>\n",
       "      <td>0.092308</td>\n",
       "      <td>-0.750060</td>\n",
       "    </tr>\n",
       "    <tr>\n",
       "      <th>台中</th>\n",
       "      <td>-0.388910</td>\n",
       "      <td>-1.840299</td>\n",
       "      <td>1.147167</td>\n",
       "    </tr>\n",
       "    <tr>\n",
       "      <th>台南</th>\n",
       "      <td>0.827059</td>\n",
       "      <td>1.068345</td>\n",
       "      <td>-0.562795</td>\n",
       "    </tr>\n",
       "    <tr>\n",
       "      <th>高雄</th>\n",
       "      <td>1.282273</td>\n",
       "      <td>0.469162</td>\n",
       "      <td>0.881063</td>\n",
       "    </tr>\n",
       "  </tbody>\n",
       "</table>\n",
       "</div>"
      ],
      "text/plain": [
       "           b         d         e\n",
       "台北 -1.793027  0.092308 -0.750060\n",
       "台中 -0.388910 -1.840299  1.147167\n",
       "台南  0.827059  1.068345 -0.562795\n",
       "高雄  1.282273  0.469162  0.881063"
      ]
     },
     "execution_count": 1,
     "metadata": {},
     "output_type": "execute_result"
    }
   ],
   "source": [
    "import numpy as np\n",
    "import pandas as pd\n",
    "\n",
    "frame = pd.DataFrame(np.random.randn(4,3),\n",
    "             index=['台北','台中','台南','高雄'],\n",
    "             columns=['b','d','e'])\n",
    "frame"
   ]
  },
  {
   "cell_type": "code",
   "execution_count": 2,
   "metadata": {},
   "outputs": [
    {
     "data": {
      "text/plain": [
       "'d'"
      ]
     },
     "execution_count": 2,
     "metadata": {},
     "output_type": "execute_result"
    }
   ],
   "source": [
    "frame.iloc[0]\n",
    "f = frame.iloc[0].max()\n",
    "max_value = frame.iloc[0][frame.iloc[0] == f].index[0]\n",
    "max_value"
   ]
  },
  {
   "cell_type": "code",
   "execution_count": 3,
   "metadata": {},
   "outputs": [
    {
     "data": {
      "text/html": [
       "<div>\n",
       "<style scoped>\n",
       "    .dataframe tbody tr th:only-of-type {\n",
       "        vertical-align: middle;\n",
       "    }\n",
       "\n",
       "    .dataframe tbody tr th {\n",
       "        vertical-align: top;\n",
       "    }\n",
       "\n",
       "    .dataframe thead th {\n",
       "        text-align: right;\n",
       "    }\n",
       "</style>\n",
       "<table border=\"1\" class=\"dataframe\">\n",
       "  <thead>\n",
       "    <tr style=\"text-align: right;\">\n",
       "      <th></th>\n",
       "      <th>b</th>\n",
       "      <th>d</th>\n",
       "      <th>e</th>\n",
       "    </tr>\n",
       "  </thead>\n",
       "  <tbody>\n",
       "    <tr>\n",
       "      <th>台北</th>\n",
       "      <td>-1.793027</td>\n",
       "      <td>0.092308</td>\n",
       "      <td>-0.750060</td>\n",
       "    </tr>\n",
       "    <tr>\n",
       "      <th>台中</th>\n",
       "      <td>-0.388910</td>\n",
       "      <td>-1.840299</td>\n",
       "      <td>1.147167</td>\n",
       "    </tr>\n",
       "    <tr>\n",
       "      <th>台南</th>\n",
       "      <td>0.827059</td>\n",
       "      <td>1.068345</td>\n",
       "      <td>-0.562795</td>\n",
       "    </tr>\n",
       "    <tr>\n",
       "      <th>高雄</th>\n",
       "      <td>1.282273</td>\n",
       "      <td>0.469162</td>\n",
       "      <td>0.881063</td>\n",
       "    </tr>\n",
       "  </tbody>\n",
       "</table>\n",
       "</div>"
      ],
      "text/plain": [
       "           b         d         e\n",
       "台北 -1.793027  0.092308 -0.750060\n",
       "台中 -0.388910 -1.840299  1.147167\n",
       "台南  0.827059  1.068345 -0.562795\n",
       "高雄  1.282273  0.469162  0.881063"
      ]
     },
     "metadata": {},
     "output_type": "display_data"
    },
    {
     "name": "stdout",
     "output_type": "stream",
     "text": [
      "-2.4507785468311334\n",
      "-1.0820414383475778\n",
      "1.332608923700493\n",
      "2.632497119763021\n",
      "-0.07260484526251054\n",
      "-0.210483797575935\n"
     ]
    },
    {
     "data": {
      "text/plain": [
       "0.7153747011232481"
      ]
     },
     "execution_count": 3,
     "metadata": {},
     "output_type": "execute_result"
    }
   ],
   "source": [
    "display(frame)\n",
    "print(frame.loc['台北'].sum())\n",
    "print(frame.loc['台中'].sum())\n",
    "print(frame.loc['台南'].sum())\n",
    "print(frame.loc['高雄'].sum())\n",
    "print(frame['b'].sum())\n",
    "print(frame['d'].sum())\n",
    "frame['e'].sum()"
   ]
  },
  {
   "cell_type": "code",
   "execution_count": 4,
   "metadata": {},
   "outputs": [
    {
     "data": {
      "text/html": [
       "<div>\n",
       "<style scoped>\n",
       "    .dataframe tbody tr th:only-of-type {\n",
       "        vertical-align: middle;\n",
       "    }\n",
       "\n",
       "    .dataframe tbody tr th {\n",
       "        vertical-align: top;\n",
       "    }\n",
       "\n",
       "    .dataframe thead th {\n",
       "        text-align: right;\n",
       "    }\n",
       "</style>\n",
       "<table border=\"1\" class=\"dataframe\">\n",
       "  <thead>\n",
       "    <tr style=\"text-align: right;\">\n",
       "      <th></th>\n",
       "      <th>b</th>\n",
       "      <th>d</th>\n",
       "      <th>e</th>\n",
       "    </tr>\n",
       "  </thead>\n",
       "  <tbody>\n",
       "    <tr>\n",
       "      <th>台北</th>\n",
       "      <td>-1.793027</td>\n",
       "      <td>0.092308</td>\n",
       "      <td>-0.750060</td>\n",
       "    </tr>\n",
       "    <tr>\n",
       "      <th>台中</th>\n",
       "      <td>-0.388910</td>\n",
       "      <td>-1.840299</td>\n",
       "      <td>1.147167</td>\n",
       "    </tr>\n",
       "    <tr>\n",
       "      <th>台南</th>\n",
       "      <td>0.827059</td>\n",
       "      <td>1.068345</td>\n",
       "      <td>-0.562795</td>\n",
       "    </tr>\n",
       "    <tr>\n",
       "      <th>高雄</th>\n",
       "      <td>1.282273</td>\n",
       "      <td>0.469162</td>\n",
       "      <td>0.881063</td>\n",
       "    </tr>\n",
       "  </tbody>\n",
       "</table>\n",
       "</div>"
      ],
      "text/plain": [
       "           b         d         e\n",
       "台北 -1.793027  0.092308 -0.750060\n",
       "台中 -0.388910 -1.840299  1.147167\n",
       "台南  0.827059  1.068345 -0.562795\n",
       "高雄  1.282273  0.469162  0.881063"
      ]
     },
     "metadata": {},
     "output_type": "display_data"
    },
    {
     "data": {
      "text/plain": [
       "台北   -2.450779\n",
       "台中   -1.082041\n",
       "台南    1.332609\n",
       "高雄    2.632497\n",
       "dtype: float64"
      ]
     },
     "execution_count": 4,
     "metadata": {},
     "output_type": "execute_result"
    }
   ],
   "source": [
    "display(frame)\n",
    "frame.sum()\n",
    "frame.sum(axis = 1)"
   ]
  },
  {
   "cell_type": "code",
   "execution_count": 5,
   "metadata": {},
   "outputs": [
    {
     "data": {
      "text/plain": [
       "台北   -1.793027\n",
       "台中   -0.388910\n",
       "台南    0.827059\n",
       "高雄    1.282273\n",
       "Name: b, dtype: float64"
      ]
     },
     "metadata": {},
     "output_type": "display_data"
    },
    {
     "data": {
      "text/plain": [
       "台北    0.092308\n",
       "台中   -1.840299\n",
       "台南    1.068345\n",
       "高雄    0.469162\n",
       "Name: d, dtype: float64"
      ]
     },
     "metadata": {},
     "output_type": "display_data"
    },
    {
     "data": {
      "text/plain": [
       "台北   -0.750060\n",
       "台中    1.147167\n",
       "台南   -0.562795\n",
       "高雄    0.881063\n",
       "Name: e, dtype: float64"
      ]
     },
     "metadata": {},
     "output_type": "display_data"
    },
    {
     "data": {
      "text/plain": [
       "b    None\n",
       "d    None\n",
       "e    None\n",
       "dtype: object"
      ]
     },
     "execution_count": 5,
     "metadata": {},
     "output_type": "execute_result"
    }
   ],
   "source": [
    "def a(s:pd.Series)->None:\n",
    "    display(s)\n",
    "frame.apply(a,axis=0)"
   ]
  },
  {
   "cell_type": "code",
   "execution_count": 6,
   "metadata": {},
   "outputs": [
    {
     "data": {
      "text/html": [
       "<div>\n",
       "<style scoped>\n",
       "    .dataframe tbody tr th:only-of-type {\n",
       "        vertical-align: middle;\n",
       "    }\n",
       "\n",
       "    .dataframe tbody tr th {\n",
       "        vertical-align: top;\n",
       "    }\n",
       "\n",
       "    .dataframe thead th {\n",
       "        text-align: right;\n",
       "    }\n",
       "</style>\n",
       "<table border=\"1\" class=\"dataframe\">\n",
       "  <thead>\n",
       "    <tr style=\"text-align: right;\">\n",
       "      <th></th>\n",
       "      <th>b</th>\n",
       "      <th>d</th>\n",
       "      <th>e</th>\n",
       "    </tr>\n",
       "  </thead>\n",
       "  <tbody>\n",
       "    <tr>\n",
       "      <th>台北</th>\n",
       "      <td>-1.793027</td>\n",
       "      <td>0.092308</td>\n",
       "      <td>-0.750060</td>\n",
       "    </tr>\n",
       "    <tr>\n",
       "      <th>台中</th>\n",
       "      <td>-0.388910</td>\n",
       "      <td>-1.840299</td>\n",
       "      <td>1.147167</td>\n",
       "    </tr>\n",
       "    <tr>\n",
       "      <th>台南</th>\n",
       "      <td>0.827059</td>\n",
       "      <td>1.068345</td>\n",
       "      <td>-0.562795</td>\n",
       "    </tr>\n",
       "    <tr>\n",
       "      <th>高雄</th>\n",
       "      <td>1.282273</td>\n",
       "      <td>0.469162</td>\n",
       "      <td>0.881063</td>\n",
       "    </tr>\n",
       "  </tbody>\n",
       "</table>\n",
       "</div>"
      ],
      "text/plain": [
       "           b         d         e\n",
       "台北 -1.793027  0.092308 -0.750060\n",
       "台中 -0.388910 -1.840299  1.147167\n",
       "台南  0.827059  1.068345 -0.562795\n",
       "高雄  1.282273  0.469162  0.881063"
      ]
     },
     "metadata": {},
     "output_type": "display_data"
    },
    {
     "data": {
      "text/html": [
       "<div>\n",
       "<style scoped>\n",
       "    .dataframe tbody tr th:only-of-type {\n",
       "        vertical-align: middle;\n",
       "    }\n",
       "\n",
       "    .dataframe tbody tr th {\n",
       "        vertical-align: top;\n",
       "    }\n",
       "\n",
       "    .dataframe thead th {\n",
       "        text-align: right;\n",
       "    }\n",
       "</style>\n",
       "<table border=\"1\" class=\"dataframe\">\n",
       "  <thead>\n",
       "    <tr style=\"text-align: right;\">\n",
       "      <th></th>\n",
       "      <th>b</th>\n",
       "      <th>d</th>\n",
       "      <th>e</th>\n",
       "    </tr>\n",
       "  </thead>\n",
       "  <tbody>\n",
       "    <tr>\n",
       "      <th>最大值</th>\n",
       "      <td>高雄</td>\n",
       "      <td>台南</td>\n",
       "      <td>台中</td>\n",
       "    </tr>\n",
       "    <tr>\n",
       "      <th>最小值</th>\n",
       "      <td>台北</td>\n",
       "      <td>台中</td>\n",
       "      <td>台北</td>\n",
       "    </tr>\n",
       "  </tbody>\n",
       "</table>\n",
       "</div>"
      ],
      "text/plain": [
       "      b   d   e\n",
       "最大值  高雄  台南  台中\n",
       "最小值  台北  台中  台北"
      ]
     },
     "execution_count": 6,
     "metadata": {},
     "output_type": "execute_result"
    }
   ],
   "source": [
    "def abc(s:pd.Series)->None:\n",
    "    max = s.max()\n",
    "    max_value = s[s==max].index[0]\n",
    "    min = s.min()\n",
    "    min_value = s[s==min].index[0]\n",
    "    return pd.Series([max_value,min_value],index=['最大值','最小值'])\n",
    "\n",
    "\n",
    "display(frame)\n",
    "frame.apply(abc,axis = 0)"
   ]
  },
  {
   "cell_type": "code",
   "execution_count": 7,
   "metadata": {},
   "outputs": [
    {
     "data": {
      "text/plain": [
       "b   -1.793027\n",
       "d    0.092308\n",
       "e   -0.750060\n",
       "Name: 台北, dtype: float64"
      ]
     },
     "metadata": {},
     "output_type": "display_data"
    },
    {
     "data": {
      "text/plain": [
       "b   -0.388910\n",
       "d   -1.840299\n",
       "e    1.147167\n",
       "Name: 台中, dtype: float64"
      ]
     },
     "metadata": {},
     "output_type": "display_data"
    },
    {
     "data": {
      "text/plain": [
       "b    0.827059\n",
       "d    1.068345\n",
       "e   -0.562795\n",
       "Name: 台南, dtype: float64"
      ]
     },
     "metadata": {},
     "output_type": "display_data"
    },
    {
     "data": {
      "text/plain": [
       "b    1.282273\n",
       "d    0.469162\n",
       "e    0.881063\n",
       "Name: 高雄, dtype: float64"
      ]
     },
     "metadata": {},
     "output_type": "display_data"
    },
    {
     "data": {
      "text/plain": [
       "台北    None\n",
       "台中    None\n",
       "台南    None\n",
       "高雄    None\n",
       "dtype: object"
      ]
     },
     "execution_count": 7,
     "metadata": {},
     "output_type": "execute_result"
    }
   ],
   "source": [
    "def a(s:pd.Series)->None:\n",
    "    display(s)\n",
    "frame.apply(a,axis=1)"
   ]
  },
  {
   "cell_type": "code",
   "execution_count": 11,
   "metadata": {},
   "outputs": [
    {
     "data": {
      "text/html": [
       "<div>\n",
       "<style scoped>\n",
       "    .dataframe tbody tr th:only-of-type {\n",
       "        vertical-align: middle;\n",
       "    }\n",
       "\n",
       "    .dataframe tbody tr th {\n",
       "        vertical-align: top;\n",
       "    }\n",
       "\n",
       "    .dataframe thead th {\n",
       "        text-align: right;\n",
       "    }\n",
       "</style>\n",
       "<table border=\"1\" class=\"dataframe\">\n",
       "  <thead>\n",
       "    <tr style=\"text-align: right;\">\n",
       "      <th></th>\n",
       "      <th>最大值</th>\n",
       "      <th>最小值</th>\n",
       "    </tr>\n",
       "  </thead>\n",
       "  <tbody>\n",
       "    <tr>\n",
       "      <th>台北</th>\n",
       "      <td>d</td>\n",
       "      <td>b</td>\n",
       "    </tr>\n",
       "    <tr>\n",
       "      <th>台中</th>\n",
       "      <td>e</td>\n",
       "      <td>d</td>\n",
       "    </tr>\n",
       "    <tr>\n",
       "      <th>台南</th>\n",
       "      <td>d</td>\n",
       "      <td>e</td>\n",
       "    </tr>\n",
       "    <tr>\n",
       "      <th>高雄</th>\n",
       "      <td>b</td>\n",
       "      <td>d</td>\n",
       "    </tr>\n",
       "  </tbody>\n",
       "</table>\n",
       "</div>"
      ],
      "text/plain": [
       "   最大值 最小值\n",
       "台北   d   b\n",
       "台中   e   d\n",
       "台南   d   e\n",
       "高雄   b   d"
      ]
     },
     "execution_count": 11,
     "metadata": {},
     "output_type": "execute_result"
    }
   ],
   "source": [
    "def a(s:pd.Series)->pd.Series:\n",
    "    max = s.max()\n",
    "    max_value = s[s==max].index[0]\n",
    "    min = s.min()\n",
    "    min_value = s[s==min].index[0]\n",
    "    return pd.Series([max_value,min_value],['最大值','最小值'])\n",
    "\n",
    "\n",
    "frame.apply(a,axis=1)"
   ]
  },
  {
   "cell_type": "code",
   "execution_count": 9,
   "metadata": {},
   "outputs": [
    {
     "data": {
      "text/plain": [
       "台北    1.885335\n",
       "台中    2.987467\n",
       "台南    1.631141\n",
       "高雄    0.813111\n",
       "dtype: float64"
      ]
     },
     "execution_count": 9,
     "metadata": {},
     "output_type": "execute_result"
    }
   ],
   "source": [
    "def abc(s:pd.Series)->float:\n",
    "    return s.max() - s.min()\n",
    "\n",
    "frame.apply(abc,axis = 1)"
   ]
  },
  {
   "cell_type": "code",
   "execution_count": 10,
   "metadata": {},
   "outputs": [
    {
     "data": {
      "text/html": [
       "<div>\n",
       "<style scoped>\n",
       "    .dataframe tbody tr th:only-of-type {\n",
       "        vertical-align: middle;\n",
       "    }\n",
       "\n",
       "    .dataframe tbody tr th {\n",
       "        vertical-align: top;\n",
       "    }\n",
       "\n",
       "    .dataframe thead th {\n",
       "        text-align: right;\n",
       "    }\n",
       "</style>\n",
       "<table border=\"1\" class=\"dataframe\">\n",
       "  <thead>\n",
       "    <tr style=\"text-align: right;\">\n",
       "      <th></th>\n",
       "      <th>最大</th>\n",
       "      <th>最小</th>\n",
       "    </tr>\n",
       "  </thead>\n",
       "  <tbody>\n",
       "    <tr>\n",
       "      <th>台北</th>\n",
       "      <td>0.092308</td>\n",
       "      <td>-1.793027</td>\n",
       "    </tr>\n",
       "    <tr>\n",
       "      <th>台中</th>\n",
       "      <td>1.147167</td>\n",
       "      <td>-1.840299</td>\n",
       "    </tr>\n",
       "    <tr>\n",
       "      <th>台南</th>\n",
       "      <td>1.068345</td>\n",
       "      <td>-0.562795</td>\n",
       "    </tr>\n",
       "    <tr>\n",
       "      <th>高雄</th>\n",
       "      <td>1.282273</td>\n",
       "      <td>0.469162</td>\n",
       "    </tr>\n",
       "  </tbody>\n",
       "</table>\n",
       "</div>"
      ],
      "text/plain": [
       "          最大        最小\n",
       "台北  0.092308 -1.793027\n",
       "台中  1.147167 -1.840299\n",
       "台南  1.068345 -0.562795\n",
       "高雄  1.282273  0.469162"
      ]
     },
     "execution_count": 10,
     "metadata": {},
     "output_type": "execute_result"
    }
   ],
   "source": [
    "def abc(s:pd.Series)->pd.Series:\n",
    "    return pd.Series([s.max(),s.min()],index = ['最大','最小'])\n",
    "\n",
    "frame.apply(abc,axis = 1)#apply會自動組合兩個series"
   ]
  }
 ],
 "metadata": {
  "kernelspec": {
   "display_name": "venv1",
   "language": "python",
   "name": "python3"
  },
  "language_info": {
   "codemirror_mode": {
    "name": "ipython",
    "version": 3
   },
   "file_extension": ".py",
   "mimetype": "text/x-python",
   "name": "python",
   "nbconvert_exporter": "python",
   "pygments_lexer": "ipython3",
   "version": "3.10.11"
  },
  "orig_nbformat": 4
 },
 "nbformat": 4,
 "nbformat_minor": 2
}
