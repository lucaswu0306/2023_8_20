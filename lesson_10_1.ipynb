{
  "nbformat": 4,
  "nbformat_minor": 0,
  "metadata": {
    "colab": {
      "provenance": [],
      "authorship_tag": "ABX9TyOBMdfkJMa3AeGIa+veEZUz",
      "include_colab_link": true
    },
    "kernelspec": {
      "name": "python3",
      "display_name": "Python 3"
    },
    "language_info": {
      "name": "python"
    }
  },
  "cells": [
    {
      "cell_type": "markdown",
      "metadata": {
        "id": "view-in-github",
        "colab_type": "text"
      },
      "source": [
        "<a href=\"https://colab.research.google.com/github/lucaswu0306/2023_8_20/blob/main/lesson_10_1.ipynb\" target=\"_parent\"><img src=\"https://colab.research.google.com/assets/colab-badge.svg\" alt=\"Open In Colab\"/></a>"
      ]
    },
    {
      "cell_type": "code",
      "execution_count": 7,
      "metadata": {
        "id": "ktlxbBssnU5O"
      },
      "outputs": [],
      "source": [
        "def math_express(op,value1,value2):\n",
        "  if op == \"+\":\n",
        "    return value1+value2\n",
        "  elif op == \"-\":\n",
        "    return value1-value2\n",
        "  elif op == \"*\":\n",
        "    return value1*value2\n",
        "  elif op == \"/\":\n",
        "    return value1/value2\n",
        "  else:\n",
        "    return -1"
      ]
    },
    {
      "cell_type": "code",
      "source": [
        "math_express('+',70,30)"
      ],
      "metadata": {
        "colab": {
          "base_uri": "https://localhost:8080/"
        },
        "id": "4atm1NUtoWgI",
        "outputId": "875ba7c2-d9d5-4aa7-9361-a76362f9f34d"
      },
      "execution_count": 14,
      "outputs": [
        {
          "output_type": "execute_result",
          "data": {
            "text/plain": [
              "100"
            ]
          },
          "metadata": {},
          "execution_count": 14
        }
      ]
    },
    {
      "cell_type": "code",
      "source": [
        "print(1,2,3,\"a\",\"b\",\"c\",\"d\",True,end=\".\\n\",sep=\"-\")"
      ],
      "metadata": {
        "colab": {
          "base_uri": "https://localhost:8080/"
        },
        "id": "xGPvwUTTrzQz",
        "outputId": "0ff6edff-2f63-4e47-89a0-811d2dce60fb"
      },
      "execution_count": 13,
      "outputs": [
        {
          "output_type": "stream",
          "name": "stdout",
          "text": [
            "1-2-3-a-b-c-d-True.\n"
          ]
        }
      ]
    }
  ]
}