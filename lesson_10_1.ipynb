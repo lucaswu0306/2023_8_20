{
  "nbformat": 4,
  "nbformat_minor": 0,
  "metadata": {
    "colab": {
      "provenance": [],
      "authorship_tag": "ABX9TyPiu8JrEauzIO/smUmK6iID",
      "include_colab_link": true
    },
    "kernelspec": {
      "name": "python3",
      "display_name": "Python 3"
    },
    "language_info": {
      "name": "python"
    }
  },
  "cells": [
    {
      "cell_type": "markdown",
      "metadata": {
        "id": "view-in-github",
        "colab_type": "text"
      },
      "source": [
        "<a href=\"https://colab.research.google.com/github/lucaswu0306/2023_8_20/blob/main/lesson_10_1.ipynb\" target=\"_parent\"><img src=\"https://colab.research.google.com/assets/colab-badge.svg\" alt=\"Open In Colab\"/></a>"
      ]
    },
    {
      "cell_type": "code",
      "execution_count": 2,
      "metadata": {
        "id": "ktlxbBssnU5O"
      },
      "outputs": [],
      "source": [
        "def math_express(op,value1,value2):\n",
        "  if op == '+':\n",
        "    return value1+value2\n",
        "  elif op == '-':\n",
        "    return value1-value2\n",
        "  elif op == '*':\n",
        "    return value1*value2\n",
        "  elif op == '/':\n",
        "    return value1/value2\n",
        "  else:\n",
        "    return 0"
      ]
    },
    {
      "cell_type": "code",
      "source": [
        "math_express('-',70,30)"
      ],
      "metadata": {
        "colab": {
          "base_uri": "https://localhost:8080/"
        },
        "id": "4atm1NUtoWgI",
        "outputId": "d104dbd1-bcac-4cc4-cb14-fec852a47080"
      },
      "execution_count": 3,
      "outputs": [
        {
          "output_type": "execute_result",
          "data": {
            "text/plain": [
              "40"
            ]
          },
          "metadata": {},
          "execution_count": 3
        }
      ]
    }
  ]
}