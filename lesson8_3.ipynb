{
  "cells": [
    {
      "cell_type": "markdown",
      "metadata": {
        "colab_type": "text",
        "id": "view-in-github"
      },
      "source": [
        "<a href=\"https://colab.research.google.com/github/lucaswu0306/2023_8_20/blob/main/lesson8_3.ipynb\" target=\"_parent\"><img src=\"https://colab.research.google.com/assets/colab-badge.svg\" alt=\"Open In Colab\"/></a>"
      ]
    },
    {
      "cell_type": "code",
      "execution_count": 5,
      "metadata": {
        "id": "GIiWN0Mzo9fC"
      },
      "outputs": [],
      "source": [
        "#sequence\n",
        "letter = 'Hello world'"
      ]
    },
    {
      "cell_type": "code",
      "execution_count": 6,
      "metadata": {
        "colab": {
          "base_uri": "https://localhost:8080/",
          "height": 73
        },
        "id": "zozba8pIpfxA",
        "outputId": "b0d46ceb-72f5-4d13-813e-edb1d2d407d4"
      },
      "outputs": [
        {
          "data": {
            "text/plain": [
              "'H'"
            ]
          },
          "metadata": {},
          "output_type": "display_data"
        },
        {
          "data": {
            "text/plain": [
              "'e'"
            ]
          },
          "metadata": {},
          "output_type": "display_data"
        },
        {
          "data": {
            "text/plain": [
              "'l'"
            ]
          },
          "execution_count": 6,
          "metadata": {},
          "output_type": "execute_result"
        }
      ],
      "source": [
        "#subscript\n",
        "#display 可以讓 letter[0],letter[1],letter[2]同時顯示\n",
        "#The subscript operator is defined as square brackets []\n",
        "display(letter[0])\n",
        "display(letter[1])\n",
        "letter[2]"
      ]
    },
    {
      "cell_type": "code",
      "execution_count": 7,
      "metadata": {
        "colab": {
          "base_uri": "https://localhost:8080/"
        },
        "id": "jlFhZeoEqpGf",
        "outputId": "d11bdc8d-b87d-49a1-954b-775bd328a79c"
      },
      "outputs": [
        {
          "data": {
            "text/plain": [
              "('H', 'e', 'l')"
            ]
          },
          "execution_count": 7,
          "metadata": {},
          "output_type": "execute_result"
        }
      ],
      "source": [
        "#subscript，多一個中括號\n",
        "#index\n",
        "#subscript(index)\n",
        "letter[0],letter[1],letter[2]"
      ]
    },
    {
      "cell_type": "code",
      "execution_count": 8,
      "metadata": {
        "colab": {
          "base_uri": "https://localhost:8080/"
        },
        "id": "6ButUCKFq678",
        "outputId": "235aab4b-d259-42fc-e4f2-9240dc4f0145"
      },
      "outputs": [
        {
          "data": {
            "text/plain": [
              "('Hello', ' world', 'Hello world')"
            ]
          },
          "execution_count": 8,
          "metadata": {},
          "output_type": "execute_result"
        }
      ],
      "source": [
        "#slice切割\n",
        "letter[0:5],letter[5:],letter[:]#不包含第六個index5"
      ]
    },
    {
      "cell_type": "code",
      "execution_count": 9,
      "metadata": {
        "colab": {
          "base_uri": "https://localhost:8080/"
        },
        "id": "wDqOh9S4sluI",
        "outputId": "2689b556-8fae-4d1f-9891-1855110cb7ef"
      },
      "outputs": [
        {
          "name": "stdout",
          "output_type": "stream",
          "text": [
            "H-e-l-l-o- -w-o-r-l-d-"
          ]
        }
      ],
      "source": [
        "for word in letter:\n",
        "  print(word,end='-')"
      ]
    },
    {
      "cell_type": "code",
      "execution_count": 11,
      "metadata": {
        "colab": {
          "base_uri": "https://localhost:8080/"
        },
        "id": "tU-63VEss9sn",
        "outputId": "1e51520a-02ed-4b9f-e6c6-7d3b8f2e5cbd"
      },
      "outputs": [
        {
          "name": "stdout",
          "output_type": "stream",
          "text": [
            "(0, 'H')\n",
            "(1, 'e')\n",
            "(2, 'l')\n",
            "(3, 'l')\n",
            "(4, 'o')\n",
            "(5, ' ')\n",
            "(6, 'w')\n",
            "(7, 'o')\n",
            "(8, 'r')\n",
            "(9, 'l')\n",
            "(10, 'd')\n"
          ]
        }
      ],
      "source": [
        "#iterable 包含(range,sequence,enumerate....)\n",
        "for t in enumerate(letter):\n",
        "  print(t)\n"
      ]
    },
    {
      "cell_type": "code",
      "execution_count": null,
      "metadata": {
        "colab": {
          "base_uri": "https://localhost:8080/"
        },
        "id": "x6n3a0g_uSEP",
        "outputId": "1878b4b7-f5d0-494d-ffaf-f62587996656"
      },
      "outputs": [
        {
          "data": {
            "text/plain": [
              "str"
            ]
          },
          "execution_count": 18,
          "metadata": {},
          "output_type": "execute_result"
        }
      ],
      "source": [
        "type(letter)"
      ]
    },
    {
      "cell_type": "code",
      "execution_count": null,
      "metadata": {
        "colab": {
          "base_uri": "https://localhost:8080/"
        },
        "id": "r8VRYS0Xu6Ic",
        "outputId": "4cb8d7fa-713e-4109-9be7-595215a00d8c"
      },
      "outputs": [
        {
          "name": "stdout",
          "output_type": "stream",
          "text": [
            "Taipei\n",
            "Taipei TAIPEI\n"
          ]
        }
      ],
      "source": [
        "city = 'taipei'\n",
        "print(city.capitalize())\n",
        "#tuple 輸出\n",
        "print(city.capitalize(),city.upper())"
      ]
    },
    {
      "cell_type": "code",
      "execution_count": null,
      "metadata": {
        "colab": {
          "base_uri": "https://localhost:8080/"
        },
        "id": "zHQzprWwxfgJ",
        "outputId": "4ad0e30a-0be7-4ecd-948e-f67590bb3d8d"
      },
      "outputs": [
        {
          "data": {
            "text/plain": [
              "23"
            ]
          },
          "execution_count": 26,
          "metadata": {},
          "output_type": "execute_result"
        }
      ],
      "source": [
        "num:int = 100556565456456\n",
        "num.bit_count()"
      ]
    },
    {
      "cell_type": "code",
      "execution_count": 12,
      "metadata": {
        "colab": {
          "base_uri": "https://localhost:8080/",
          "height": 36
        },
        "id": "0IJg3NMiydam",
        "outputId": "8ad726b0-983d-4ba6-a954-203a258982ed"
      },
      "outputs": [
        {
          "data": {
            "text/plain": [
              "'Penny'"
            ]
          },
          "execution_count": 12,
          "metadata": {},
          "output_type": "execute_result"
        }
      ],
      "source": [
        "#字串取代\n",
        "name = 'Henny'\n",
        "#複製後再取代\n",
        "name.replace('H','P')\n",
        "#應改為\n",
        "name = name.replace('H','P')\n",
        "name"
      ]
    },
    {
      "cell_type": "code",
      "execution_count": null,
      "metadata": {
        "colab": {
          "base_uri": "https://localhost:8080/",
          "height": 36
        },
        "id": "xiXYMBX-2tbr",
        "outputId": "2d43d58c-bf5b-4542-d392-4a1be841f1d9"
      },
      "outputs": [
        {
          "data": {
            "application/vnd.google.colaboratory.intrinsic+json": {
              "type": "string"
            },
            "text/plain": [
              "'Penny'"
            ]
          },
          "execution_count": 35,
          "metadata": {},
          "output_type": "execute_result"
        }
      ],
      "source": [
        "name1 = 'Henny'\n",
        "name1 = 'P' + name1[1:]\n",
        "name1"
      ]
    },
    {
      "cell_type": "code",
      "execution_count": null,
      "metadata": {
        "colab": {
          "base_uri": "https://localhost:8080/",
          "height": 52
        },
        "id": "RbWJyw2v3MfW",
        "outputId": "0132615f-dfe9-4597-cd8b-73de5fdbba99"
      },
      "outputs": [
        {
          "data": {
            "text/plain": [
              "25"
            ]
          },
          "metadata": {},
          "output_type": "display_data"
        },
        {
          "data": {
            "text/plain": [
              "8"
            ]
          },
          "metadata": {},
          "output_type": "display_data"
        }
      ],
      "source": [
        "str1 = \"this is python tutorial, there\"\n",
        "display(str1.find(\"there\"))\n",
        "display(str1.find(\"python\"))"
      ]
    },
    {
      "cell_type": "code",
      "execution_count": null,
      "metadata": {
        "colab": {
          "base_uri": "https://localhost:8080/",
          "height": 69
        },
        "id": "zk24odzJ4iwm",
        "outputId": "692b7833-7af0-4a4c-db32-37f3ce9c9d8e"
      },
      "outputs": [
        {
          "data": {
            "text/plain": [
              "True"
            ]
          },
          "metadata": {},
          "output_type": "display_data"
        },
        {
          "data": {
            "text/plain": [
              "False"
            ]
          },
          "metadata": {},
          "output_type": "display_data"
        },
        {
          "data": {
            "text/plain": [
              "True"
            ]
          },
          "metadata": {},
          "output_type": "display_data"
        }
      ],
      "source": [
        "#in\n",
        "#not in\n",
        "display(\"python\" in str1)#傳出bool值\n",
        "display(\"not\" in str1)\n",
        "display(\"not\" not in str1)"
      ]
    },
    {
      "cell_type": "code",
      "execution_count": null,
      "metadata": {
        "colab": {
          "base_uri": "https://localhost:8080/"
        },
        "id": "1tMPeO-t76Ft",
        "outputId": "01a3f849-c584-46ef-c4fc-c89f7e385e83"
      },
      "outputs": [
        {
          "data": {
            "text/plain": [
              "('H-e-l-l-o', '1-2-3-4-5')"
            ]
          },
          "execution_count": 56,
          "metadata": {},
          "output_type": "execute_result"
        }
      ],
      "source": [
        "#str實體方法()\n",
        "#join\n",
        "#split\n",
        "#join 只能傳入一個引數 tuple需將不同字串以()做為一個引數argument\n",
        "\"-\".join(\"Hello\"),\"-\".join((\"1\",\"2\",\"3\",\"4\",\"5\"))#tuple用逗號連接"
      ]
    },
    {
      "cell_type": "code",
      "execution_count": null,
      "metadata": {
        "colab": {
          "base_uri": "https://localhost:8080/"
        },
        "id": "j4-UF2RT-haU",
        "outputId": "de256e06-5ff0-45ab-862f-c0aa25e123e8"
      },
      "outputs": [
        {
          "data": {
            "text/plain": [
              "['Hello!', 'world']"
            ]
          },
          "execution_count": 64,
          "metadata": {},
          "output_type": "execute_result"
        }
      ],
      "source": [
        "\"Hello! world\".split(\" \")"
      ]
    },
    {
      "cell_type": "code",
      "execution_count": null,
      "metadata": {
        "colab": {
          "base_uri": "https://localhost:8080/"
        },
        "id": "xvFdGovy_Mtj",
        "outputId": "b9ddc8c5-e2e6-42bd-d46a-151fa6cf8851"
      },
      "outputs": [
        {
          "data": {
            "text/plain": [
              "True"
            ]
          },
          "execution_count": 65,
          "metadata": {},
          "output_type": "execute_result"
        }
      ],
      "source": [
        "name:str = \"lucas\"\n",
        "name.isalpha()#檢查是否都是字元傳出bool"
      ]
    },
    {
      "cell_type": "code",
      "execution_count": null,
      "metadata": {
        "colab": {
          "base_uri": "https://localhost:8080/"
        },
        "id": "FhB9fsys_jQg",
        "outputId": "eed66a15-8d6d-4b46-a81b-a04901cf2fff"
      },
      "outputs": [
        {
          "data": {
            "text/plain": [
              "(True, True)"
            ]
          },
          "execution_count": 69,
          "metadata": {},
          "output_type": "execute_result"
        }
      ],
      "source": [
        "number:str=\"12345\"\n",
        "number.isdigit(),number.isdecimal()#decimal數值"
      ]
    },
    {
      "cell_type": "code",
      "execution_count": null,
      "metadata": {
        "colab": {
          "base_uri": "https://localhost:8080/"
        },
        "id": "9VRNnBqVAGJN",
        "outputId": "f3186176-bf59-4d32-9354-004668a7bfa0"
      },
      "outputs": [
        {
          "data": {
            "text/plain": [
              "(False, False, True)"
            ]
          },
          "execution_count": 73,
          "metadata": {},
          "output_type": "execute_result"
        }
      ],
      "source": [
        "mix = \"123abc\"\n",
        "mix.isdigit(),mix.isalpha(),mix.isalnum()#isalnum 數字英文"
      ]
    },
    {
      "cell_type": "code",
      "execution_count": null,
      "metadata": {
        "id": "jf43VgChBL_f"
      },
      "outputs": [],
      "source": [
        "def add(first:int, second:int) -> int:\n",
        "    '''\n",
        "    加總的運算\n",
        "\n",
        "    2個參數的相加\n",
        "    '''\n",
        "    return first + second"
      ]
    },
    {
      "cell_type": "code",
      "execution_count": null,
      "metadata": {
        "colab": {
          "base_uri": "https://localhost:8080/"
        },
        "id": "3Zgc0JzqBPQQ",
        "outputId": "26bd6572-0c27-44e1-8b49-aa93adfeff1a"
      },
      "outputs": [
        {
          "name": "stdout",
          "output_type": "stream",
          "text": [
            "Help on function add in module __main__:\n",
            "\n",
            "add(first: int, second: int) -> int\n",
            "    加總的運算\n",
            "    \n",
            "    2個參數的相加\n",
            "\n"
          ]
        }
      ],
      "source": [
        "help(add)"
      ]
    },
    {
      "cell_type": "code",
      "execution_count": null,
      "metadata": {
        "id": "knZGE3FtCLai"
      },
      "outputs": [],
      "source": [
        "def add(a:int,b:int):\n",
        "    print('''\n",
        "    加總的運算\n",
        "\n",
        "    2個參數的相加\n",
        "    ''')\n",
        "    return a+b"
      ]
    },
    {
      "cell_type": "code",
      "execution_count": null,
      "metadata": {
        "colab": {
          "base_uri": "https://localhost:8080/"
        },
        "id": "eIeyS_nFCR1W",
        "outputId": "24471987-dbf0-4d67-dace-142a0995a1b4"
      },
      "outputs": [
        {
          "name": "stdout",
          "output_type": "stream",
          "text": [
            "\n",
            "    加總的運算\n",
            "\n",
            "    2個參數的相加\n",
            "    \n"
          ]
        },
        {
          "data": {
            "text/plain": [
              "3"
            ]
          },
          "execution_count": 91,
          "metadata": {},
          "output_type": "execute_result"
        }
      ],
      "source": [
        "add(1,2)"
      ]
    }
  ],
  "metadata": {
    "colab": {
      "authorship_tag": "ABX9TyPO0M+wVx8cKOlje/2qqaBO",
      "include_colab_link": true,
      "provenance": []
    },
    "kernelspec": {
      "display_name": "Python 3",
      "name": "python3"
    },
    "language_info": {
      "codemirror_mode": {
        "name": "ipython",
        "version": 3
      },
      "file_extension": ".py",
      "mimetype": "text/x-python",
      "name": "python",
      "nbconvert_exporter": "python",
      "pygments_lexer": "ipython3",
      "version": "3.11.4"
    }
  },
  "nbformat": 4,
  "nbformat_minor": 0
}
