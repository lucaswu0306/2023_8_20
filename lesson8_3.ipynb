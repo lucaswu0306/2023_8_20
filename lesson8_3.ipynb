{
  "nbformat": 4,
  "nbformat_minor": 0,
  "metadata": {
    "colab": {
      "provenance": [],
      "authorship_tag": "ABX9TyPO0M+wVx8cKOlje/2qqaBO",
      "include_colab_link": true
    },
    "kernelspec": {
      "name": "python3",
      "display_name": "Python 3"
    },
    "language_info": {
      "name": "python"
    }
  },
  "cells": [
    {
      "cell_type": "markdown",
      "metadata": {
        "id": "view-in-github",
        "colab_type": "text"
      },
      "source": [
        "<a href=\"https://colab.research.google.com/github/lucaswu0306/2023_8_20/blob/main/lesson8_3.ipynb\" target=\"_parent\"><img src=\"https://colab.research.google.com/assets/colab-badge.svg\" alt=\"Open In Colab\"/></a>"
      ]
    },
    {
      "cell_type": "code",
      "execution_count": null,
      "metadata": {
        "id": "GIiWN0Mzo9fC"
      },
      "outputs": [],
      "source": [
        "#sequence\n",
        "letter = 'Hello world'"
      ]
    },
    {
      "cell_type": "code",
      "source": [
        "#subscript\n",
        "#display 可以讓 letter[0],letter[1],letter[2]同時顯示\n",
        "display(letter[0])\n",
        "display(letter[1])\n",
        "letter[2]"
      ],
      "metadata": {
        "colab": {
          "base_uri": "https://localhost:8080/",
          "height": 73
        },
        "id": "zozba8pIpfxA",
        "outputId": "b0d46ceb-72f5-4d13-813e-edb1d2d407d4"
      },
      "execution_count": null,
      "outputs": [
        {
          "output_type": "display_data",
          "data": {
            "text/plain": [
              "'H'"
            ],
            "application/vnd.google.colaboratory.intrinsic+json": {
              "type": "string"
            }
          },
          "metadata": {}
        },
        {
          "output_type": "display_data",
          "data": {
            "text/plain": [
              "'e'"
            ],
            "application/vnd.google.colaboratory.intrinsic+json": {
              "type": "string"
            }
          },
          "metadata": {}
        },
        {
          "output_type": "execute_result",
          "data": {
            "text/plain": [
              "'l'"
            ],
            "application/vnd.google.colaboratory.intrinsic+json": {
              "type": "string"
            }
          },
          "metadata": {},
          "execution_count": 8
        }
      ]
    },
    {
      "cell_type": "code",
      "source": [
        "#subscript，多一個中括號\n",
        "#index\n",
        "#subscript(index)\n",
        "letter[0],letter[1],letter[2]"
      ],
      "metadata": {
        "colab": {
          "base_uri": "https://localhost:8080/"
        },
        "id": "jlFhZeoEqpGf",
        "outputId": "d11bdc8d-b87d-49a1-954b-775bd328a79c"
      },
      "execution_count": null,
      "outputs": [
        {
          "output_type": "execute_result",
          "data": {
            "text/plain": [
              "('H', 'e', 'l')"
            ]
          },
          "metadata": {},
          "execution_count": 10
        }
      ]
    },
    {
      "cell_type": "code",
      "source": [
        "#slice切割\n",
        "letter[0:5],letter[5:],letter[:]#不包含第六個index5"
      ],
      "metadata": {
        "colab": {
          "base_uri": "https://localhost:8080/"
        },
        "id": "6ButUCKFq678",
        "outputId": "235aab4b-d259-42fc-e4f2-9240dc4f0145"
      },
      "execution_count": null,
      "outputs": [
        {
          "output_type": "execute_result",
          "data": {
            "text/plain": [
              "('Hello', ' world', 'Hello world')"
            ]
          },
          "metadata": {},
          "execution_count": 15
        }
      ]
    },
    {
      "cell_type": "code",
      "source": [
        "for word in letter:\n",
        "  print(word,end='-')"
      ],
      "metadata": {
        "colab": {
          "base_uri": "https://localhost:8080/"
        },
        "id": "wDqOh9S4sluI",
        "outputId": "2689b556-8fae-4d1f-9891-1855110cb7ef"
      },
      "execution_count": null,
      "outputs": [
        {
          "output_type": "stream",
          "name": "stdout",
          "text": [
            "H-e-l-l-o- -w-o-r-l-d-"
          ]
        }
      ]
    },
    {
      "cell_type": "code",
      "source": [
        "#iterable 包含(range,sequence,enumerate....)\n",
        "for t in enumerate(letter):\n",
        "  print(t)\n"
      ],
      "metadata": {
        "colab": {
          "base_uri": "https://localhost:8080/"
        },
        "id": "tU-63VEss9sn",
        "outputId": "1e51520a-02ed-4b9f-e6c6-7d3b8f2e5cbd"
      },
      "execution_count": null,
      "outputs": [
        {
          "output_type": "stream",
          "name": "stdout",
          "text": [
            "(0, 'H')\n",
            "(1, 'e')\n",
            "(2, 'l')\n",
            "(3, 'l')\n",
            "(4, 'o')\n",
            "(5, ' ')\n",
            "(6, 'w')\n",
            "(7, 'o')\n",
            "(8, 'r')\n",
            "(9, 'l')\n",
            "(10, 'd')\n"
          ]
        }
      ]
    },
    {
      "cell_type": "code",
      "source": [
        "type(letter)"
      ],
      "metadata": {
        "colab": {
          "base_uri": "https://localhost:8080/"
        },
        "id": "x6n3a0g_uSEP",
        "outputId": "1878b4b7-f5d0-494d-ffaf-f62587996656"
      },
      "execution_count": null,
      "outputs": [
        {
          "output_type": "execute_result",
          "data": {
            "text/plain": [
              "str"
            ]
          },
          "metadata": {},
          "execution_count": 18
        }
      ]
    },
    {
      "cell_type": "code",
      "source": [
        "city = 'taipei'\n",
        "print(city.capitalize())\n",
        "#tuple 輸出\n",
        "print(city.capitalize(),city.upper())"
      ],
      "metadata": {
        "colab": {
          "base_uri": "https://localhost:8080/"
        },
        "id": "r8VRYS0Xu6Ic",
        "outputId": "4cb8d7fa-713e-4109-9be7-595215a00d8c"
      },
      "execution_count": null,
      "outputs": [
        {
          "output_type": "stream",
          "name": "stdout",
          "text": [
            "Taipei\n",
            "Taipei TAIPEI\n"
          ]
        }
      ]
    },
    {
      "cell_type": "code",
      "source": [
        "num:int = 100556565456456\n",
        "num.bit_count()"
      ],
      "metadata": {
        "colab": {
          "base_uri": "https://localhost:8080/"
        },
        "id": "zHQzprWwxfgJ",
        "outputId": "4ad0e30a-0be7-4ecd-948e-f67590bb3d8d"
      },
      "execution_count": null,
      "outputs": [
        {
          "output_type": "execute_result",
          "data": {
            "text/plain": [
              "23"
            ]
          },
          "metadata": {},
          "execution_count": 26
        }
      ]
    },
    {
      "cell_type": "code",
      "source": [
        "#字串取代\n",
        "name = 'Henny'\n",
        "#複製後再取代\n",
        "name.replace('H','P')\n",
        "#應改為\n",
        "name = name.replace('H','P')\n",
        "name"
      ],
      "metadata": {
        "colab": {
          "base_uri": "https://localhost:8080/",
          "height": 36
        },
        "id": "0IJg3NMiydam",
        "outputId": "8ad726b0-983d-4ba6-a954-203a258982ed"
      },
      "execution_count": null,
      "outputs": [
        {
          "output_type": "execute_result",
          "data": {
            "text/plain": [
              "'Penny'"
            ],
            "application/vnd.google.colaboratory.intrinsic+json": {
              "type": "string"
            }
          },
          "metadata": {},
          "execution_count": 34
        }
      ]
    },
    {
      "cell_type": "code",
      "source": [
        "name1 = 'Henny'\n",
        "name1 = 'P' + name1[1:]\n",
        "name1"
      ],
      "metadata": {
        "colab": {
          "base_uri": "https://localhost:8080/",
          "height": 36
        },
        "id": "xiXYMBX-2tbr",
        "outputId": "2d43d58c-bf5b-4542-d392-4a1be841f1d9"
      },
      "execution_count": null,
      "outputs": [
        {
          "output_type": "execute_result",
          "data": {
            "text/plain": [
              "'Penny'"
            ],
            "application/vnd.google.colaboratory.intrinsic+json": {
              "type": "string"
            }
          },
          "metadata": {},
          "execution_count": 35
        }
      ]
    },
    {
      "cell_type": "code",
      "source": [
        "str1 = \"this is python tutorial, there\"\n",
        "display(str1.find(\"there\"))\n",
        "display(str1.find(\"python\"))"
      ],
      "metadata": {
        "colab": {
          "base_uri": "https://localhost:8080/",
          "height": 52
        },
        "id": "RbWJyw2v3MfW",
        "outputId": "0132615f-dfe9-4597-cd8b-73de5fdbba99"
      },
      "execution_count": null,
      "outputs": [
        {
          "output_type": "display_data",
          "data": {
            "text/plain": [
              "25"
            ]
          },
          "metadata": {}
        },
        {
          "output_type": "display_data",
          "data": {
            "text/plain": [
              "8"
            ]
          },
          "metadata": {}
        }
      ]
    },
    {
      "cell_type": "code",
      "source": [
        "#in\n",
        "#not in\n",
        "display(\"python\" in str1)#傳出bool值\n",
        "display(\"not\" in str1)\n",
        "display(\"not\" not in str1)"
      ],
      "metadata": {
        "colab": {
          "base_uri": "https://localhost:8080/",
          "height": 69
        },
        "id": "zk24odzJ4iwm",
        "outputId": "692b7833-7af0-4a4c-db32-37f3ce9c9d8e"
      },
      "execution_count": null,
      "outputs": [
        {
          "output_type": "display_data",
          "data": {
            "text/plain": [
              "True"
            ]
          },
          "metadata": {}
        },
        {
          "output_type": "display_data",
          "data": {
            "text/plain": [
              "False"
            ]
          },
          "metadata": {}
        },
        {
          "output_type": "display_data",
          "data": {
            "text/plain": [
              "True"
            ]
          },
          "metadata": {}
        }
      ]
    },
    {
      "cell_type": "code",
      "source": [
        "#str實體方法()\n",
        "#join\n",
        "#split\n",
        "#join 只能傳入一個引數 tuple需將不同字串以()做為一個引數argument\n",
        "\"-\".join(\"Hello\"),\"-\".join((\"1\",\"2\",\"3\",\"4\",\"5\"))#tuple用逗號連接"
      ],
      "metadata": {
        "colab": {
          "base_uri": "https://localhost:8080/"
        },
        "id": "1tMPeO-t76Ft",
        "outputId": "01a3f849-c584-46ef-c4fc-c89f7e385e83"
      },
      "execution_count": null,
      "outputs": [
        {
          "output_type": "execute_result",
          "data": {
            "text/plain": [
              "('H-e-l-l-o', '1-2-3-4-5')"
            ]
          },
          "metadata": {},
          "execution_count": 56
        }
      ]
    },
    {
      "cell_type": "code",
      "source": [
        "\"Hello! world\".split(\" \")"
      ],
      "metadata": {
        "colab": {
          "base_uri": "https://localhost:8080/"
        },
        "id": "j4-UF2RT-haU",
        "outputId": "de256e06-5ff0-45ab-862f-c0aa25e123e8"
      },
      "execution_count": null,
      "outputs": [
        {
          "output_type": "execute_result",
          "data": {
            "text/plain": [
              "['Hello!', 'world']"
            ]
          },
          "metadata": {},
          "execution_count": 64
        }
      ]
    },
    {
      "cell_type": "code",
      "source": [
        "name:str = \"lucas\"\n",
        "name.isalpha()#檢查是否都是字元傳出bool"
      ],
      "metadata": {
        "colab": {
          "base_uri": "https://localhost:8080/"
        },
        "id": "xvFdGovy_Mtj",
        "outputId": "b9ddc8c5-e2e6-42bd-d46a-151fa6cf8851"
      },
      "execution_count": null,
      "outputs": [
        {
          "output_type": "execute_result",
          "data": {
            "text/plain": [
              "True"
            ]
          },
          "metadata": {},
          "execution_count": 65
        }
      ]
    },
    {
      "cell_type": "code",
      "source": [
        "number:str=\"12345\"\n",
        "number.isdigit(),number.isdecimal()#decimal數值"
      ],
      "metadata": {
        "colab": {
          "base_uri": "https://localhost:8080/"
        },
        "id": "FhB9fsys_jQg",
        "outputId": "eed66a15-8d6d-4b46-a81b-a04901cf2fff"
      },
      "execution_count": null,
      "outputs": [
        {
          "output_type": "execute_result",
          "data": {
            "text/plain": [
              "(True, True)"
            ]
          },
          "metadata": {},
          "execution_count": 69
        }
      ]
    },
    {
      "cell_type": "code",
      "source": [
        "mix = \"123abc\"\n",
        "mix.isdigit(),mix.isalpha(),mix.isalnum()#isalnum 數字英文"
      ],
      "metadata": {
        "colab": {
          "base_uri": "https://localhost:8080/"
        },
        "id": "9VRNnBqVAGJN",
        "outputId": "f3186176-bf59-4d32-9354-004668a7bfa0"
      },
      "execution_count": null,
      "outputs": [
        {
          "output_type": "execute_result",
          "data": {
            "text/plain": [
              "(False, False, True)"
            ]
          },
          "metadata": {},
          "execution_count": 73
        }
      ]
    },
    {
      "cell_type": "code",
      "source": [
        "def add(first:int, second:int) -> int:\n",
        "    '''\n",
        "    加總的運算\n",
        "\n",
        "    2個參數的相加\n",
        "    '''\n",
        "    return first + second"
      ],
      "metadata": {
        "id": "jf43VgChBL_f"
      },
      "execution_count": null,
      "outputs": []
    },
    {
      "cell_type": "code",
      "source": [
        "help(add)"
      ],
      "metadata": {
        "colab": {
          "base_uri": "https://localhost:8080/"
        },
        "id": "3Zgc0JzqBPQQ",
        "outputId": "26bd6572-0c27-44e1-8b49-aa93adfeff1a"
      },
      "execution_count": null,
      "outputs": [
        {
          "output_type": "stream",
          "name": "stdout",
          "text": [
            "Help on function add in module __main__:\n",
            "\n",
            "add(first: int, second: int) -> int\n",
            "    加總的運算\n",
            "    \n",
            "    2個參數的相加\n",
            "\n"
          ]
        }
      ]
    },
    {
      "cell_type": "code",
      "source": [
        "def add(a:int,b:int):\n",
        "    print('''\n",
        "    加總的運算\n",
        "\n",
        "    2個參數的相加\n",
        "    ''')\n",
        "    return a+b"
      ],
      "metadata": {
        "id": "knZGE3FtCLai"
      },
      "execution_count": null,
      "outputs": []
    },
    {
      "cell_type": "code",
      "source": [
        "add(1,2)"
      ],
      "metadata": {
        "colab": {
          "base_uri": "https://localhost:8080/"
        },
        "id": "eIeyS_nFCR1W",
        "outputId": "24471987-dbf0-4d67-dace-142a0995a1b4"
      },
      "execution_count": null,
      "outputs": [
        {
          "output_type": "stream",
          "name": "stdout",
          "text": [
            "\n",
            "    加總的運算\n",
            "\n",
            "    2個參數的相加\n",
            "    \n"
          ]
        },
        {
          "output_type": "execute_result",
          "data": {
            "text/plain": [
              "3"
            ]
          },
          "metadata": {},
          "execution_count": 91
        }
      ]
    }
  ]
}