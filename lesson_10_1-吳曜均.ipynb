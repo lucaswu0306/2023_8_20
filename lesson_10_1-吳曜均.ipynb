{
  "cells": [
    {
      "cell_type": "markdown",
      "metadata": {
        "colab_type": "text",
        "id": "view-in-github"
      },
      "source": [
        "<a href=\"https://colab.research.google.com/github/lucaswu0306/2023_8_20/blob/main/lesson_10_1.ipynb\" target=\"_parent\"><img src=\"https://colab.research.google.com/assets/colab-badge.svg\" alt=\"Open In Colab\"/></a>"
      ]
    },
    {
      "cell_type": "code",
      "execution_count": 4,
      "metadata": {
        "id": "ktlxbBssnU5O"
      },
      "outputs": [],
      "source": [
        "#參數的default值\n",
        "def math_express(op,value1=10,value2=10):#第二個參數有default值第三個也要有\n",
        "  if op == \"+\":\n",
        "    return value1+value2\n",
        "  elif op == \"-\":\n",
        "    return value1-value2\n",
        "  elif op == \"*\":\n",
        "    return value1*value2\n",
        "  elif op == \"/\":\n",
        "    return value1/value2\n",
        "  else:\n",
        "    return -1"
      ]
    },
    {
      "cell_type": "code",
      "execution_count": null,
      "metadata": {
        "colab": {
          "base_uri": "https://localhost:8080/"
        },
        "id": "4atm1NUtoWgI",
        "outputId": "875ba7c2-d9d5-4aa7-9361-a76362f9f34d"
      },
      "outputs": [],
      "source": [
        "math_express('+',70,30)"
      ]
    },
    {
      "cell_type": "code",
      "execution_count": 9,
      "metadata": {},
      "outputs": [
        {
          "data": {
            "text/plain": [
              "20"
            ]
          },
          "execution_count": 9,
          "metadata": {},
          "output_type": "execute_result"
        }
      ],
      "source": [
        "math_express(\"+\")#最少要傳入一個引數，因為此函數有一個參數沒有default value"
      ]
    },
    {
      "cell_type": "code",
      "execution_count": 10,
      "metadata": {},
      "outputs": [
        {
          "data": {
            "text/plain": [
              "40"
            ]
          },
          "execution_count": 10,
          "metadata": {},
          "output_type": "execute_result"
        }
      ],
      "source": [
        "math_express(\"+\",value1=30)#如果函數有default值，習慣寫引數名稱\n",
        "math_express(\"+\",30)"
      ]
    },
    {
      "cell_type": "code",
      "execution_count": 11,
      "metadata": {},
      "outputs": [
        {
          "data": {
            "text/plain": [
              "10"
            ]
          },
          "execution_count": 11,
          "metadata": {},
          "output_type": "execute_result"
        }
      ],
      "source": [
        "math_express(\"-\",value1=30,value2=20)"
      ]
    },
    {
      "cell_type": "code",
      "execution_count": 12,
      "metadata": {},
      "outputs": [
        {
          "data": {
            "text/plain": [
              "-1"
            ]
          },
          "execution_count": 12,
          "metadata": {},
          "output_type": "execute_result"
        }
      ],
      "source": [
        "math_express(\"%\")"
      ]
    },
    {
      "cell_type": "code",
      "execution_count": 13,
      "metadata": {
        "colab": {
          "base_uri": "https://localhost:8080/"
        },
        "id": "xGPvwUTTrzQz",
        "outputId": "0ff6edff-2f63-4e47-89a0-811d2dce60fb"
      },
      "outputs": [
        {
          "name": "stdout",
          "output_type": "stream",
          "text": [
            "1-2-3-a-b-c-d-True.\n"
          ]
        }
      ],
      "source": [
        "print(1,2,3,\"a\",\"b\",\"c\",\"d\",True,end=\".\\n\",sep=\"-\")"
      ]
    }
  ],
  "metadata": {
    "colab": {
      "authorship_tag": "ABX9TyOBMdfkJMa3AeGIa+veEZUz",
      "include_colab_link": true,
      "provenance": []
    },
    "kernelspec": {
      "display_name": "Python 3",
      "name": "python3"
    },
    "language_info": {
      "codemirror_mode": {
        "name": "ipython",
        "version": 3
      },
      "file_extension": ".py",
      "mimetype": "text/x-python",
      "name": "python",
      "nbconvert_exporter": "python",
      "pygments_lexer": "ipython3",
      "version": "3.11.6"
    }
  },
  "nbformat": 4,
  "nbformat_minor": 0
}
