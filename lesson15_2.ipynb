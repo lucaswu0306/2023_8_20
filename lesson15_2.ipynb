{
 "cells": [
  {
   "cell_type": "code",
   "execution_count": 2,
   "metadata": {},
   "outputs": [
    {
     "data": {
      "text/plain": [
       "[146,\n",
       " 163,\n",
       " 143,\n",
       " 152,\n",
       " 161,\n",
       " 161,\n",
       " 163,\n",
       " 158,\n",
       " 143,\n",
       " 190,\n",
       " 186,\n",
       " 125,\n",
       " 124,\n",
       " 169,\n",
       " 138,\n",
       " 174,\n",
       " 161,\n",
       " 172,\n",
       " 148,\n",
       " 160,\n",
       " 152,\n",
       " 147,\n",
       " 162,\n",
       " 135,\n",
       " 162,\n",
       " 165,\n",
       " 161,\n",
       " 173,\n",
       " 149,\n",
       " 152,\n",
       " 157,\n",
       " 181,\n",
       " 134,\n",
       " 148,\n",
       " 157,\n",
       " 163,\n",
       " 147,\n",
       " 154,\n",
       " 171,\n",
       " 156,\n",
       " 186,\n",
       " 182,\n",
       " 159,\n",
       " 149,\n",
       " 153,\n",
       " 152,\n",
       " 169,\n",
       " 133,\n",
       " 147,\n",
       " 181]"
      ]
     },
     "execution_count": 2,
     "metadata": {},
     "output_type": "execute_result"
    }
   ],
   "source": [
    "import random\n",
    "chinese = [random.randint(60,100) for _ in range(50)]\n",
    "english = [random.randint(60,100) for _ in range(50)]\n",
    "\n",
    "result = []\n",
    "for i in range(50):\n",
    "    total = chinese[i] + english[i]\n",
    "    result.append(total)\n",
    "result"
   ]
  },
  {
   "cell_type": "code",
   "execution_count": 3,
   "metadata": {},
   "outputs": [],
   "source": [
    "\n",
    "\n"
   ]
  }
 ],
 "metadata": {
  "kernelspec": {
   "display_name": "Python 3",
   "language": "python",
   "name": "python3"
  },
  "language_info": {
   "codemirror_mode": {
    "name": "ipython",
    "version": 3
   },
   "file_extension": ".py",
   "mimetype": "text/x-python",
   "name": "python",
   "nbconvert_exporter": "python",
   "pygments_lexer": "ipython3",
   "version": "3.11.5"
  },
  "orig_nbformat": 4
 },
 "nbformat": 4,
 "nbformat_minor": 2
}
