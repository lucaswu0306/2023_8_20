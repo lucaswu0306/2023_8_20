{
 "cells": [
  {
   "cell_type": "code",
   "execution_count": 2,
   "metadata": {},
   "outputs": [
    {
     "data": {
      "text/plain": [
       "[167,\n",
       " 154,\n",
       " 169,\n",
       " 139,\n",
       " 146,\n",
       " 162,\n",
       " 163,\n",
       " 161,\n",
       " 191,\n",
       " 184,\n",
       " 183,\n",
       " 167,\n",
       " 176,\n",
       " 174,\n",
       " 144,\n",
       " 150,\n",
       " 153,\n",
       " 155,\n",
       " 157,\n",
       " 159,\n",
       " 152,\n",
       " 136,\n",
       " 145,\n",
       " 163,\n",
       " 172,\n",
       " 155,\n",
       " 193,\n",
       " 177,\n",
       " 190,\n",
       " 150,\n",
       " 170,\n",
       " 125,\n",
       " 135,\n",
       " 159,\n",
       " 155,\n",
       " 177,\n",
       " 150,\n",
       " 192,\n",
       " 136,\n",
       " 128,\n",
       " 162,\n",
       " 157,\n",
       " 159,\n",
       " 142,\n",
       " 164,\n",
       " 154,\n",
       " 145,\n",
       " 147,\n",
       " 128,\n",
       " 169]"
      ]
     },
     "execution_count": 2,
     "metadata": {},
     "output_type": "execute_result"
    }
   ],
   "source": [
    "#list 的運算，list不能做陣列運算\n",
    "import random\n",
    "chinese = [random.randint(60,100) for _ in range(50)]\n",
    "english = [random.randint(60,100) for _ in range(50)]\n",
    "\n",
    "result = []\n",
    "for i in range(50):\n",
    "    total = chinese[i] + english[i]\n",
    "    result.append(total)\n",
    "result"
   ]
  },
  {
   "cell_type": "code",
   "execution_count": 3,
   "metadata": {},
   "outputs": [
    {
     "data": {
      "text/plain": [
       "array([138, 133, 137, 143, 152, 146, 173, 142, 144, 159, 155, 173, 158,\n",
       "       140, 169, 143, 156, 145, 181, 136, 162, 173, 154, 163, 156, 131,\n",
       "       146, 156, 129, 152, 169, 153, 160, 153, 139, 162, 148, 173, 158,\n",
       "       145, 126, 179, 151, 159, 164, 116, 133, 161, 170, 147])"
      ]
     },
     "execution_count": 3,
     "metadata": {},
     "output_type": "execute_result"
    }
   ],
   "source": [
    "#使用numpy，陣列運算，numpy可以做陣列運算(ndarray)，ndarray為python的資料結構\n",
    "import numpy as np\n",
    "chinese = np.random.randint(60,high=100,size=50)#random是module裡面的module\n",
    "english = np.random.randint(56,high=90,size=50)\n",
    "result = chinese + english\n",
    "result"
   ]
  },
  {
   "cell_type": "code",
   "execution_count": 4,
   "metadata": {},
   "outputs": [
    {
     "data": {
      "text/plain": [
       "[[91, 98, 82, 82, 88],\n",
       " [63, 79, 99, 98, 83],\n",
       " [65, 71, 77, 83, 62],\n",
       " [96, 81, 72, 66, 97],\n",
       " [99, 89, 70, 81, 68],\n",
       " [91, 79, 64, 100, 73],\n",
       " [99, 96, 66, 89, 96],\n",
       " [95, 78, 75, 73, 94],\n",
       " [100, 84, 80, 93, 92],\n",
       " [84, 97, 82, 96, 81],\n",
       " [81, 95, 66, 66, 70],\n",
       " [77, 96, 83, 97, 98],\n",
       " [69, 99, 95, 95, 91],\n",
       " [90, 69, 85, 80, 98],\n",
       " [86, 70, 78, 75, 76],\n",
       " [87, 91, 83, 62, 91],\n",
       " [73, 74, 80, 93, 89],\n",
       " [85, 84, 72, 67, 82],\n",
       " [61, 98, 66, 61, 70],\n",
       " [90, 66, 85, 78, 96],\n",
       " [99, 74, 68, 73, 94],\n",
       " [99, 82, 70, 64, 68],\n",
       " [92, 81, 95, 64, 60],\n",
       " [99, 62, 93, 97, 68],\n",
       " [67, 72, 87, 98, 81],\n",
       " [87, 87, 60, 77, 61],\n",
       " [62, 99, 96, 84, 77],\n",
       " [83, 89, 68, 81, 76],\n",
       " [67, 78, 87, 83, 72],\n",
       " [97, 74, 74, 63, 85],\n",
       " [83, 94, 90, 66, 96],\n",
       " [63, 72, 91, 80, 65],\n",
       " [69, 85, 63, 99, 77],\n",
       " [80, 99, 95, 95, 99],\n",
       " [81, 95, 60, 66, 84],\n",
       " [98, 95, 64, 63, 70],\n",
       " [78, 77, 97, 97, 68],\n",
       " [97, 92, 72, 62, 69],\n",
       " [76, 95, 74, 67, 69],\n",
       " [94, 69, 75, 90, 63],\n",
       " [91, 65, 99, 97, 93],\n",
       " [68, 73, 87, 98, 63],\n",
       " [82, 100, 64, 67, 73],\n",
       " [62, 60, 89, 87, 64],\n",
       " [88, 60, 99, 63, 61],\n",
       " [98, 64, 98, 76, 71],\n",
       " [65, 76, 99, 99, 93],\n",
       " [98, 100, 75, 86, 65],\n",
       " [74, 66, 99, 96, 98],\n",
       " [90, 70, 62, 98, 64]]"
      ]
     },
     "execution_count": 4,
     "metadata": {},
     "output_type": "execute_result"
    }
   ],
   "source": [
    "import random\n",
    "\n",
    "student = []\n",
    "for i in range(50):\n",
    "    scores = [random.randint(60,100) for _ in range(5)]\n",
    "    student.append(scores)\n",
    "student"
   ]
  },
  {
   "cell_type": "code",
   "execution_count": 5,
   "metadata": {},
   "outputs": [
    {
     "name": "stdout",
     "output_type": "stream",
     "text": [
      "<class 'numpy.ndarray'>\n",
      "[[71 80 70 73 82]\n",
      " [91 89 91 60 89]\n",
      " [85 82 60 62 64]\n",
      " [80 78 82 92 83]\n",
      " [73 92 81 95 84]\n",
      " [88 79 90 68 91]\n",
      " [81 86 89 93 82]\n",
      " [75 66 69 70 94]\n",
      " [74 75 81 77 62]\n",
      " [61 66 87 90 76]\n",
      " [94 79 84 65 90]\n",
      " [77 67 88 93 87]\n",
      " [87 80 63 86 83]\n",
      " [99 80 75 91 81]\n",
      " [86 98 94 78 76]\n",
      " [97 98 81 68 82]\n",
      " [96 92 68 67 71]\n",
      " [98 76 69 99 94]\n",
      " [77 89 75 65 66]\n",
      " [84 86 91 83 96]\n",
      " [68 89 68 90 74]\n",
      " [64 67 82 92 83]\n",
      " [85 63 95 66 70]\n",
      " [86 81 83 96 83]\n",
      " [63 73 98 69 92]\n",
      " [98 97 81 77 69]\n",
      " [81 66 81 98 69]\n",
      " [88 82 92 65 61]\n",
      " [86 87 68 71 72]\n",
      " [68 61 67 85 88]\n",
      " [70 77 73 76 71]\n",
      " [63 86 75 71 70]\n",
      " [88 67 88 93 70]\n",
      " [83 81 75 97 91]\n",
      " [62 87 68 91 95]\n",
      " [77 78 72 74 78]\n",
      " [85 74 83 60 84]\n",
      " [89 76 91 67 81]\n",
      " [97 91 88 60 89]\n",
      " [84 98 68 69 84]\n",
      " [90 95 79 96 91]\n",
      " [67 87 93 92 80]\n",
      " [77 87 65 74 74]\n",
      " [96 70 65 80 79]\n",
      " [78 89 61 75 93]\n",
      " [95 82 76 86 86]\n",
      " [79 71 93 70 65]\n",
      " [83 88 71 63 83]\n",
      " [64 84 66 90 92]\n",
      " [63 74 99 97 80]]\n",
      "[376 420 353 415 425 416 431 374 369 380 412 412 399 426 432 426 394 436\n",
      " 372 440 389 388 379 429 395 422 395 388 384 369 367 365 406 427 403 379\n",
      " 386 404 425 403 451 419 377 390 396 425 378 388 396 413]\n",
      "==========\n",
      "[75.2 84.  70.6 83.  85.  83.2 86.2 74.8 73.8 76.  82.4 82.4 79.8 85.2\n",
      " 86.4 85.2 78.8 87.2 74.4 88.  77.8 77.6 75.8 85.8 79.  84.4 79.  77.6\n",
      " 76.8 73.8 73.4 73.  81.2 85.4 80.6 75.8 77.2 80.8 85.  80.6 90.2 83.8\n",
      " 75.4 78.  79.2 85.  75.6 77.6 79.2 82.6]\n"
     ]
    }
   ],
   "source": [
    "import numpy as np\n",
    "students = np.random.randint(60,high=100,size=(50,5))#size 先列再欄，//二維陣列\n",
    "print(type(students))\n",
    "students[0]\n",
    "print(students)#這種二維陣列，就叫ndarray的實體\n",
    "sum = np.sum(students,axis=1)#axis代表軸，0表示欄，1表示列\n",
    "average = np.average(students,axis=1)\n",
    "print(sum)\n",
    "print(\"==========\")\n",
    "print(average)"
   ]
  },
  {
   "cell_type": "code",
   "execution_count": 6,
   "metadata": {},
   "outputs": [
    {
     "name": "stdout",
     "output_type": "stream",
     "text": [
      "[71 80 70 73 82]\n",
      "[71 80 70 73 82]\n",
      "[71 80 70 73 82]\n",
      "[71 80 70 73 82]\n",
      "[71 80 70 73 82]\n",
      "[71 80 70 73 82]\n",
      "[71 80 70 73 82]\n",
      "[71 80 70 73 82]\n",
      "[71 80 70 73 82]\n",
      "[71 80 70 73 82]\n",
      "[71 80 70 73 82]\n",
      "[71 80 70 73 82]\n",
      "[71 80 70 73 82]\n",
      "[71 80 70 73 82]\n",
      "[71 80 70 73 82]\n",
      "[71 80 70 73 82]\n",
      "[71 80 70 73 82]\n",
      "[71 80 70 73 82]\n",
      "[71 80 70 73 82]\n",
      "[71 80 70 73 82]\n",
      "[71 80 70 73 82]\n",
      "[71 80 70 73 82]\n",
      "[71 80 70 73 82]\n",
      "[71 80 70 73 82]\n",
      "[71 80 70 73 82]\n",
      "[71 80 70 73 82]\n",
      "[71 80 70 73 82]\n",
      "[71 80 70 73 82]\n",
      "[71 80 70 73 82]\n",
      "[71 80 70 73 82]\n",
      "[71 80 70 73 82]\n",
      "[71 80 70 73 82]\n",
      "[71 80 70 73 82]\n",
      "[71 80 70 73 82]\n",
      "[71 80 70 73 82]\n",
      "[71 80 70 73 82]\n",
      "[71 80 70 73 82]\n",
      "[71 80 70 73 82]\n",
      "[71 80 70 73 82]\n",
      "[71 80 70 73 82]\n",
      "[71 80 70 73 82]\n",
      "[71 80 70 73 82]\n",
      "[71 80 70 73 82]\n",
      "[71 80 70 73 82]\n",
      "[71 80 70 73 82]\n",
      "[71 80 70 73 82]\n",
      "[71 80 70 73 82]\n",
      "[71 80 70 73 82]\n",
      "[71 80 70 73 82]\n",
      "[71 80 70 73 82]\n"
     ]
    }
   ],
   "source": [
    "for i in range(50):\n",
    "    print(students[0])"
   ]
  },
  {
   "cell_type": "code",
   "execution_count": 7,
   "metadata": {},
   "outputs": [
    {
     "data": {
      "text/plain": [
       "(2, (50, 5), 250, dtype('int32'))"
      ]
     },
     "execution_count": 7,
     "metadata": {},
     "output_type": "execute_result"
    }
   ],
   "source": [
    "#ndim求維數，shape求幾列幾行，size求元素個數，dtype求元素的型態\n",
    "students.ndim ,students.shape ,students.size ,students.dtype"
   ]
  },
  {
   "cell_type": "code",
   "execution_count": 8,
   "metadata": {},
   "outputs": [
    {
     "data": {
      "text/plain": [
       "array([[1, 2, 3],\n",
       "       [2, 3, 4]])"
      ]
     },
     "execution_count": 8,
     "metadata": {},
     "output_type": "execute_result"
    }
   ],
   "source": [
    "#用list建立ndarray\n",
    "import numpy as np\n",
    "list = [[1,2,3],[2,3,4]]\n",
    "np.array(list)\n"
   ]
  },
  {
   "cell_type": "code",
   "execution_count": 9,
   "metadata": {},
   "outputs": [
    {
     "data": {
      "text/plain": [
       "array([[ 1.93069647,  0.68587864,  0.76708951,  0.31556947],\n",
       "       [-1.83007015,  0.14925511,  0.2471828 , -0.20461185],\n",
       "       [-1.01048779, -0.74089688,  0.74155169,  2.06430968]])"
      ]
     },
     "execution_count": 9,
     "metadata": {},
     "output_type": "execute_result"
    }
   ],
   "source": [
    "#使用numpy random\n",
    "np.random.randn(3,4)#3列4欄\n"
   ]
  },
  {
   "cell_type": "code",
   "execution_count": 10,
   "metadata": {},
   "outputs": [
    {
     "name": "stdout",
     "output_type": "stream",
     "text": [
      "[[0. 0. 0.]\n",
      " [0. 0. 0.]]\n"
     ]
    },
    {
     "data": {
      "text/plain": [
       "array([ -3.        ,  -3.14285714,  -3.28571429,  -3.42857143,\n",
       "        -3.57142857,  -3.71428571,  -3.85714286,  -4.        ,\n",
       "        -4.14285714,  -4.28571429,  -4.42857143,  -4.57142857,\n",
       "        -4.71428571,  -4.85714286,  -5.        ,  -5.14285714,\n",
       "        -5.28571429,  -5.42857143,  -5.57142857,  -5.71428571,\n",
       "        -5.85714286,  -6.        ,  -6.14285714,  -6.28571429,\n",
       "        -6.42857143,  -6.57142857,  -6.71428571,  -6.85714286,\n",
       "        -7.        ,  -7.14285714,  -7.28571429,  -7.42857143,\n",
       "        -7.57142857,  -7.71428571,  -7.85714286,  -8.        ,\n",
       "        -8.14285714,  -8.28571429,  -8.42857143,  -8.57142857,\n",
       "        -8.71428571,  -8.85714286,  -9.        ,  -9.14285714,\n",
       "        -9.28571429,  -9.42857143,  -9.57142857,  -9.71428571,\n",
       "        -9.85714286, -10.        ])"
      ]
     },
     "execution_count": 10,
     "metadata": {},
     "output_type": "execute_result"
    }
   ],
   "source": [
    "#做用numpy內建的function\n",
    "print(np.zeros((2,3)))\n",
    "np.linspace(-3,-10,num=50)\n"
   ]
  },
  {
   "cell_type": "code",
   "execution_count": 11,
   "metadata": {},
   "outputs": [],
   "source": [
    "x = np.linspace(-3,-10,num=50)\n",
    "\n",
    "y1 = 2*x +1\n",
    "y2 = x**2"
   ]
  },
  {
   "cell_type": "code",
   "execution_count": 12,
   "metadata": {},
   "outputs": [
    {
     "data": {
      "image/png": "[encoded data removed]",
      "text/plain": [
       "<Figure size 800x500 with 1 Axes>"
      ]
     },
     "metadata": {},
     "output_type": "display_data"
    }
   ],
   "source": [
    "import matplotlib.pyplot as plt\n",
    "figure = plt.figure(figsize=(8,5))\n",
    "axes = figure.add_subplot(1,1,1)\n",
    "axes.plot(x,y1,'r--')\n",
    "axes.plot(x,y2,'b-')\n",
    "plt.show()"
   ]
  },
  {
   "cell_type": "code",
   "execution_count": 13,
   "metadata": {},
   "outputs": [
    {
     "data": {
      "image/png": "[encoded data removed]",
      "text/plain": [
       "<Figure size 800x500 with 2 Axes>"
      ]
     },
     "metadata": {},
     "output_type": "display_data"
    }
   ],
   "source": [
    "t = np.arange(1,10,0.1)#只有numpy中的arange才可以遞增0.1\n",
    "y1 = np.sin(2*np.pi*t)\n",
    "y2 = np.cos(2*np.pi*t)\n",
    "figure = plt.figure(figsize=(8,5))\n",
    "axes1 = figure.add_subplot(2,1,1)\n",
    "axes2 = figure.add_subplot(2,1,2)\n",
    "axes1.plot(t,y1,'r--')\n",
    "axes2.plot(t,y2,'b-')\n",
    "plt.show()"
   ]
  },
  {
   "cell_type": "code",
   "execution_count": 14,
   "metadata": {},
   "outputs": [
    {
     "data": {
      "text/plain": [
       "array([0, 1, 2, 3, 4])"
      ]
     },
     "execution_count": 14,
     "metadata": {},
     "output_type": "execute_result"
    }
   ],
   "source": [
    "np.arange(5)"
   ]
  }
 ],
 "metadata": {
  "kernelspec": {
   "display_name": "Python 3",
   "language": "python",
   "name": "python3"
  },
  "language_info": {
   "codemirror_mode": {
    "name": "ipython",
    "version": 3
   },
   "file_extension": ".py",
   "mimetype": "text/x-python",
   "name": "python",
   "nbconvert_exporter": "python",
   "pygments_lexer": "ipython3",
   "version": "3.11.6"
  },
  "orig_nbformat": 4
 },
 "nbformat": 4,
 "nbformat_minor": 2
}
