{
 "cells": [
  {
   "cell_type": "code",
   "execution_count": 5,
   "metadata": {},
   "outputs": [
    {
     "data": {
      "text/plain": [
       "[188,\n",
       " 166,\n",
       " 188,\n",
       " 161,\n",
       " 170,\n",
       " 134,\n",
       " 193,\n",
       " 168,\n",
       " 167,\n",
       " 140,\n",
       " 181,\n",
       " 132,\n",
       " 164,\n",
       " 133,\n",
       " 168,\n",
       " 148,\n",
       " 176,\n",
       " 159,\n",
       " 142,\n",
       " 172,\n",
       " 157,\n",
       " 127,\n",
       " 148,\n",
       " 175,\n",
       " 161,\n",
       " 149,\n",
       " 176,\n",
       " 177,\n",
       " 173,\n",
       " 158,\n",
       " 168,\n",
       " 170,\n",
       " 169,\n",
       " 161,\n",
       " 173,\n",
       " 158,\n",
       " 159,\n",
       " 164,\n",
       " 166,\n",
       " 177,\n",
       " 138,\n",
       " 149,\n",
       " 132,\n",
       " 153,\n",
       " 189,\n",
       " 131,\n",
       " 165,\n",
       " 156,\n",
       " 190,\n",
       " 173]"
      ]
     },
     "execution_count": 5,
     "metadata": {},
     "output_type": "execute_result"
    }
   ],
   "source": [
    "import random\n",
    "chinese = [random.randint(60,100) for _ in range(50)]\n",
    "english = [random.randint(60,100) for _ in range(50)]\n",
    "\n",
    "result = []\n",
    "for i in range(50):\n",
    "    total = chinese[i] + english[i]\n",
    "    result.append(total)\n",
    "result"
   ]
  },
  {
   "cell_type": "code",
   "execution_count": 1,
   "metadata": {},
   "outputs": [],
   "source": [
    "import matplotlib.pyplot as plt\n"
   ]
  }
 ],
 "metadata": {
  "kernelspec": {
   "display_name": "Python 3",
   "language": "python",
   "name": "python3"
  },
  "language_info": {
   "codemirror_mode": {
    "name": "ipython",
    "version": 3
   },
   "file_extension": ".py",
   "mimetype": "text/x-python",
   "name": "python",
   "nbconvert_exporter": "python",
   "pygments_lexer": "ipython3",
   "version": "3.11.5"
  },
  "orig_nbformat": 4
 },
 "nbformat": 4,
 "nbformat_minor": 2
}
