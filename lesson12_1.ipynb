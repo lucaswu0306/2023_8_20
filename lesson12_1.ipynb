{
 "cells": [
  {
   "cell_type": "code",
   "execution_count": 1,
   "metadata": {},
   "outputs": [
    {
     "data": {
      "text/plain": [
       "[['張彥博', 77, 66, 57, 75, 91],\n",
       " ['陳倩潔', 80, 97, 66, 93, 71],\n",
       " ['林清英', 56, 50, 87, 75, 60]]"
      ]
     },
     "metadata": {},
     "output_type": "display_data"
    },
    {
     "name": "stdout",
     "output_type": "stream",
     "text": [
      "<_csv.writer object at 0x0000011E3F95B8E0>\n",
      "a1.csv存檔\n"
     ]
    }
   ],
   "source": [
    "import os#是一個資料夾\n",
    "import student\n",
    "#os有一個實體屬性path是一個module\n",
    "file_name = input(\"請輸入要存檔的檔案名稱:\")\n",
    "root = os.path.abspath(path=\"./\")#./ 目前目錄\n",
    "filePath = os.path.join(root,'csv_data',f'{file_name}.csv')#檔案的絕對位置\n",
    "nums = int(input(\"輸入學生個數\"))\n",
    "students = student.get_student(student_num=nums)\n",
    "display(students)\n",
    "\n",
    "import csv\n",
    "with open(filePath,mode='w',encoding='utf-8',newline=\"\") as file:#產生file 物件\n",
    "    csv_writer = csv.writer(file)#import csv 的module中的function 去建立csv_writer的實體\n",
    "    csv_writer.writerow(['姓名', '國文', '英文', '數學', '自然', '社會'])\n",
    "    csv_writer.writerows(students)#再利用csv_writer的實體方法去寫入students二維陣列的每筆資料\n",
    "print(f\"{file_name}.csv存檔\")\n",
    "#c: 代表是儲存在c硬碟裡"
   ]
  },
  {
   "cell_type": "code",
   "execution_count": 11,
   "metadata": {},
   "outputs": [
    {
     "data": {
      "text/plain": [
       "[['蔡欣汝', 81, 51, 64, 96, 92],\n",
       " ['鄭琇亞', 95, 92, 59, 81, 60],\n",
       " ['洪奎夫', 64, 76, 93, 85, 58],\n",
       " ['呂傑宣', 55, 75, 100, 61, 82],\n",
       " ['吳俐芷', 65, 54, 70, 95, 62]]"
      ]
     },
     "metadata": {},
     "output_type": "display_data"
    },
    {
     "name": "stdout",
     "output_type": "stream",
     "text": [
      "a2.csv存檔\n"
     ]
    }
   ],
   "source": [
    "import csv\n",
    "nums = int(input(\"請輸入學生數:\"))\n",
    "students = student.get_student(student_num=nums)\n",
    "display(students)\n",
    "fileName = input(\"請問存檔名稱:(名稱,n)\")\n",
    "if fileName != 'n':\n",
    "    root = os.path.abspath(path=\"./\")#./ 目前目錄\n",
    "    filePath = os.path.join(root,'csv_data',f'{fileName}.csv')#檔案的絕對路徑\n",
    "   \n",
    "    with open(filePath,mode='w',encoding='utf-8',newline=\"\") as file:#產生file 物件\n",
    "        csv_writer = csv.writer(file)#import csv 的module中的function 去建立csv_writer的實體\n",
    "        csv_writer.writerow(['姓名', '國文', '英文', '數學', '自然', '社會'])\n",
    "        csv_writer.writerows(students)#再利用csv_writer的實體方法去寫入students二維陣列的每筆資料\n",
    "    print(f\"{fileName}.csv存檔\")\n",
    "else:\n",
    "    print(\"應用程式結束\")\n",
    "    \n"
   ]
  }
 ],
 "metadata": {
  "kernelspec": {
   "display_name": "Python 3",
   "language": "python",
   "name": "python3"
  },
  "language_info": {
   "codemirror_mode": {
    "name": "ipython",
    "version": 3
   },
   "file_extension": ".py",
   "mimetype": "text/x-python",
   "name": "python",
   "nbconvert_exporter": "python",
   "pygments_lexer": "ipython3",
   "version": "3.11.5"
  },
  "orig_nbformat": 4
 },
 "nbformat": 4,
 "nbformat_minor": 2
}
