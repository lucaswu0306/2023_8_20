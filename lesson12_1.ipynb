{
 "cells": [
  {
   "cell_type": "code",
   "execution_count": 5,
   "metadata": {},
   "outputs": [
    {
     "name": "stdout",
     "output_type": "stream",
     "text": [
      ".csv存檔\n"
     ]
    }
   ],
   "source": [
    "import os#是一個資料夾\n",
    "import student\n",
    "#os有一個實體屬性path是一個module\n",
    "file_name = input(\"請輸入要存檔的檔案名稱:\")\n",
    "root = os.path.abspath(path=\"./\")#./ 目前目錄\n",
    "filePath = os.path.join(root,'csv_data',f'{file_name}.csv')#檔案的絕對位置\n",
    "\n",
    "import csv\n",
    "with open(filePath,mode='w',encoding='utf-8',newline=\"\") as file:#產生file 物件\n",
    "    csv_writer = csv.writer(file)#import csv 的module中的function 去建立csv_writer的實體\n",
    "    csv_writer.writerow(['姓名', '國文', '英文', '數學', '自然', '社會'])\n",
    "    csv_writer.writerows(students)#再利用csv_writer的實體方法去寫入students二維陣列的每筆資料\n",
    "print(f\"{file_name}.csv存檔\")\n",
    "#c: 代表是儲存在c硬碟裡"
   ]
  },
  {
   "cell_type": "code",
   "execution_count": 8,
   "metadata": {},
   "outputs": [
    {
     "data": {
      "text/plain": [
       "[['王坤安', 62, 86, 51, 87, 79],\n",
       " ['鄭琇亞', 70, 73, 100, 64, 63],\n",
       " ['陳俊憲', 64, 91, 59, 79, 99],\n",
       " ['游淑惠', 85, 71, 50, 74, 73],\n",
       " ['陳慧君', 100, 97, 96, 60, 52],\n",
       " ['孫宜珊', 88, 59, 66, 80, 61],\n",
       " ['劉昀天', 97, 74, 63, 70, 65],\n",
       " ['吳柏誠', 55, 91, 70, 94, 82],\n",
       " ['龔姵君', 72, 61, 77, 77, 80],\n",
       " ['張家秀', 52, 54, 64, 83, 98],\n",
       " ['陳得映', 94, 81, 54, 92, 62],\n",
       " ['郭淑枝', 71, 88, 61, 90, 57],\n",
       " ['邱亭君', 92, 69, 66, 85, 77],\n",
       " ['林昱芳', 89, 57, 50, 96, 81],\n",
       " ['盧冠發', 95, 90, 70, 77, 81],\n",
       " ['白美珍', 83, 57, 75, 72, 97],\n",
       " ['劉慧君', 86, 87, 60, 57, 92],\n",
       " ['趙家豪', 72, 94, 70, 98, 90],\n",
       " ['劉佳佩', 70, 96, 99, 94, 78],\n",
       " ['游倫城', 98, 84, 86, 56, 92],\n",
       " ['賴又琦', 83, 73, 67, 51, 89],\n",
       " ['林建宏', 89, 69, 83, 89, 82],\n",
       " ['許淑婷', 90, 72, 90, 58, 99],\n",
       " ['陳彥治', 96, 55, 99, 53, 80],\n",
       " ['黃政甫', 78, 72, 75, 92, 71],\n",
       " ['劉昀天', 66, 83, 79, 93, 51],\n",
       " ['楊建安', 79, 77, 64, 80, 70],\n",
       " ['王良斌', 67, 70, 99, 55, 73],\n",
       " ['林瑞喬', 79, 75, 87, 72, 97],\n",
       " ['郭坤花', 75, 100, 61, 96, 66],\n",
       " ['傅佳琳', 73, 91, 91, 63, 65],\n",
       " ['楊易政', 62, 96, 52, 81, 77],\n",
       " ['方筠紹', 81, 95, 85, 77, 71],\n",
       " ['陳家年', 63, 82, 82, 80, 76],\n",
       " ['陳奇瑄', 79, 56, 99, 82, 55],\n",
       " ['黃旻林', 80, 71, 68, 92, 60],\n",
       " ['張家秀', 83, 66, 57, 78, 55],\n",
       " ['陳冠霞', 59, 84, 82, 74, 81],\n",
       " ['陳筱涵', 55, 59, 52, 82, 71],\n",
       " ['林佳蓉', 63, 55, 97, 97, 53],\n",
       " ['王孝純', 56, 70, 93, 53, 51],\n",
       " ['胡芳瑜', 77, 87, 99, 99, 77],\n",
       " ['李雅怡', 52, 86, 95, 87, 86],\n",
       " ['陳建香', 77, 72, 73, 71, 56],\n",
       " ['李佳彥', 96, 69, 50, 69, 59]]"
      ]
     },
     "metadata": {},
     "output_type": "display_data"
    },
    {
     "name": "stdout",
     "output_type": "stream",
     "text": [
      "a4.csv存檔\n"
     ]
    }
   ],
   "source": [
    "import csv\n",
    "nums = int(input(\"請輸入學生數:\"))\n",
    "students = student.get_student(student_num=nums)\n",
    "display(students)\n",
    "fileName = input(\"請問存檔名稱:(名稱,n)\")\n",
    "if fileName != 'n':\n",
    "    root = os.path.abspath(path=\"./\")#./ 目前目錄\n",
    "    filePath = os.path.join(root,'csv_data',f'{fileName}.csv')#檔案的絕對位置\n",
    "   \n",
    "    with open(filePath,mode='w',encoding='utf-8',newline=\"\") as file:#產生file 物件\n",
    "        csv_writer = csv.writer(file)#import csv 的module中的function 去建立csv_writer的實體\n",
    "        csv_writer.writerow(['姓名', '國文', '英文', '數學', '自然', '社會'])\n",
    "        csv_writer.writerows(students)#再利用csv_writer的實體方法去寫入students二維陣列的每筆資料\n",
    "    print(f\"{fileName}.csv存檔\")\n",
    "else:\n",
    "    print(\"應用程式結束\")\n",
    "    \n"
   ]
  }
 ],
 "metadata": {
  "kernelspec": {
   "display_name": "Python 3",
   "language": "python",
   "name": "python3"
  },
  "language_info": {
   "codemirror_mode": {
    "name": "ipython",
    "version": 3
   },
   "file_extension": ".py",
   "mimetype": "text/x-python",
   "name": "python",
   "nbconvert_exporter": "python",
   "pygments_lexer": "ipython3",
   "version": "3.11.5"
  },
  "orig_nbformat": 4
 },
 "nbformat": 4,
 "nbformat_minor": 2
}
