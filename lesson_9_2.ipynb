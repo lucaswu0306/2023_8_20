{
  "nbformat": 4,
  "nbformat_minor": 0,
  "metadata": {
    "colab": {
      "provenance": [],
      "authorship_tag": "ABX9TyP2gB4nrhqg6gLkXMdgfemF",
      "include_colab_link": true
    },
    "kernelspec": {
      "name": "python3",
      "display_name": "Python 3"
    },
    "language_info": {
      "name": "python"
    }
  },
  "cells": [
    {
      "cell_type": "markdown",
      "metadata": {
        "id": "view-in-github",
        "colab_type": "text"
      },
      "source": [
        "<a href=\"https://colab.research.google.com/github/lucaswu0306/2023_8_20/blob/main/lesson_9_2.ipynb\" target=\"_parent\"><img src=\"https://colab.research.google.com/assets/colab-badge.svg\" alt=\"Open In Colab\"/></a>"
      ]
    },
    {
      "cell_type": "code",
      "execution_count": 15,
      "metadata": {
        "id": "W0mYz8QWhyVu"
      },
      "outputs": [],
      "source": [
        "#正規則表達式\n",
        "import re\n",
        "def isEmail(text:str)->bool:\n",
        "    email_num_regex = re.compile(r'^\\w+([-+.]\\w+)*@\\w+([-.]\\w+)*\\.\\w+([-.]\\w+)*$')#r表示\\d並不是脫逸字元\n",
        "    if email_num_regex.match(text) is None:#regex = regular expression\n",
        "        return False\n",
        "    else:\n",
        "        return True"
      ]
    },
    {
      "cell_type": "code",
      "source": [
        "email_num = input(\"輸入email\")\n",
        "if isEmail(text=email_num):\n",
        "    print(f\"輸入正確，您輸入的email:{email_num}\")\n",
        "else:\n",
        "    print(\"email格式錯誤\")\n",
        "\n",
        "isEmail(email_num)"
      ],
      "metadata": {
        "colab": {
          "base_uri": "https://localhost:8080/"
        },
        "id": "5Hzu740Riafg",
        "outputId": "ba2c5860-ed9c-4166-ae93-c4a4f07d0998"
      },
      "execution_count": 20,
      "outputs": [
        {
          "output_type": "stream",
          "name": "stdout",
          "text": [
            "輸入emaillucaswu0306@gmail.com\n",
            "輸入正確，您輸入的email:lucaswu0306@gmail.com\n"
          ]
        },
        {
          "output_type": "execute_result",
          "data": {
            "text/plain": [
              "True"
            ]
          },
          "metadata": {},
          "execution_count": 20
        }
      ]
    },
    {
      "cell_type": "code",
      "source": [
        "print(\"Hello Python!\")"
      ],
      "metadata": {
        "colab": {
          "base_uri": "https://localhost:8080/"
        },
        "id": "enEr5wRKjSwm",
        "outputId": "200738bf-c8b6-403e-d5ef-3346a80974a1"
      },
      "execution_count": 14,
      "outputs": [
        {
          "output_type": "stream",
          "name": "stdout",
          "text": [
            "Hello Python!\n"
          ]
        }
      ]
    },
    {
      "cell_type": "code",
      "source": [],
      "metadata": {
        "id": "YR7qP6BZik6O"
      },
      "execution_count": null,
      "outputs": []
    }
  ]
}