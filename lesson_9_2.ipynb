{
  "nbformat": 4,
  "nbformat_minor": 0,
  "metadata": {
    "colab": {
      "provenance": [],
      "authorship_tag": "ABX9TyP6KSiegNWestc3r8kQ6e2k",
      "include_colab_link": true
    },
    "kernelspec": {
      "name": "python3",
      "display_name": "Python 3"
    },
    "language_info": {
      "name": "python"
    }
  },
  "cells": [
    {
      "cell_type": "markdown",
      "metadata": {
        "id": "view-in-github",
        "colab_type": "text"
      },
      "source": [
        "<a href=\"https://colab.research.google.com/github/lucaswu0306/2023_8_20/blob/main/lesson_9_2.ipynb\" target=\"_parent\"><img src=\"https://colab.research.google.com/assets/colab-badge.svg\" alt=\"Open In Colab\"/></a>"
      ]
    },
    {
      "cell_type": "code",
      "execution_count": 12,
      "metadata": {
        "id": "W0mYz8QWhyVu"
      },
      "outputs": [],
      "source": [
        "import re\n",
        "def isPhoneNumber(text:str)->bool:\n",
        "    phone_num_regex = re.compile(r'\\d\\d\\d\\d-\\d\\d\\d-\\d\\d\\d')#r表示\\d並不是脫逸字元\n",
        "    if phone_num_regex.match(text) is None:\n",
        "        return False\n",
        "    else:\n",
        "        return True"
      ]
    },
    {
      "cell_type": "code",
      "source": [
        "phone_num = input(\"輸入手機號碼xxxx-xxx-xxx\")\n",
        "if isPhoneNumber(text=phone_num):\n",
        "    print(f\"輸入正確，您輸入的號碼{phone_num}\")\n",
        "else:\n",
        "    print(\"格式錯誤\")\n",
        "    print(\"正確格式是:xxxx-xxx-xxx\")\n",
        "\n",
        "isPhoneNumber(phone_num)"
      ],
      "metadata": {
        "colab": {
          "base_uri": "https://localhost:8080/"
        },
        "id": "5Hzu740Riafg",
        "outputId": "3111b3fd-33c6-459c-c461-ce6eceabc2aa"
      },
      "execution_count": 13,
      "outputs": [
        {
          "output_type": "stream",
          "name": "stdout",
          "text": [
            "輸入手機號碼xxxx-xxx-xxx0966-182-170\n",
            "輸入正確，您輸入的號碼0966-182-170\n"
          ]
        },
        {
          "output_type": "execute_result",
          "data": {
            "text/plain": [
              "True"
            ]
          },
          "metadata": {},
          "execution_count": 13
        }
      ]
    },
    {
      "cell_type": "code",
      "source": [],
      "metadata": {
        "id": "YR7qP6BZik6O"
      },
      "execution_count": null,
      "outputs": []
    }
  ]
}