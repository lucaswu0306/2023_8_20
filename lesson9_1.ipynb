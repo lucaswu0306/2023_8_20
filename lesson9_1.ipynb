{
 "cells": [
  {
   "cell_type": "code",
   "execution_count": 9,
   "metadata": {},
   "outputs": [
    {
     "name": "stdout",
     "output_type": "stream",
     "text": [
      "Hello python\n"
     ]
    }
   ],
   "source": [
    "print(\"Hello python\")"
   ]
  },
  {
   "cell_type": "code",
   "execution_count": 25,
   "metadata": {},
   "outputs": [],
   "source": [
    "\n",
    "#字串正規則表達式\n",
    "import re\n",
    "def isPhoneNumber(text:str)->bool:\n",
    "    phone_num_regex = re.compile(r'\\d\\d\\d\\d-\\d\\d\\d-\\d\\d\\d')#r表示\\d並不是脫逸字元\n",
    "    if phone_num_regex.match(text) is None:\n",
    "        return False\n",
    "    else:\n",
    "        return True\n",
    "    "
   ]
  },
  {
   "cell_type": "code",
   "execution_count": 9,
   "metadata": {},
   "outputs": [],
   "source": [
    "def isPhoneNumber(text:str)->bool:\n",
    "    if len(text) != 10:\n",
    "        print(\"格式錯誤\")\n",
    "        return False\n",
    "    elif not text[:4].isdigit():\n",
    "        print(\"前四個格式有錯誤\")\n",
    "        return False\n",
    "    elif text[4] != '-':\n",
    "        print(\"格式有誤\")\n",
    "        return False\n",
    "    elif not text[5:8].isdigit():\n",
    "        print(\"格式錯誤\")\n",
    "        return False\n",
    "    elif text[8] != '-':\n",
    "        print(\"格式錯誤\")\n",
    "        return False\n",
    "    elif not text[-3:].isdigit():\n",
    "        print(\"格式錯誤\")\n",
    "        return False\n",
    "    else:\n",
    "        return True"
   ]
  },
  {
   "cell_type": "code",
   "execution_count": null,
   "metadata": {},
   "outputs": [],
   "source": [
    "#檢查台灣手機格式(xxxx-xxx-xxx)\n",
    "phone_num = input(\"輸入手機號碼xxxx-xxx-xxx\")\n",
    "if isPhoneNumber(text=phone_num):\n",
    "    print(f\"輸入正確，您輸入的號碼{phone_num}\")\n",
    "else:\n",
    "    print(\"格式錯誤\")\n",
    "    print(\"正確格式是:xxxx-xxx-xxx\")\n",
    "\n",
    "isPhoneNumber(phone_num)"
   ]
  }
 ],
 "metadata": {
  "kernelspec": {
   "display_name": "Python 3",
   "language": "python",
   "name": "python3"
  },
  "language_info": {
   "codemirror_mode": {
    "name": "ipython",
    "version": 3
   },
   "file_extension": ".py",
   "mimetype": "text/x-python",
   "name": "python",
   "nbconvert_exporter": "python",
   "pygments_lexer": "ipython3",
   "version": "3.10.11"
  },
  "orig_nbformat": 4
 },
 "nbformat": 4,
 "nbformat_minor": 2
}
