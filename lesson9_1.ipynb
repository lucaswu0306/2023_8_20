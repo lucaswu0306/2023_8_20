{
 "cells": [
  {
   "cell_type": "code",
   "execution_count": 1,
   "metadata": {},
   "outputs": [
    {
     "name": "stdout",
     "output_type": "stream",
     "text": [
      "Hello python\n"
     ]
    }
   ],
   "source": [
    "print(\"Hello python\")"
   ]
  },
  {
   "cell_type": "code",
   "execution_count": 4,
   "metadata": {},
   "outputs": [
    {
     "name": "stdout",
     "output_type": "stream",
     "text": [
      "格式錯誤\n"
     ]
    }
   ],
   "source": [
    "#檢查台灣手機格式(xxxx-xxx-xxx)\n",
    "phone_num = input(\"輸入手機號碼xxxx-xxx-xxx\")\n",
    "if len(phone_num) != 12:\n",
    "    print(\"格式錯誤\")\n",
    "elif not phone_num[:4].isdigit():\n",
    "    print(\"前四個格式有錯誤\")\n",
    "elif phone_num[4] != '-':\n",
    "    print(\"格式有誤\")\n",
    "elif not phone_num[5:8].isdigit():\n",
    "    print(\"格式錯誤\")\n",
    "elif phone_num[8] != '-':\n",
    "    print(\"格式錯誤\")\n",
    "elif not phone_num[-3:].isdigit():\n",
    "    print(\"格式錯誤\")\n",
    "else:\n",
    "    print(f\"輸入正確，您輸入的號碼{phone_num}\")\n"
   ]
  }
 ],
 "metadata": {
  "kernelspec": {
   "display_name": "Python 3",
   "language": "python",
   "name": "python3"
  },
  "language_info": {
   "codemirror_mode": {
    "name": "ipython",
    "version": 3
   },
   "file_extension": ".py",
   "mimetype": "text/x-python",
   "name": "python",
   "nbconvert_exporter": "python",
   "pygments_lexer": "ipython3",
   "version": "3.10.11"
  },
  "orig_nbformat": 4
 },
 "nbformat": 4,
 "nbformat_minor": 2
}
