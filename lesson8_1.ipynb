{
  "cells": [
    {
      "cell_type": "markdown",
      "metadata": {
        "colab_type": "text",
        "id": "view-in-github"
      },
      "source": [
        "<a href=\"https://colab.research.google.com/github/lucaswu0306/2023_8_20/blob/main/lesson8_1.ipynb\" target=\"_parent\"><img src=\"https://colab.research.google.com/assets/colab-badge.svg\" alt=\"Open In Colab\"/></a>"
      ]
    },
    {
      "cell_type": "code",
      "execution_count": null,
      "metadata": {
        "id": "YvW6XrOobHd2"
      },
      "outputs": [],
      "source": [
        "#沒有參數，沒有傳出值\n",
        "def func_sum()->None:#沒有傳出東西\n",
        "  a=10\n",
        "  b=20\n",
        "  c=a ** b\n",
        "  print(\"呼叫函數\")"
      ]
    },
    {
      "cell_type": "code",
      "execution_count": null,
      "metadata": {
        "colab": {
          "base_uri": "https://localhost:8080/"
        },
        "id": "LTZizH_Pb8wX",
        "outputId": "3076bef1-36e3-48af-a87f-56d55e8024c4"
      },
      "outputs": [
        {
          "name": "stdout",
          "output_type": "stream",
          "text": [
            "呼叫函數\n"
          ]
        }
      ],
      "source": [
        "func_sum()"
      ]
    },
    {
      "cell_type": "code",
      "execution_count": null,
      "metadata": {
        "id": "n71v4ahZdj1J"
      },
      "outputs": [],
      "source": [
        "def func_sum(a:int|float ,b:int|float):\n",
        "  c=a+b\n",
        "  print(f\"{a} + {b} = {c}\")"
      ]
    },
    {
      "cell_type": "code",
      "execution_count": null,
      "metadata": {
        "colab": {
          "base_uri": "https://localhost:8080/"
        },
        "id": "fLW1VvzSet7Z",
        "outputId": "f29c9117-cadc-4b69-e37f-905c0b187ccf"
      },
      "outputs": [
        {
          "name": "stdout",
          "output_type": "stream",
          "text": [
            "5 + 10 = 15\n"
          ]
        }
      ],
      "source": [
        "func_sum(5,10)"
      ]
    },
    {
      "cell_type": "code",
      "execution_count": null,
      "metadata": {
        "colab": {
          "base_uri": "https://localhost:8080/"
        },
        "id": "OR7Fxe28fIlQ",
        "outputId": "d896f361-e196-4c8a-b063-2561de2f188b"
      },
      "outputs": [
        {
          "name": "stdout",
          "output_type": "stream",
          "text": [
            "5 + 10 = 15\n"
          ]
        }
      ],
      "source": [
        "#引數名稱的呼叫\n",
        "func_sum(a=5,b=10)"
      ]
    },
    {
      "cell_type": "code",
      "execution_count": null,
      "metadata": {
        "colab": {
          "base_uri": "https://localhost:8080/"
        },
        "id": "PwiZgcRefY02",
        "outputId": "0da10568-7839-4ed4-c3ce-9043d4d5690b"
      },
      "outputs": [
        {
          "name": "stdout",
          "output_type": "stream",
          "text": [
            "5 + 10 = 15\n"
          ]
        }
      ],
      "source": [
        "#引數名稱的呼叫(引數不用按照順序)\n",
        "func_sum(b=10,a=5)"
      ]
    },
    {
      "cell_type": "code",
      "execution_count": null,
      "metadata": {
        "colab": {
          "base_uri": "https://localhost:8080/"
        },
        "id": "OG1MhNEzf5Dh",
        "outputId": "5f482937-65bc-4740-c7fa-6c9c07461507"
      },
      "outputs": [
        {
          "name": "stdout",
          "output_type": "stream",
          "text": [
            "45.3 + 56 = 101.3\n"
          ]
        }
      ],
      "source": [
        "func_sum(45.3,56)"
      ]
    },
    {
      "cell_type": "code",
      "execution_count": null,
      "metadata": {
        "id": "3aWy4rAjifRT"
      },
      "outputs": [],
      "source": [
        "def func_sum(a:int|float ,b:int|float):\n",
        "  c=a+b\n",
        "  return c"
      ]
    },
    {
      "cell_type": "code",
      "execution_count": null,
      "metadata": {
        "colab": {
          "base_uri": "https://localhost:8080/"
        },
        "id": "89f8NQIti2JJ",
        "outputId": "7261cce5-321f-4803-e2b3-00ea605b6e50"
      },
      "outputs": [
        {
          "name": "stdout",
          "output_type": "stream",
          "text": [
            "10 + 25.5 = 35.5\n"
          ]
        }
      ],
      "source": [
        "n=10\n",
        "m=25.5\n",
        "sum = func_sum(n,m)\n",
        "print(f\"{n} + {m} = {sum}\")"
      ]
    },
    {
      "cell_type": "code",
      "execution_count": null,
      "metadata": {
        "id": "_7T0AEV1j654"
      },
      "outputs": [],
      "source": [
        "def check_prime(start:int,end:int)->None:\n",
        "  for i in range(start,end+1):\n",
        "    is_prime=True\n",
        "    if i == 1:\n",
        "      continue\n",
        "    for j in range(2,i):#質數不能被1和本身整除\n",
        "      if i%j == 0:\n",
        "        is_prime = False\n",
        "        break\n",
        "    if is_prime:\n",
        "      print(i,end=' ')\n",
        "  return None\n",
        "  print(\"程式結束\")#不會執行"
      ]
    },
    {
      "cell_type": "code",
      "execution_count": null,
      "metadata": {
        "colab": {
          "base_uri": "https://localhost:8080/"
        },
        "id": "nYTLqiDXl166",
        "outputId": "c3bbe999-c97c-4ef2-eed8-e20a522a3f07"
      },
      "outputs": [
        {
          "name": "stdout",
          "output_type": "stream",
          "text": [
            "2 3 5 7 11 13 17 19 23 29 31 37 41 43 47 53 59 61 67 71 73 79 83 89 97 "
          ]
        }
      ],
      "source": [
        "check_prime(start=1,end=100)#引數名稱"
      ]
    },
    {
      "cell_type": "code",
      "execution_count": null,
      "metadata": {
        "colab": {
          "base_uri": "https://localhost:8080/"
        },
        "id": "uRfQh-VGpjF6",
        "outputId": "cb2ea9e1-722c-4b9e-ab85-b6cf513704e4"
      },
      "outputs": [
        {
          "name": "stdout",
          "output_type": "stream",
          "text": [
            "Hello there!\n",
            "How are you?\n",
            "I'm doing fine!\n"
          ]
        }
      ],
      "source": [
        "#字串\n",
        "print('Hello there!\\nHow are you?\\nI\\'m doing fine!')"
      ]
    },
    {
      "cell_type": "code",
      "execution_count": null,
      "metadata": {
        "colab": {
          "base_uri": "https://localhost:8080/",
          "height": 36
        },
        "id": "8nnf8Bw0sIOa",
        "outputId": "ff37a723-87b4-4b3d-d551-7e50392ef384"
      },
      "outputs": [
        {
          "data": {
            "application/vnd.google.colaboratory.intrinsic+json": {
              "type": "string"
            },
            "text/plain": [
              "\"Hello there!\\nHow are you?\\nI'm doing fine!\""
            ]
          },
          "metadata": {},
          "output_type": "display_data"
        }
      ],
      "source": [
        "#display Ipython的功能\n",
        "display('Hello there!\\nHow are you?\\nI\\'m doing fine!')"
      ]
    },
    {
      "cell_type": "code",
      "execution_count": null,
      "metadata": {
        "colab": {
          "base_uri": "https://localhost:8080/"
        },
        "id": "9_J0OMVut-B_",
        "outputId": "f731c38d-4e1a-4cb6-f24d-1b5caa9d7c12"
      },
      "outputs": [
        {
          "name": "stdout",
          "output_type": "stream",
          "text": [
            "守望傳說 #Kakaogames · #史詩級趣味 #冒險 #RPG ... 內容物包含進化石，傳說覺醒石，英雄水晶，洗滌靈石與固定靈石✨ 快讓夏碧拉成為史上最強，今夏最開心的英雄吧\n"
          ]
        }
      ],
      "source": [
        "sentens = '守望傳說 #Kakaogames \\\n",
        "· #史詩級趣味 #冒險 #RPG ... 內容物包含進化石，傳說覺醒石，英雄水晶，洗滌靈石與固定靈石✨ \\\n",
        "快讓夏碧拉成為史上最強，今夏最開心的英雄吧'\n",
        "print(sentens)"
      ]
    },
    {
      "cell_type": "code",
      "execution_count": null,
      "metadata": {
        "colab": {
          "base_uri": "https://localhost:8080/"
        },
        "id": "S9jGO-RLvpRn",
        "outputId": "37991668-9833-4fd3-f84d-b6fd8c13e647"
      },
      "outputs": [
        {
          "data": {
            "text/plain": [
              "array([  0,   1,   2,   3,   4,   5,   6,   7,   8,   9,  10,  11,  12,\n",
              "        13,  14,  15,  16,  17,  18,  19,  20,  21,  22,  23,  24,  25,\n",
              "        26,  27,  28,  29,  30,  31,  32,  33,  34,  35,  36,  37,  38,\n",
              "        39,  40,  41,  42,  43,  44,  45,  46,  47,  48,  49,  50,  51,\n",
              "        52,  53,  54,  55,  56,  57,  58,  59,  60,  61,  62,  63,  64,\n",
              "        65,  66,  67,  68,  69,  70,  71,  72,  73,  74,  75,  76,  77,\n",
              "        78,  79,  80,  81,  82,  83,  84,  85,  86,  87,  88,  89,  90,\n",
              "        91,  92,  93,  94,  95,  96,  97,  98,  99, 100, 101, 102, 103,\n",
              "       104, 105, 106, 107, 108, 109, 110, 111, 112, 113, 114, 115, 116,\n",
              "       117, 118, 119, 120, 121, 122, 123, 124, 125, 126, 127, 128, 129,\n",
              "       130, 131, 132, 133, 134, 135, 136, 137, 138, 139, 140, 141, 142,\n",
              "       143, 144, 145, 146, 147, 148, 149, 150, 151, 152, 153, 154, 155,\n",
              "       156, 157, 158, 159, 160, 161, 162, 163, 164, 165, 166, 167, 168,\n",
              "       169, 170, 171, 172, 173, 174, 175, 176, 177, 178, 179, 180, 181,\n",
              "       182, 183, 184, 185, 186, 187, 188, 189, 190, 191, 192, 193, 194,\n",
              "       195, 196, 197, 198, 199, 200, 201, 202, 203, 204, 205, 206, 207,\n",
              "       208, 209, 210, 211, 212, 213, 214, 215, 216, 217, 218, 219, 220,\n",
              "       221, 222, 223, 224, 225, 226, 227, 228, 229, 230, 231, 232, 233,\n",
              "       234, 235, 236, 237, 238, 239, 240, 241, 242, 243, 244, 245, 246,\n",
              "       247, 248, 249, 250, 251, 252, 253, 254, 255, 256, 257, 258, 259,\n",
              "       260, 261, 262, 263, 264, 265, 266, 267, 268, 269, 270, 271, 272,\n",
              "       273, 274, 275, 276, 277, 278, 279, 280, 281, 282, 283, 284, 285,\n",
              "       286, 287, 288, 289, 290, 291, 292, 293, 294, 295, 296, 297, 298,\n",
              "       299, 300, 301, 302, 303, 304, 305, 306, 307, 308, 309, 310, 311,\n",
              "       312, 313, 314, 315, 316, 317, 318, 319, 320, 321, 322, 323, 324,\n",
              "       325, 326, 327, 328, 329, 330, 331, 332, 333, 334, 335, 336, 337,\n",
              "       338, 339, 340, 341, 342, 343, 344, 345, 346, 347, 348, 349, 350,\n",
              "       351, 352, 353, 354, 355, 356, 357, 358, 359, 360, 361, 362, 363,\n",
              "       364, 365, 366, 367, 368, 369, 370, 371, 372, 373, 374, 375, 376,\n",
              "       377, 378, 379, 380, 381, 382, 383, 384, 385, 386, 387, 388, 389,\n",
              "       390, 391, 392, 393, 394, 395, 396, 397, 398, 399, 400, 401, 402,\n",
              "       403, 404, 405, 406, 407, 408, 409, 410, 411, 412, 413, 414, 415,\n",
              "       416, 417, 418, 419, 420, 421, 422, 423, 424, 425, 426, 427, 428,\n",
              "       429, 430, 431, 432, 433, 434, 435, 436, 437, 438, 439, 440, 441,\n",
              "       442, 443, 444, 445, 446, 447, 448, 449, 450, 451, 452, 453, 454,\n",
              "       455, 456, 457, 458, 459, 460, 461, 462, 463, 464, 465, 466, 467,\n",
              "       468, 469, 470, 471, 472, 473, 474, 475, 476, 477, 478, 479, 480,\n",
              "       481, 482, 483, 484, 485, 486, 487, 488, 489, 490, 491, 492, 493,\n",
              "       494, 495, 496, 497, 498, 499, 500, 501, 502, 503, 504, 505, 506,\n",
              "       507, 508, 509, 510, 511, 512, 513, 514, 515, 516, 517, 518, 519,\n",
              "       520, 521, 522, 523, 524, 525, 526, 527, 528, 529, 530, 531, 532,\n",
              "       533, 534, 535, 536, 537, 538, 539, 540, 541, 542, 543, 544, 545,\n",
              "       546, 547, 548, 549, 550, 551, 552, 553, 554, 555, 556, 557, 558,\n",
              "       559, 560, 561, 562, 563, 564, 565, 566, 567, 568, 569, 570, 571,\n",
              "       572, 573, 574, 575, 576, 577, 578, 579, 580, 581, 582, 583, 584,\n",
              "       585, 586, 587, 588, 589, 590, 591, 592, 593, 594, 595, 596, 597,\n",
              "       598, 599, 600, 601, 602, 603, 604, 605, 606, 607, 608, 609, 610,\n",
              "       611, 612, 613, 614, 615, 616, 617, 618, 619, 620, 621, 622, 623,\n",
              "       624, 625, 626, 627, 628, 629, 630, 631, 632, 633, 634, 635, 636,\n",
              "       637, 638, 639, 640, 641, 642, 643, 644, 645, 646, 647, 648, 649,\n",
              "       650, 651, 652, 653, 654, 655, 656, 657, 658, 659, 660, 661, 662,\n",
              "       663, 664, 665, 666, 667, 668, 669, 670, 671, 672, 673, 674, 675,\n",
              "       676, 677, 678, 679, 680, 681, 682, 683, 684, 685, 686, 687, 688,\n",
              "       689, 690, 691, 692, 693, 694, 695, 696, 697, 698, 699, 700, 701,\n",
              "       702, 703, 704, 705, 706, 707, 708, 709, 710, 711, 712, 713, 714,\n",
              "       715, 716, 717, 718, 719, 720, 721, 722, 723, 724, 725, 726, 727,\n",
              "       728, 729, 730, 731, 732, 733, 734, 735, 736, 737, 738, 739, 740,\n",
              "       741, 742, 743, 744, 745, 746, 747, 748, 749, 750, 751, 752, 753,\n",
              "       754, 755, 756, 757, 758, 759, 760, 761, 762, 763, 764, 765, 766,\n",
              "       767, 768, 769, 770, 771, 772, 773, 774, 775, 776, 777, 778, 779,\n",
              "       780, 781, 782, 783, 784, 785, 786, 787, 788, 789, 790, 791, 792,\n",
              "       793, 794, 795, 796, 797, 798, 799, 800, 801, 802, 803, 804, 805,\n",
              "       806, 807, 808, 809, 810, 811, 812, 813, 814, 815, 816, 817, 818,\n",
              "       819, 820, 821, 822, 823, 824, 825, 826, 827, 828, 829, 830, 831,\n",
              "       832, 833, 834, 835, 836, 837, 838, 839, 840, 841, 842, 843, 844,\n",
              "       845, 846, 847, 848, 849, 850, 851, 852, 853, 854, 855, 856, 857,\n",
              "       858, 859, 860, 861, 862, 863, 864, 865, 866, 867, 868, 869, 870,\n",
              "       871, 872, 873, 874, 875, 876, 877, 878, 879, 880, 881, 882, 883,\n",
              "       884, 885, 886, 887, 888, 889, 890, 891, 892, 893, 894, 895, 896,\n",
              "       897, 898, 899, 900, 901, 902, 903, 904, 905, 906, 907, 908, 909,\n",
              "       910, 911, 912, 913, 914, 915, 916, 917, 918, 919, 920, 921, 922,\n",
              "       923, 924, 925, 926, 927, 928, 929, 930, 931, 932, 933, 934, 935,\n",
              "       936, 937, 938, 939, 940, 941, 942, 943, 944, 945, 946, 947, 948,\n",
              "       949, 950, 951, 952, 953, 954, 955, 956, 957, 958, 959, 960, 961,\n",
              "       962, 963, 964, 965, 966, 967, 968, 969, 970, 971, 972, 973, 974,\n",
              "       975, 976, 977, 978, 979, 980, 981, 982, 983, 984, 985, 986, 987,\n",
              "       988, 989, 990, 991, 992, 993, 994, 995, 996, 997, 998, 999])"
            ]
          },
          "execution_count": 55,
          "metadata": {},
          "output_type": "execute_result"
        }
      ],
      "source": [
        "import numpy\n",
        "numpy.arange(1000)"
      ]
    },
    {
      "cell_type": "code",
      "execution_count": null,
      "metadata": {
        "colab": {
          "base_uri": "https://localhost:8080/"
        },
        "id": "Irj2AFcKweJb",
        "outputId": "52fa9ff5-e211-4d85-fdfb-79a738237fb6"
      },
      "outputs": [
        {
          "name": "stdout",
          "output_type": "stream",
          "text": [
            "Collecting datetime\n",
            "  Downloading DateTime-5.2-py3-none-any.whl (52 kB)\n",
            "\u001b[2K     \u001b[90m━━━━━━━━━━━━━━━━━━━━━━━━━━━━━━━━━━━━━━━━\u001b[0m \u001b[32m52.2/52.2 kB\u001b[0m \u001b[31m1.1 MB/s\u001b[0m eta \u001b[36m0:00:00\u001b[0m\n",
            "\u001b[?25hCollecting zope.interface (from datetime)\n",
            "  Downloading zope.interface-6.0-cp310-cp310-manylinux_2_5_x86_64.manylinux1_x86_64.manylinux_2_17_x86_64.manylinux2014_x86_64.whl (246 kB)\n",
            "\u001b[2K     \u001b[90m━━━━━━━━━━━━━━━━━━━━━━━━━━━━━━━━━━━━━━━\u001b[0m \u001b[32m247.0/247.0 kB\u001b[0m \u001b[31m4.6 MB/s\u001b[0m eta \u001b[36m0:00:00\u001b[0m\n",
            "\u001b[?25hRequirement already satisfied: pytz in /usr/local/lib/python3.10/dist-packages (from datetime) (2023.3)\n",
            "Requirement already satisfied: setuptools in /usr/local/lib/python3.10/dist-packages (from zope.interface->datetime) (67.7.2)\n",
            "Installing collected packages: zope.interface, datetime\n",
            "Successfully installed datetime-5.2 zope.interface-6.0\n"
          ]
        }
      ],
      "source": [
        "#python 安裝軟體 pip install + 模組名稱\n",
        "pip install datetime"
      ]
    },
    {
      "cell_type": "code",
      "execution_count": null,
      "metadata": {
        "colab": {
          "base_uri": "https://localhost:8080/"
        },
        "id": "Z6yVBAMwyAzw",
        "outputId": "6ef2a648-4027-4dbc-d21c-15234b08a350"
      },
      "outputs": [
        {
          "name": "stdout",
          "output_type": "stream",
          "text": [
            "守望傳說 #Kakaogames · #史詩級趣味 #冒險 #RPG ... \n",
            "內容物包含進化石，傳說覺醒石，英雄水晶，洗滌靈石與固定靈石✨ \n",
            "快讓夏碧拉成為史上最強，今夏最開心的英雄吧\n"
          ]
        }
      ],
      "source": [
        "#多行符號\n",
        "print('''守望傳說 #Kakaogames · #史詩級趣味 #冒險 #RPG ...\n",
        "內容物包含進化石，傳說覺醒石，英雄水晶，洗滌靈石與固定靈石✨\n",
        "快讓夏碧拉成為史上最強，今夏最開心的英雄吧''')"
      ]
    },
    {
      "cell_type": "code",
      "execution_count": null,
      "metadata": {
        "colab": {
          "base_uri": "https://localhost:8080/"
        },
        "id": "NFm4GwooyU0w",
        "outputId": "769db8d0-3589-498e-d909-15ff1b5c3e16"
      },
      "outputs": [
        {
          "name": "stdout",
          "output_type": "stream",
          "text": [
            "守望傳說 #Kakaogames · #史詩級趣味 #冒險 #RPG ... 內容物包含進化石，傳說覺醒石，英雄水晶，洗滌靈石與固定靈石✨ 快讓夏碧拉成為史上最強，今夏最開心的英雄吧\n"
          ]
        }
      ],
      "source": [
        "print('守望傳說 #Kakaogames · #史詩級趣味 #冒險 #RPG ... \\\n",
        "內容物包含進化石，傳說覺醒石，英雄水晶，洗滌靈石與固定靈石✨ \\\n",
        "快讓夏碧拉成為史上最強，今夏最開心的英雄吧')"
      ]
    },
    {
      "cell_type": "code",
      "execution_count": null,
      "metadata": {
        "colab": {
          "base_uri": "https://localhost:8080/"
        },
        "id": "49VvMq-eyqYa",
        "outputId": "70ed828b-3d7c-4f5f-cf7e-a1dbcb3bc037"
      },
      "outputs": [
        {
          "name": "stdout",
          "output_type": "stream",
          "text": [
            "守望傳說 #Kakaogames · #史詩級趣味 #冒險 #RPG ...\n",
            " 內容物包含進化石，傳說覺醒石，英雄水晶，洗滌靈石與固定靈石✨ \n",
            "快讓夏碧拉成為史上最強，今夏最開心的英雄吧\n"
          ]
        }
      ],
      "source": [
        "print('守望傳說 #Kakaogames · #史詩級趣味 #冒險 #RPG ...\\n 內容物包含進化石，傳說覺醒石，英雄水晶，洗滌靈石與固定靈石✨ \\n快讓夏碧拉成為史上最強，今夏最開心的英雄吧')"
      ]
    },
    {
      "cell_type": "code",
      "execution_count": null,
      "metadata": {
        "colab": {
          "base_uri": "https://localhost:8080/"
        },
        "id": "dp_UEsqWyzb9",
        "outputId": "6787c642-f63d-43b4-ce09-de02294c12c9"
      },
      "outputs": [
        {
          "name": "stdout",
          "output_type": "stream",
          "text": [
            "守望傳說 #Kakaogames · #史詩級趣味 #冒險 #RPG ...內容物包含進化石，傳說覺醒石，英雄水晶，洗滌靈石與固定靈石✨快讓夏碧拉成為史上最強，今夏最開心的英雄吧守望傳說 #Kakaogames · #史詩級趣味 #冒險 #RPG ...內容物包含進化石，傳說覺醒石，英雄水晶，洗滌靈石與固定靈石✨快讓夏碧拉成為史上最強，今夏最開心的英雄吧\n"
          ]
        }
      ],
      "source": [
        "sentens = \"\"\n",
        "sentens += '守望傳說 #Kakaogames · #史詩級趣味 #冒險 #RPG ...'\n",
        "sentens += '內容物包含進化石，傳說覺醒石，英雄水晶，洗滌靈石與固定靈石✨'\n",
        "sentens += '快讓夏碧拉成為史上最強，今夏最開心的英雄吧'\n",
        "print(sentens)"
      ]
    },
    {
      "cell_type": "code",
      "execution_count": null,
      "metadata": {
        "colab": {
          "base_uri": "https://localhost:8080/"
        },
        "id": "tnHmmda0zank",
        "outputId": "7f6d057e-1376-42a1-dd48-12f9bb17d7d7"
      },
      "outputs": [
        {
          "data": {
            "text/plain": [
              "(('a', 'b', 'c'), ('1', '2', '3'), (1, 2, 3))"
            ]
          },
          "execution_count": 14,
          "metadata": {},
          "output_type": "execute_result"
        }
      ],
      "source": [
        "tuple('abc'),tuple('123'),tuple([1,2,3])"
      ]
    }
  ],
  "metadata": {
    "colab": {
      "authorship_tag": "ABX9TyMpu5Wr+/t3w56/SdFSWgjK",
      "include_colab_link": true,
      "provenance": []
    },
    "kernelspec": {
      "display_name": "Python 3",
      "name": "python3"
    },
    "language_info": {
      "name": "python"
    }
  },
  "nbformat": 4,
  "nbformat_minor": 0
}
