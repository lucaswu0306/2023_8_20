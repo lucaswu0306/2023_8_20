{
  "nbformat": 4,
  "nbformat_minor": 0,
  "metadata": {
    "colab": {
      "provenance": [],
      "authorship_tag": "ABX9TyOe4J+C9kPVVj0RINr2taKR",
      "include_colab_link": true
    },
    "kernelspec": {
      "name": "python3",
      "display_name": "Python 3"
    },
    "language_info": {
      "name": "python"
    }
  },
  "cells": [
    {
      "cell_type": "markdown",
      "metadata": {
        "id": "view-in-github",
        "colab_type": "text"
      },
      "source": [
        "<a href=\"https://colab.research.google.com/github/lucaswu0306/2023_8_20/blob/main/lesson_10_2.ipynb\" target=\"_parent\"><img src=\"https://colab.research.google.com/assets/colab-badge.svg\" alt=\"Open In Colab\"/></a>"
      ]
    },
    {
      "cell_type": "code",
      "execution_count": 4,
      "metadata": {
        "colab": {
          "base_uri": "https://localhost:8080/",
          "height": 34
        },
        "id": "ucdK4Gk7wjzv",
        "outputId": "adbf1adb-8c8a-4ee7-de13-65919d2eea42"
      },
      "outputs": [
        {
          "output_type": "display_data",
          "data": {
            "text/plain": [
              "[75, 34, 56, 78, 90]"
            ]
          },
          "metadata": {}
        }
      ],
      "source": [
        "#list\n",
        "stu1 = [75,34,56,78,90]#sequence 串列資料包含在iterable，可以重複一個個取出值\n",
        "display(stu1)"
      ]
    },
    {
      "cell_type": "code",
      "source": [
        "for score in stu1:\n",
        "  print(score,end=' ')"
      ],
      "metadata": {
        "colab": {
          "base_uri": "https://localhost:8080/"
        },
        "id": "rc5CDtpcxMK7",
        "outputId": "85adef4e-3c97-4fb3-f871-9f4c91a6e0ae"
      },
      "execution_count": 5,
      "outputs": [
        {
          "output_type": "stream",
          "name": "stdout",
          "text": [
            "75 34 56 78 90 "
          ]
        }
      ]
    },
    {
      "cell_type": "code",
      "source": [
        "print(stu1[0])#取出第一個值\n",
        "print(stu1[-1])#取出最後一個值\n",
        "print(stu1[:3])#取出前三個值\n",
        "print(stu1[-3:])#取出後三個值"
      ],
      "metadata": {
        "colab": {
          "base_uri": "https://localhost:8080/"
        },
        "id": "eg3W3IOSxefx",
        "outputId": "22dcc115-d879-4692-d691-8d9ec6768b05"
      },
      "execution_count": 6,
      "outputs": [
        {
          "output_type": "stream",
          "name": "stdout",
          "text": [
            "75\n",
            "90\n",
            "[75, 34, 56]\n",
            "[56, 78, 90]\n"
          ]
        }
      ]
    }
  ]
}