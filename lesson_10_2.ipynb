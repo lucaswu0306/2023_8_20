{
  "cells": [
    {
      "cell_type": "code",
      "execution_count": null,
      "metadata": {
        "colab": {
          "base_uri": "https://localhost:8080/",
          "height": 34
        },
        "id": "ucdK4Gk7wjzv",
        "outputId": "adbf1adb-8c8a-4ee7-de13-65919d2eea42"
      },
      "outputs": [],
      "source": [
        "#list\n",
        "stu1 = [75,34,56,78,90]#sequence 串列資料包含在iterable，可以重複一個個取出值\n",
        "display(stu1)"
      ]
    },
    {
      "cell_type": "code",
      "execution_count": 27,
      "metadata": {
        "colab": {
          "base_uri": "https://localhost:8080/"
        },
        "id": "rc5CDtpcxMK7",
        "outputId": "85adef4e-3c97-4fb3-f871-9f4c91a6e0ae"
      },
      "outputs": [
        {
          "name": "stdout",
          "output_type": "stream",
          "text": [
            "75 34 56 78 90 "
          ]
        }
      ],
      "source": [
        "for score in stu1:\n",
        "  print(score,end=' ')"
      ]
    },
    {
      "cell_type": "code",
      "execution_count": null,
      "metadata": {
        "colab": {
          "base_uri": "https://localhost:8080/"
        },
        "id": "eg3W3IOSxefx",
        "outputId": "22dcc115-d879-4692-d691-8d9ec6768b05"
      },
      "outputs": [],
      "source": [
        "print(stu1[0])#取出第一個值\n",
        "print(stu1[-1])#取出最後一個值\n",
        "print(stu1[:3])#取出前三個值\n",
        "print(stu1[-3:])#取出後三個值"
      ]
    },
    {
      "cell_type": "code",
      "execution_count": 2,
      "metadata": {
        "colab": {
          "base_uri": "https://localhost:8080/"
        },
        "id": "039hKDnEzrar",
        "outputId": "695727b9-2be6-4316-ee0a-19dba20438a5"
      },
      "outputs": [
        {
          "data": {
            "text/plain": [
              "['1', '2', '3', '4', '5']"
            ]
          },
          "execution_count": 2,
          "metadata": {},
          "output_type": "execute_result"
        }
      ],
      "source": [
        "#建立空的list\n",
        "empty_list = []\n",
        "empty_list1 = list()\n",
        "weekdays = ['星期一','星期二','星期三','星期四','星期五','星期六','星期天']\n",
        "list('dog')\n",
        "list('12345')"
      ]
    },
    {
      "cell_type": "code",
      "execution_count": null,
      "metadata": {
        "colab": {
          "base_uri": "https://localhost:8080/"
        },
        "id": "6MfOtCLE0eSR",
        "outputId": "32afff42-5d35-4f3e-a89d-99eccee22388"
      },
      "outputs": [],
      "source": [
        "list(range(10))"
      ]
    },
    {
      "cell_type": "code",
      "execution_count": 17,
      "metadata": {
        "colab": {
          "base_uri": "https://localhost:8080/"
        },
        "id": "1Ea8twno1O19",
        "outputId": "1d1900d6-b004-4294-f713-fd1a9286c98a"
      },
      "outputs": [
        {
          "data": {
            "text/plain": [
              "['taipei', '台北', '台中', '台南']"
            ]
          },
          "execution_count": 17,
          "metadata": {},
          "output_type": "execute_result"
        }
      ],
      "source": [
        "#list的實體方法\n",
        "cities = []# cities = list()\n",
        "cities.append('taipei')\n",
        "cities.append(\"台北\")\n",
        "cities.append(\"台中\")\n",
        "cities.append(\"台南\")\n",
        "cities"
      ]
    },
    {
      "cell_type": "code",
      "execution_count": 10,
      "metadata": {
        "colab": {
          "base_uri": "https://localhost:8080/"
        },
        "id": "5zxOR9f38_2V",
        "outputId": "30335303-1477-4118-fe4a-7a82f01d0127"
      },
      "outputs": [
        {
          "data": {
            "text/plain": [
              "['taipei', '台中', '台南']"
            ]
          },
          "execution_count": 10,
          "metadata": {},
          "output_type": "execute_result"
        }
      ],
      "source": [
        "cities.remove('台北')\n",
        "cities"
      ]
    },
    {
      "cell_type": "code",
      "execution_count": 21,
      "metadata": {
        "colab": {
          "base_uri": "https://localhost:8080/"
        },
        "id": "63XMwr5J7Hpb",
        "outputId": "cae20474-d5f9-49db-fd76-15e04157fea8"
      },
      "outputs": [
        {
          "name": "stdout",
          "output_type": "stream",
          "text": [
            "索引值出錯了\n"
          ]
        }
      ],
      "source": [
        "try:\n",
        "  cities[4]\n",
        "except IndexError:\n",
        "  print(\"索引值出錯了\")\n",
        "except:\n",
        "  print(\"出錯了\")\n",
        "else:\n",
        "  print(\"沒有出錯\")"
      ]
    },
    {
      "cell_type": "code",
      "execution_count": 19,
      "metadata": {
        "colab": {
          "base_uri": "https://localhost:8080/",
          "height": 35
        },
        "id": "4UImmCYo8At_",
        "outputId": "9064a654-ba3a-4d55-823b-1386741b3368"
      },
      "outputs": [
        {
          "data": {
            "application/vnd.google.colaboratory.intrinsic+json": {
              "type": "string"
            },
            "text/plain": [
              "'台南'"
            ]
          },
          "execution_count": 19,
          "metadata": {},
          "output_type": "execute_result"
        }
      ],
      "source": [
        "cities[3]"
      ]
    },
    {
      "cell_type": "code",
      "execution_count": 30,
      "metadata": {
        "colab": {
          "base_uri": "https://localhost:8080/"
        },
        "id": "WS_oxkXc9cv0",
        "outputId": "33ae23cf-5e08-417a-f719-b7eca52baec7"
      },
      "outputs": [
        {
          "name": "stdout",
          "output_type": "stream",
          "text": [
            "沒有這個值\n"
          ]
        }
      ],
      "source": [
        "try:\n",
        "  cities.remove(\"高雄\")\n",
        "except:\n",
        "  print(\"沒有這個值\")"
      ]
    },
    {
      "cell_type": "code",
      "execution_count": 33,
      "metadata": {
        "colab": {
          "base_uri": "https://localhost:8080/"
        },
        "id": "AFo4gCV09tUS",
        "outputId": "8fb622d2-457a-462d-928f-843c67bad1fd"
      },
      "outputs": [
        {
          "data": {
            "text/plain": [
              "['taipei', '台中']"
            ]
          },
          "execution_count": 33,
          "metadata": {},
          "output_type": "execute_result"
        }
      ],
      "source": [
        "cities.pop()#移除最後一個\n",
        "cities"
      ]
    },
    {
      "cell_type": "code",
      "execution_count": 35,
      "metadata": {
        "colab": {
          "base_uri": "https://localhost:8080/"
        },
        "id": "vl2O2Hj4-H3Z",
        "outputId": "18ce8c9f-ecb3-4732-ba67-1a5770f79ef8"
      },
      "outputs": [
        {
          "data": {
            "text/plain": [
              "[]"
            ]
          },
          "execution_count": 35,
          "metadata": {},
          "output_type": "execute_result"
        }
      ],
      "source": [
        "cities.clear()\n",
        "cities"
      ]
    }
  ],
  "metadata": {
    "colab": {
      "authorship_tag": "ABX9TyP5obaFe44TQ2h2d/WZi17i",
      "include_colab_link": true,
      "provenance": []
    },
    "kernelspec": {
      "display_name": "Python 3",
      "name": "python3"
    },
    "language_info": {
      "codemirror_mode": {
        "name": "ipython",
        "version": 3
      },
      "file_extension": ".py",
      "mimetype": "text/x-python",
      "name": "python",
      "nbconvert_exporter": "python",
      "pygments_lexer": "ipython3",
      "version": "3.10.11"
    }
  },
  "nbformat": 4,
  "nbformat_minor": 0
}
