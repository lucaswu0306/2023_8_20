{
  "nbformat": 4,
  "nbformat_minor": 0,
  "metadata": {
    "colab": {
      "provenance": [],
      "authorship_tag": "ABX9TyP5obaFe44TQ2h2d/WZi17i",
      "include_colab_link": true
    },
    "kernelspec": {
      "name": "python3",
      "display_name": "Python 3"
    },
    "language_info": {
      "name": "python"
    }
  },
  "cells": [
    {
      "cell_type": "markdown",
      "metadata": {
        "id": "view-in-github",
        "colab_type": "text"
      },
      "source": [
        "<a href=\"https://colab.research.google.com/github/lucaswu0306/2023_8_20/blob/main/lesson_10_2.ipynb\" target=\"_parent\"><img src=\"https://colab.research.google.com/assets/colab-badge.svg\" alt=\"Open In Colab\"/></a>"
      ]
    },
    {
      "cell_type": "code",
      "execution_count": 4,
      "metadata": {
        "colab": {
          "base_uri": "https://localhost:8080/",
          "height": 34
        },
        "id": "ucdK4Gk7wjzv",
        "outputId": "adbf1adb-8c8a-4ee7-de13-65919d2eea42"
      },
      "outputs": [
        {
          "output_type": "display_data",
          "data": {
            "text/plain": [
              "[75, 34, 56, 78, 90]"
            ]
          },
          "metadata": {}
        }
      ],
      "source": [
        "#list\n",
        "stu1 = [75,34,56,78,90]#sequence 串列資料包含在iterable，可以重複一個個取出值\n",
        "display(stu1)"
      ]
    },
    {
      "cell_type": "code",
      "source": [
        "for score in stu1:\n",
        "  print(score,end=' ')"
      ],
      "metadata": {
        "colab": {
          "base_uri": "https://localhost:8080/"
        },
        "id": "rc5CDtpcxMK7",
        "outputId": "85adef4e-3c97-4fb3-f871-9f4c91a6e0ae"
      },
      "execution_count": 5,
      "outputs": [
        {
          "output_type": "stream",
          "name": "stdout",
          "text": [
            "75 34 56 78 90 "
          ]
        }
      ]
    },
    {
      "cell_type": "code",
      "source": [
        "print(stu1[0])#取出第一個值\n",
        "print(stu1[-1])#取出最後一個值\n",
        "print(stu1[:3])#取出前三個值\n",
        "print(stu1[-3:])#取出後三個值"
      ],
      "metadata": {
        "colab": {
          "base_uri": "https://localhost:8080/"
        },
        "id": "eg3W3IOSxefx",
        "outputId": "22dcc115-d879-4692-d691-8d9ec6768b05"
      },
      "execution_count": 6,
      "outputs": [
        {
          "output_type": "stream",
          "name": "stdout",
          "text": [
            "75\n",
            "90\n",
            "[75, 34, 56]\n",
            "[56, 78, 90]\n"
          ]
        }
      ]
    },
    {
      "cell_type": "code",
      "source": [
        "#建立空的list\n",
        "empty_list = []\n",
        "empty_list1 = list()\n",
        "weekdays = ['星期一','星期二','星期三','星期四','星期五','星期六','星期天']\n",
        "list('dog')"
      ],
      "metadata": {
        "colab": {
          "base_uri": "https://localhost:8080/"
        },
        "id": "039hKDnEzrar",
        "outputId": "695727b9-2be6-4316-ee0a-19dba20438a5"
      },
      "execution_count": 17,
      "outputs": [
        {
          "output_type": "execute_result",
          "data": {
            "text/plain": [
              "['d', 'o', 'g']"
            ]
          },
          "metadata": {},
          "execution_count": 17
        }
      ]
    },
    {
      "cell_type": "code",
      "source": [
        "list(range(10))"
      ],
      "metadata": {
        "colab": {
          "base_uri": "https://localhost:8080/"
        },
        "id": "6MfOtCLE0eSR",
        "outputId": "32afff42-5d35-4f3e-a89d-99eccee22388"
      },
      "execution_count": 8,
      "outputs": [
        {
          "output_type": "execute_result",
          "data": {
            "text/plain": [
              "[0, 1, 2, 3, 4, 5, 6, 7, 8, 9]"
            ]
          },
          "metadata": {},
          "execution_count": 8
        }
      ]
    },
    {
      "cell_type": "code",
      "source": [
        "#list的實體方法\n",
        "cities = []\n",
        "cities.append('taipei')\n",
        "cities.append(\"台北\")\n",
        "cities.append(\"台中\")\n",
        "cities.append(\"台南\")\n",
        "cities"
      ],
      "metadata": {
        "colab": {
          "base_uri": "https://localhost:8080/"
        },
        "id": "1Ea8twno1O19",
        "outputId": "1d1900d6-b004-4294-f713-fd1a9286c98a"
      },
      "execution_count": 34,
      "outputs": [
        {
          "output_type": "execute_result",
          "data": {
            "text/plain": [
              "['taipei', '台北', '台中', '台南']"
            ]
          },
          "metadata": {},
          "execution_count": 34
        }
      ]
    },
    {
      "cell_type": "code",
      "source": [
        "cities.remove('台北')\n",
        "cities"
      ],
      "metadata": {
        "colab": {
          "base_uri": "https://localhost:8080/"
        },
        "id": "5zxOR9f38_2V",
        "outputId": "30335303-1477-4118-fe4a-7a82f01d0127"
      },
      "execution_count": 32,
      "outputs": [
        {
          "output_type": "execute_result",
          "data": {
            "text/plain": [
              "['taipei', '台中', '台南']"
            ]
          },
          "metadata": {},
          "execution_count": 32
        }
      ]
    },
    {
      "cell_type": "code",
      "source": [
        "try:\n",
        "  cities[4]\n",
        "except IndexError:\n",
        "  print(\"索引值出錯了\")\n",
        "except:\n",
        "  print(\"出錯了\")\n",
        "else:\n",
        "  print(\"沒有出錯\")"
      ],
      "metadata": {
        "colab": {
          "base_uri": "https://localhost:8080/"
        },
        "id": "63XMwr5J7Hpb",
        "outputId": "cae20474-d5f9-49db-fd76-15e04157fea8"
      },
      "execution_count": 21,
      "outputs": [
        {
          "output_type": "stream",
          "name": "stdout",
          "text": [
            "索引值出錯了\n"
          ]
        }
      ]
    },
    {
      "cell_type": "code",
      "source": [
        "cities[3]"
      ],
      "metadata": {
        "colab": {
          "base_uri": "https://localhost:8080/",
          "height": 35
        },
        "id": "4UImmCYo8At_",
        "outputId": "9064a654-ba3a-4d55-823b-1386741b3368"
      },
      "execution_count": 19,
      "outputs": [
        {
          "output_type": "execute_result",
          "data": {
            "text/plain": [
              "'台南'"
            ],
            "application/vnd.google.colaboratory.intrinsic+json": {
              "type": "string"
            }
          },
          "metadata": {},
          "execution_count": 19
        }
      ]
    },
    {
      "cell_type": "code",
      "source": [
        "try:\n",
        "  cities.remove(\"高雄\")\n",
        "except:\n",
        "  print(\"沒有這個值\")"
      ],
      "metadata": {
        "colab": {
          "base_uri": "https://localhost:8080/"
        },
        "id": "WS_oxkXc9cv0",
        "outputId": "33ae23cf-5e08-417a-f719-b7eca52baec7"
      },
      "execution_count": 30,
      "outputs": [
        {
          "output_type": "stream",
          "name": "stdout",
          "text": [
            "沒有這個值\n"
          ]
        }
      ]
    },
    {
      "cell_type": "code",
      "source": [
        "cities.pop()#移除最後一個\n",
        "cities"
      ],
      "metadata": {
        "colab": {
          "base_uri": "https://localhost:8080/"
        },
        "id": "AFo4gCV09tUS",
        "outputId": "8fb622d2-457a-462d-928f-843c67bad1fd"
      },
      "execution_count": 33,
      "outputs": [
        {
          "output_type": "execute_result",
          "data": {
            "text/plain": [
              "['taipei', '台中']"
            ]
          },
          "metadata": {},
          "execution_count": 33
        }
      ]
    },
    {
      "cell_type": "code",
      "source": [
        "cities.clear()\n",
        "cities"
      ],
      "metadata": {
        "colab": {
          "base_uri": "https://localhost:8080/"
        },
        "id": "vl2O2Hj4-H3Z",
        "outputId": "18ce8c9f-ecb3-4732-ba67-1a5770f79ef8"
      },
      "execution_count": 35,
      "outputs": [
        {
          "output_type": "execute_result",
          "data": {
            "text/plain": [
              "[]"
            ]
          },
          "metadata": {},
          "execution_count": 35
        }
      ]
    }
  ]
}