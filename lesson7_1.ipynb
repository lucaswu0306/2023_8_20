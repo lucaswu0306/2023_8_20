{
  "cells": [
    {
      "cell_type": "markdown",
      "metadata": {
        "colab_type": "text",
        "id": "view-in-github"
      },
      "source": [
        "<a href=\"https://colab.research.google.com/github/lucaswu0306/2023_8_20/blob/main/lesson7_1.ipynb\" target=\"_parent\"><img src=\"https://colab.research.google.com/assets/colab-badge.svg\" alt=\"Open In Colab\"/></a>"
      ]
    },
    {
      "cell_type": "code",
      "execution_count": null,
      "metadata": {
        "colab": {
          "base_uri": "https://localhost:8080/"
        },
        "id": "u41-24lNuc06",
        "outputId": "d905050c-5569-465a-c17f-c025a104735f"
      },
      "outputs": [
        {
          "name": "stdout",
          "output_type": "stream",
          "text": [
            "1\n",
            "2\n",
            "3\n",
            "4\n",
            "5\n"
          ]
        }
      ],
      "source": [
        "for i in range(1,6):\n",
        "  print(i)"
      ]
    },
    {
      "cell_type": "code",
      "execution_count": null,
      "metadata": {
        "colab": {
          "base_uri": "https://localhost:8080/"
        },
        "id": "LWqBSWudxPHN",
        "outputId": "d7823619-f6b8-48b0-86c3-188031c1e97f"
      },
      "outputs": [
        {
          "name": "stdout",
          "output_type": "stream",
          "text": [
            "1\n",
            "2\n",
            "3\n",
            "4\n",
            "5\n"
          ]
        }
      ],
      "source": [
        "#while,明確知道執行的次數\n",
        "i=1\n",
        "while i<6:\n",
        "  print(i)\n",
        "  i+=1"
      ]
    },
    {
      "cell_type": "code",
      "execution_count": 1,
      "metadata": {
        "colab": {
          "base_uri": "https://localhost:8080/"
        },
        "id": "DZ_hxaTLyYLN",
        "outputId": "375b61b8-69fa-4a5a-b512-06519d928c57"
      },
      "outputs": [
        {
          "name": "stdout",
          "output_type": "stream",
          "text": [
            "存了7個月\n",
            "恭喜!已經存夠了，存了55584元\n"
          ]
        }
      ],
      "source": [
        "from os import cpu_count\n",
        "motor = 30000\n",
        "deposit = 0\n",
        "count =0\n",
        "while deposit < 30000:\n",
        "  count+=1\n",
        "  month=int(input(f\"請輸入{count}月份的存款:\"))\n",
        "  deposit += month\n",
        "print(f\"存了{count}個月\")\n",
        "print(f\"恭喜!已經存夠了，存了{deposit}元\")"
      ]
    },
    {
      "cell_type": "code",
      "execution_count": null,
      "metadata": {
        "colab": {
          "base_uri": "https://localhost:8080/"
        },
        "id": "LZ7TzobL70hj",
        "outputId": "dc59da9c-d9e9-43e0-d508-d5fbd25ef497"
      },
      "outputs": [
        {
          "name": "stdout",
          "output_type": "stream",
          "text": [
            "請輸入小寫英文字[按q會離開]:taipei\n",
            "Taipei\n",
            "請輸入小寫英文字[按q會離開]:taiwan\n",
            "Taiwan\n",
            "請輸入小寫英文字[按q會離開]:quite\n",
            "Quite\n",
            "請輸入小寫英文字[按q會離開]:q\n",
            "程式結束\n"
          ]
        }
      ],
      "source": [
        "stuff = input(\"請輸入小寫英文字[按q會離開]:\")\n",
        "while stuff != 'q':\n",
        "  print(stuff.capitalize())#第一個字母改大寫\n",
        "  stuff = input(\"請輸入小寫英文字[按q會離開]:\")\n",
        "print(\"程式結束\")\n"
      ]
    },
    {
      "cell_type": "code",
      "execution_count": null,
      "metadata": {
        "colab": {
          "base_uri": "https://localhost:8080/"
        },
        "id": "Vqti4YsP-KkI",
        "outputId": "ab65de11-2349-4de5-e54f-fa7cbf3ba867"
      },
      "outputs": [
        {
          "name": "stdout",
          "output_type": "stream",
          "text": [
            "請輸入小寫英文字[按q會離開]:taipei\n",
            "Taipei\n",
            "請輸入小寫英文字[按q會離開]:q\n",
            "程式結束\n"
          ]
        }
      ],
      "source": [
        "while True:\n",
        "  stuff = input(\"請輸入小寫英文字[按q會離開]:\")\n",
        "  if stuff == 'q':\n",
        "    break\n",
        "  print(stuff.capitalize())#第一個字母改大寫\n",
        "print(\"程式結束\")"
      ]
    },
    {
      "cell_type": "code",
      "execution_count": null,
      "metadata": {
        "colab": {
          "base_uri": "https://localhost:8080/"
        },
        "id": "S2dDviRI_ZE5",
        "outputId": "79104910-27cd-445a-867e-cf0a037a7779"
      },
      "outputs": [
        {
          "name": "stdout",
          "output_type": "stream",
          "text": [
            "請輸入數值a\n",
            "輸入格式錯誤\n",
            "請輸入數值5\n",
            "請輸入數值5\n",
            "請輸入數值\n",
            "輸入格式錯誤\n",
            "請輸入數值\n",
            "輸入格式錯誤\n",
            "請輸入數值-7\n",
            "正偶數總和:0\n",
            "結束程式\n"
          ]
        }
      ],
      "source": [
        "even_number_total = 0\n",
        "while True:\n",
        "  try:\n",
        "    number = int(input(\"請輸入數值\"))\n",
        "    if number%2==0 and number>0:\n",
        "      even_number_total += number\n",
        "      continue\n",
        "    elif number %2 != 0 and number >0:\n",
        "      continue\n",
        "    elif number <0:\n",
        "      break\n",
        "  except:\n",
        "    print(\"輸入格式錯誤\")\n",
        "print(f\"正偶數總和:{even_number_total}\")\n",
        "print(\"結束程式\")\n",
        "\n",
        "\n"
      ]
    },
    {
      "cell_type": "code",
      "execution_count": null,
      "metadata": {
        "colab": {
          "base_uri": "https://localhost:8080/"
        },
        "id": "aiSuknzwEw-N",
        "outputId": "ca18375f-b669-48e5-ab69-950ea8d8e600"
      },
      "outputs": [
        {
          "data": {
            "text/plain": [
              "71"
            ]
          },
          "execution_count": 51,
          "metadata": {},
          "output_type": "execute_result"
        }
      ],
      "source": [
        "import random\n",
        "random.randrange(1,3)#不包含3\n",
        "random.randint(1,100)#包含100"
      ]
    },
    {
      "cell_type": "code",
      "execution_count": null,
      "metadata": {
        "colab": {
          "base_uri": "https://localhost:8080/"
        },
        "id": "IPYBdkTqHHrS",
        "outputId": "e5bc9748-ee68-4250-dc1f-0d8d6925ef1b"
      },
      "outputs": [
        {
          "name": "stdout",
          "output_type": "stream",
          "text": [
            "==========猜數字遊戲==========\n",
            "\n",
            "\n",
            "猜數字範圍1-100:100\n",
            "猜錯了\n",
            "再小一點\n",
            "你猜了1次\n",
            "猜數字範圍1-99:45\n",
            "猜錯了\n",
            "再小一點\n",
            "你猜了2次\n",
            "猜數字範圍1-44:25\n",
            "猜錯了\n",
            "再大一點\n",
            "你猜了3次\n",
            "猜數字範圍26-44:36\n",
            "猜錯了\n",
            "再小一點\n",
            "你猜了4次\n",
            "猜數字範圍26-35:27\n",
            "猜錯了\n",
            "再大一點\n",
            "你猜了5次\n",
            "猜數字範圍28-35:33\n",
            "猜錯了\n",
            "再小一點\n",
            "你猜了6次\n",
            "猜數字範圍28-32:29\n",
            "猜錯了\n",
            "再小一點\n",
            "你猜了7次\n",
            "猜數字範圍28-28:28\n",
            "Bingo!猜對了，答案是28\n",
            "你猜了8次\n",
            "遊戲結束\n"
          ]
        }
      ],
      "source": [
        "import random\n",
        "min = 1\n",
        "max = 100\n",
        "target = random.randint(min,max)\n",
        "count = 0\n",
        "print(\"==========猜數字遊戲==========\\n\\n\")\n",
        "while True:\n",
        "  keyin = int(input(f\"猜數字範圍{min}-{max}:\"))\n",
        "  count += 1\n",
        "  if keyin >= min and keyin <= max:\n",
        "    if keyin == target:\n",
        "      print(f\"Bingo!猜對了，答案是{target}\")\n",
        "      print(f\"你猜了{count}次\")\n",
        "      break\n",
        "    elif keyin > target:\n",
        "      print(\"猜錯了\")\n",
        "      print(\"再小一點\")\n",
        "      max = keyin - 1\n",
        "\n",
        "    elif keyin < target:\n",
        "      print(\"猜錯了\")\n",
        "      print(\"再大一點\")\n",
        "      min = keyin + 1\n",
        "    print(f\"你猜了{count}次\")\n",
        "  else:\n",
        "    print(\"請輸入提示範圍內的數字\")\n",
        "print(\"遊戲結束\")"
      ]
    },
    {
      "cell_type": "code",
      "execution_count": null,
      "metadata": {
        "colab": {
          "base_uri": "https://localhost:8080/"
        },
        "id": "5uI7U-gkLYgj",
        "outputId": "6c2558e2-42bc-42c4-8a03-d724346351c4"
      },
      "outputs": [
        {
          "name": "stdout",
          "output_type": "stream",
          "text": [
            "還要繼續嗎?(y,n)y\n",
            "還要繼續嗎?(y,n)n\n",
            "遊戲結束\n"
          ]
        }
      ],
      "source": [
        "while True:\n",
        "  play_again = input(\"還要繼續嗎?(y,n)\")\n",
        "  if play_again == 'n':\n",
        "    break\n",
        "print(\"遊戲結束\")"
      ]
    }
  ],
  "metadata": {
    "colab": {
      "authorship_tag": "ABX9TyPBmZUZPmV/S+U/UVQdAS6D",
      "include_colab_link": true,
      "provenance": []
    },
    "kernelspec": {
      "display_name": "Python 3",
      "name": "python3"
    },
    "language_info": {
      "codemirror_mode": {
        "name": "ipython",
        "version": 3
      },
      "file_extension": ".py",
      "mimetype": "text/x-python",
      "name": "python",
      "nbconvert_exporter": "python",
      "pygments_lexer": "ipython3",
      "version": "3.11.4"
    }
  },
  "nbformat": 4,
  "nbformat_minor": 0
}
