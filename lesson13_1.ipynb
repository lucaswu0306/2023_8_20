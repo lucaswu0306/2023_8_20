{
 "cells": [
  {
   "cell_type": "code",
   "execution_count": 1,
   "metadata": {},
   "outputs": [],
   "source": [
    "a1 = 10\n",
    "n1 = 10.0\n",
    "x1 = \"Hello Python\""
   ]
  },
  {
   "cell_type": "code",
   "execution_count": 4,
   "metadata": {},
   "outputs": [
    {
     "name": "stdout",
     "output_type": "stream",
     "text": [
      "<class 'int'>\n",
      "<class 'float'>\n",
      "<class 'str'>\n"
     ]
    }
   ],
   "source": [
    "print(type(a1))\n",
    "print(type(n1))\n",
    "print(type(x1))"
   ]
  },
  {
   "cell_type": "code",
   "execution_count": 31,
   "metadata": {},
   "outputs": [],
   "source": [
    "class Student:#有內建的init\n",
    "    pass\n",
    "\n",
    "stu1 = Student()#只要打class的名稱student()就是執行內建的init\n",
    "#動態attribute(屬性)\n",
    "stu1.name = \"吳曜均\"\n",
    "stu1.chinese = 78\n",
    "stu1.math = 56\n",
    "stu1.english = 98\n",
    "#=========================\n",
    "stu2 = Student()\n",
    "#動態attribute(屬性)\n",
    "stu2.name = \"吳芷芸\"\n",
    "stu2.chinese = 45\n",
    "stu2.math = 88\n",
    "stu2.english = 65"
   ]
  },
  {
   "cell_type": "code",
   "execution_count": null,
   "metadata": {},
   "outputs": [],
   "source": [
    "stu1.name, stu1.chinese, stu1.math, stu1.english"
   ]
  },
  {
   "cell_type": "code",
   "execution_count": null,
   "metadata": {},
   "outputs": [],
   "source": [
    "stu2.name, stu2.chinese, stu2.math, stu2.english"
   ]
  },
  {
   "cell_type": "code",
   "execution_count": 28,
   "metadata": {},
   "outputs": [
    {
     "name": "stdout",
     "output_type": "stream",
     "text": [
      "名字:吳曜均\n",
      "國文:62\n",
      "數學:98\n",
      "英文:56\n",
      "================================\n",
      "名字:吳芷芸\n",
      "國文:89\n",
      "數學:23\n",
      "英文:47\n"
     ]
    }
   ],
   "source": [
    "class Student:#一個類別\n",
    "    #自訂初始化(自訂的initial)\n",
    "    def __init__(self,name,chinese,math,english):\n",
    "        #實體的attribute(實體)\n",
    "        self.name = name\n",
    "        self.chinese = chinese\n",
    "        self.math = math\n",
    "        self.english = english\n",
    "    #實體方法(method)    \n",
    "    def total(self):\n",
    "        return self.chinese + self.math + self.english\n",
    "    \n",
    "    #實體的property(實體)\n",
    "    @property\n",
    "    def average(self):\n",
    "        return self.total() / 3.0\n",
    "    \n",
    "    #實體屬性跟實體方法的差別，在於呼叫時，實體屬性不用括號，但實體方法要括號()\n",
    "    \n",
    "    def __repr__(self):\n",
    "        return f\"名字:{self.name}\\n國文:{self.chinese}\\n數學:{self.math}\\n英文:{self.english}\"\n",
    "\n",
    "stu1 = Student(\"吳曜均\",62,98,56)#/參數self不用傳入引數，自動傳入/ #會藉由Student()去呼叫初始化函數，產生實體化物件儲存在stu1的變數裡\n",
    "#stu1 是Student的實體化物件(object)的變數\n",
    "print(stu1)\n",
    "print(\"================================\")\n",
    "#obj = 類別名稱() #呼叫初始化函數\n",
    "stu2 = Student(\"吳芷芸\",89,23,47)#stu2 是Student的實體化物件(object)\n",
    "print(stu2)"
   ]
  },
  {
   "cell_type": "code",
   "execution_count": 35,
   "metadata": {},
   "outputs": [
    {
     "name": "stdout",
     "output_type": "stream",
     "text": [
      "名字:吳曜均\n",
      "國文:94\n",
      "數學:68\n",
      "英文:53\n",
      "================================\n",
      "名字:吳芷芸\n",
      "國文:63\n",
      "數學:53\n",
      "英文:79\n"
     ]
    }
   ],
   "source": [
    "class Student:\n",
    "    #自訂初始化(自訂的initial)\n",
    "    def __init__(self,name,chinese,math,english):\n",
    "        #實體的attribute(屬性)\n",
    "        self.name = name\n",
    "        self.chinese = chinese\n",
    "        self.math = math\n",
    "        self.english = english\n",
    "    #實體方法(method)    \n",
    "    def total(self):\n",
    "        return self.chinese + self.math + self.english\n",
    "    \n",
    "    #實體的property(屬性)\n",
    "    @property\n",
    "    def average(self):\n",
    "        return self.total() / 3.0\n",
    "    \n",
    "    #實體屬性跟實體方法的差別，在於呼叫時，實體屬性不用括號，但實體方法要括號()\n",
    "    \n",
    "    def __repr__(self):\n",
    "        return f\"名字:{self.name}\\n國文:{self.chinese}\\n數學:{self.math}\\n英文:{self.english}\"\n",
    "\n",
    "import random\n",
    "def generate_student(name:str)->Student:\n",
    "    stu = student(name,0,0,0)\n",
    "    stu.chinese = random.randint(50,100)\n",
    "    stu.math = random.randint(50,100)\n",
    "    stu.english = random.randint(50,100)\n",
    "    return stu\n",
    "stu1 = generate_student(\"吳曜均\")\n",
    "print(stu1)\n",
    "print(\"================================\")\n",
    "\n",
    "stu2 = generate_student(\"吳芷芸\")\n",
    "print(stu2)"
   ]
  },
  {
   "cell_type": "code",
   "execution_count": null,
   "metadata": {},
   "outputs": [],
   "source": [
    "print(stu1.name, stu1.chinese, stu1.math, stu1.english)\n",
    "print(stu1.total())\n",
    "print(stu1.average)\n",
    "print(stu1)"
   ]
  },
  {
   "cell_type": "code",
   "execution_count": null,
   "metadata": {},
   "outputs": [],
   "source": [
    "print(stu2.name, stu2.chinese, stu2.math, stu2.english)\n",
    "print(stu2.total())\n",
    "print(stu2.average)\n",
    "print(stu2)"
   ]
  },
  {
   "cell_type": "code",
   "execution_count": 30,
   "metadata": {},
   "outputs": [
    {
     "data": {
      "text/plain": [
       "list"
      ]
     },
     "execution_count": 30,
     "metadata": {},
     "output_type": "execute_result"
    }
   ],
   "source": [
    "number = [1,2,3,4,5,6,7]\n",
    "type(number)"
   ]
  },
  {
   "cell_type": "code",
   "execution_count": null,
   "metadata": {},
   "outputs": [],
   "source": []
  }
 ],
 "metadata": {
  "kernelspec": {
   "display_name": "Python 3",
   "language": "python",
   "name": "python3"
  },
  "language_info": {
   "codemirror_mode": {
    "name": "ipython",
    "version": 3
   },
   "file_extension": ".py",
   "mimetype": "text/x-python",
   "name": "python",
   "nbconvert_exporter": "python",
   "pygments_lexer": "ipython3",
   "version": "3.11.6"
  },
  "orig_nbformat": 4
 },
 "nbformat": 4,
 "nbformat_minor": 2
}
